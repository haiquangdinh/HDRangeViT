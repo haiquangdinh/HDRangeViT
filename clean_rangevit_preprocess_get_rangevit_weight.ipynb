{
 "cells": [
  {
   "cell_type": "markdown",
   "id": "c379e83a",
   "metadata": {},
   "source": [
    "# <span style=\"color:red; font-weight:bold; \">A clean and modern RangeViT implementation for SemanticKITTI in PyTorch 2.4</span>  "
   ]
  },
  {
   "cell_type": "markdown",
   "id": "a85e44a8",
   "metadata": {},
   "source": [
    "## <span style=\"font-weight:bold\">1. DataLoader</span>\n",
    "\n",
    "### 1.1 Dataset Structure\n",
    "The dataset should be structured as follows:\n",
    "```\n",
    "sequences/\n",
    "├── 00/\n",
    "│   ├── preprocess/\n",
    "│   │   ├── 000000.bin\n",
    "│   │   ├── 000001.bin\n",
    "├── 01/\n",
    "│   ├── preprocess/\n",
    "│   │   ├── 000000.bin\n",
    "│   │   ├── 000001.bin\n",
    "```\n",
    "\n"
   ]
  },
  {
   "cell_type": "code",
   "execution_count": 1,
   "id": "6b73372e",
   "metadata": {},
   "outputs": [],
   "source": [
    "import torch.optim as optim\n",
    "import torch\n",
    "import numpy as np\n",
    "\n",
    "import os\n",
    "import torch\n",
    "from torch.utils.data import Dataset\n",
    "import torchvision.transforms as transforms\n",
    "\n",
    "from torch.utils.data import Dataset, DataLoader\n",
    "\n",
    "import timm\n",
    "import torch\n",
    "import torch.nn as nn\n",
    "import torch.nn.functional as F\n",
    "\n",
    "from tqdm.notebook import tqdm\n",
    "\n",
    "from model.KITTISegmentationDataset import KITTISegmentationDataset\n",
    "from model.RangeViTSegmentationModel import RangeViTSegmentationModel\n",
    "\n",
    "from segmentation_models_pytorch.losses import FocalLoss, LovaszLoss\n"
   ]
  },
  {
   "cell_type": "code",
   "execution_count": 2,
   "id": "ace32aa9",
   "metadata": {},
   "outputs": [],
   "source": [
    "device = torch.device('cuda' if torch.cuda.is_available() else 'cpu')\n",
    "dataset = KITTISegmentationDataset('../sequences',['00', '01', '02', '03', '04', '05', '06', '07', '09', '10'], training=True)\n",
    "loader = DataLoader(dataset, batch_size=32, shuffle=True, num_workers=4)\n",
    "\n",
    "val_dataset = KITTISegmentationDataset('../sequences',['08'], training=False)\n",
    "val_loader = DataLoader(val_dataset, batch_size=16, shuffle=False, num_workers=4)\n",
    "\n"
   ]
  },
  {
   "cell_type": "code",
   "execution_count": 3,
   "id": "f224fafb",
   "metadata": {},
   "outputs": [],
   "source": [
    "# Use torchmetrics or do manually\n",
    "from torchmetrics.classification import MulticlassJaccardIndex\n",
    "# create a metric and put it on gpu\n",
    "metric = MulticlassJaccardIndex(num_classes=20, average=None, ignore_index=0).to(device)\n",
    "\n",
    "num_classes = 20\n",
    "in_channels = 9 # range, x, y, z, intensity, flag, R, G, B\n",
    "num_epochs = 60\n",
    "model = RangeViTSegmentationModel(n_classes=num_classes, in_channels=in_channels).to(device)\n",
    "# criterion = LovaszLoss(mode='multiclass', ignore_index=0, per_image=False)\n",
    "focal = FocalLoss(mode='multiclass', ignore_index=0)\n",
    "lovasz = LovaszLoss(mode='multiclass', ignore_index=0, per_image=False)\n",
    "def criterion(outputs, targets):\n",
    "    return focal(outputs, targets) + lovasz(outputs, targets)\n",
    "optimizer = optim.AdamW(model.parameters(), lr=0.0004, weight_decay=0.01, betas=(0.9, 0.999))\n",
    "\n",
    "from torch.optim.lr_scheduler import CosineAnnealingLR\n",
    "scheduler = CosineAnnealingLR(optimizer, T_max=num_epochs, eta_min=0)"
   ]
  },
  {
   "cell_type": "code",
   "execution_count": 4,
   "id": "96fa795e",
   "metadata": {},
   "outputs": [],
   "source": [
    "def train_one_epoch(model, loader, optimizer, criterion, metric,epoch):\n",
    "    model.train()\n",
    "    total_loss = 0.0\n",
    "    metric.reset()  # Reset the IoU metric for the next epoch\n",
    "    batch_bar = tqdm(loader, desc=f\"Training Epoch {epoch+1}\", leave=False)\n",
    "    for imgs, labels in batch_bar:\n",
    "        imgs = imgs.to(device)\n",
    "        labels = labels.to(device)\n",
    "        optimizer.zero_grad()\n",
    "        outputs = model(imgs)\n",
    "        loss = criterion(outputs, labels)\n",
    "        preds = outputs.argmax(dim=1)\n",
    "        metric.update(preds, labels)\n",
    "        ious = metric.compute()\n",
    "        mean_iou = torch.mean(ious[ious != 0])\n",
    "        loss.backward()\n",
    "        optimizer.step()\n",
    "        batch_bar.set_postfix(loss=loss.item(), mIoU=mean_iou.item())\n",
    "        total_loss += loss.item()\n",
    "    print(f\"Epoch [{epoch+1}] Loss: {total_loss/len(loader):.4f}, mIoU: {mean_iou.item():.4f}\")\n"
   ]
  },
  {
   "cell_type": "code",
   "execution_count": 5,
   "id": "dec6f1fc",
   "metadata": {},
   "outputs": [],
   "source": [
    "def eval_model(model, loader, criterion, metric):\n",
    "    model.eval()\n",
    "    total_loss = 0.0\n",
    "    metric.reset()  # Reset the IoU metric for the evaluation\n",
    "    with torch.no_grad():\n",
    "        batch_bar = tqdm(loader, desc=\"Evaluating\", leave=False)\n",
    "        for imgs, labels in batch_bar:\n",
    "            imgs = imgs.to(device)\n",
    "            labels = labels.to(device)\n",
    "            outputs = model(imgs)\n",
    "            loss = criterion(outputs, labels)\n",
    "            preds = outputs.argmax(dim=1)\n",
    "            metric.update(preds, labels)\n",
    "            ious = metric.compute()\n",
    "            mean_iou = torch.mean(ious[ious != 0])\n",
    "            batch_bar.set_postfix(loss=loss.item(), mIoU=mean_iou.item())\n",
    "            total_loss += loss.item()\n",
    "    print(f\"Evaluation Loss: {total_loss/len(loader):.4f}, mIoU: {mean_iou.item():.4f}\")\n"
   ]
  },
  {
   "cell_type": "code",
   "execution_count": 6,
   "id": "06a87603",
   "metadata": {},
   "outputs": [
    {
     "name": "stdout",
     "output_type": "stream",
     "text": [
      "Loading pre-trained model from range_vit_segmentation.pth\n"
     ]
    }
   ],
   "source": [
    "# Load the model if you have a pre-trained one\n",
    "pretrain_path = 'range_vit_segmentation.pth'\n",
    "if os.path.exists(pretrain_path):\n",
    "    print(f\"Loading pre-trained model from {pretrain_path}\")\n",
    "    model.load_state_dict(torch.load('range_vit_segmentation.pth'))"
   ]
  },
  {
   "cell_type": "code",
   "execution_count": 7,
   "id": "19acf460",
   "metadata": {},
   "outputs": [],
   "source": [
    "# dirty\n",
    "# 1. load the ../model_skitti_trainval_cs_init_h256.pth\n",
    "# 2. copy model.rangevit.encoder.blocks to the model state_dict['backbone.blocks']\n",
    "# 3. freeze the backbone\n",
    "state_dict = torch.load(\"../model_skitti_trainval_cs_init_h256.pth\", map_location=\"cpu\")\n",
    "# Filter keys for blocks\n",
    "blocks_state_dict = {}\n",
    "for k, v in state_dict['model'].items():\n",
    "    if 'rangevit.encoder.blocks' in k:\n",
    "        # Remove the prefix so keys match model.backbone.blocks\n",
    "        new_k = k.replace('rangevit.encoder.blocks.', '')\n",
    "        blocks_state_dict[new_k] = v\n",
    "\n",
    "# Load into model\n",
    "model.backbone.blocks.load_state_dict(blocks_state_dict, strict=False)\n",
    "for param in model.backbone.blocks.parameters():\n",
    "    param.requires_grad = False"
   ]
  },
  {
   "cell_type": "code",
   "execution_count": 8,
   "id": "04dc87f2",
   "metadata": {},
   "outputs": [],
   "source": [
    "# Freeze multi-head attention layers, fine-tune LayerNorm and MLP layers in ViT encoder\n",
    "# for name, module in model.backbone.named_modules():\n",
    "#     # Freeze all MultiheadAttention layers\n",
    "#     if isinstance(module, torch.nn.modules.activation.MultiheadAttention) or 'attn' in name:\n",
    "#         for param in module.parameters():\n",
    "#             param.requires_grad = False\n",
    "#     # Unfreeze LayerNorm and MLP layers\n",
    "#     if isinstance(module, torch.nn.LayerNorm) or 'mlp' in name:\n",
    "#         for param in module.parameters():\n",
    "#             param.requires_grad = True\n"
   ]
  },
  {
   "cell_type": "code",
   "execution_count": 9,
   "id": "4f9d299f",
   "metadata": {},
   "outputs": [
    {
     "data": {
      "application/vnd.jupyter.widget-view+json": {
       "model_id": "6466ddf60b5848f48196b4cb831f879a",
       "version_major": 2,
       "version_minor": 0
      },
      "text/plain": [
       "Epochs:   0%|          | 0/60 [00:00<?, ?it/s]"
      ]
     },
     "metadata": {},
     "output_type": "display_data"
    },
    {
     "data": {
      "application/vnd.jupyter.widget-view+json": {
       "model_id": "620c69240ae244ca92e6774ad4cf9312",
       "version_major": 2,
       "version_minor": 0
      },
      "text/plain": [
       "Training Epoch 1:   0%|          | 0/598 [00:00<?, ?it/s]"
      ]
     },
     "metadata": {},
     "output_type": "display_data"
    },
    {
     "name": "stdout",
     "output_type": "stream",
     "text": [
      "Epoch [1] Loss: 1.0559, mIoU: 0.3091\n"
     ]
    },
    {
     "data": {
      "application/vnd.jupyter.widget-view+json": {
       "model_id": "c684c81ae94f4c338550fee8c8e8edc0",
       "version_major": 2,
       "version_minor": 0
      },
      "text/plain": [
       "Evaluating:   0%|          | 0/255 [00:00<?, ?it/s]"
      ]
     },
     "metadata": {},
     "output_type": "display_data"
    },
    {
     "name": "stdout",
     "output_type": "stream",
     "text": [
      "Evaluation Loss: 1.0796, mIoU: 0.2633\n"
     ]
    },
    {
     "data": {
      "application/vnd.jupyter.widget-view+json": {
       "model_id": "0cfe0a1d4ef949c19d46e05f2d0ad034",
       "version_major": 2,
       "version_minor": 0
      },
      "text/plain": [
       "Training Epoch 2:   0%|          | 0/598 [00:00<?, ?it/s]"
      ]
     },
     "metadata": {},
     "output_type": "display_data"
    },
    {
     "name": "stdout",
     "output_type": "stream",
     "text": [
      "Epoch [2] Loss: 0.9913, mIoU: 0.3401\n"
     ]
    },
    {
     "data": {
      "application/vnd.jupyter.widget-view+json": {
       "model_id": "ff79e03fc73547e4a244327cb10f5ea9",
       "version_major": 2,
       "version_minor": 0
      },
      "text/plain": [
       "Training Epoch 3:   0%|          | 0/598 [00:00<?, ?it/s]"
      ]
     },
     "metadata": {},
     "output_type": "display_data"
    },
    {
     "name": "stdout",
     "output_type": "stream",
     "text": [
      "Epoch [3] Loss: 0.9679, mIoU: 0.3550\n"
     ]
    },
    {
     "data": {
      "application/vnd.jupyter.widget-view+json": {
       "model_id": "b884f0bef7634db7a515c36bdb6f83eb",
       "version_major": 2,
       "version_minor": 0
      },
      "text/plain": [
       "Training Epoch 4:   0%|          | 0/598 [00:00<?, ?it/s]"
      ]
     },
     "metadata": {},
     "output_type": "display_data"
    },
    {
     "name": "stdout",
     "output_type": "stream",
     "text": [
      "Epoch [4] Loss: 0.9486, mIoU: 0.3652\n"
     ]
    },
    {
     "data": {
      "application/vnd.jupyter.widget-view+json": {
       "model_id": "9525ca92995247be8f1db7b42f97809f",
       "version_major": 2,
       "version_minor": 0
      },
      "text/plain": [
       "Training Epoch 5:   0%|          | 0/598 [00:00<?, ?it/s]"
      ]
     },
     "metadata": {},
     "output_type": "display_data"
    },
    {
     "name": "stdout",
     "output_type": "stream",
     "text": [
      "Epoch [5] Loss: 0.9350, mIoU: 0.3732\n"
     ]
    },
    {
     "data": {
      "application/vnd.jupyter.widget-view+json": {
       "model_id": "f61422e99efc401fb5bf29008f267b97",
       "version_major": 2,
       "version_minor": 0
      },
      "text/plain": [
       "Training Epoch 6:   0%|          | 0/598 [00:00<?, ?it/s]"
      ]
     },
     "metadata": {},
     "output_type": "display_data"
    },
    {
     "name": "stdout",
     "output_type": "stream",
     "text": [
      "Epoch [6] Loss: 0.9254, mIoU: 0.3808\n"
     ]
    },
    {
     "data": {
      "application/vnd.jupyter.widget-view+json": {
       "model_id": "032d03d154114a7dafe4977aae155937",
       "version_major": 2,
       "version_minor": 0
      },
      "text/plain": [
       "Evaluating:   0%|          | 0/255 [00:00<?, ?it/s]"
      ]
     },
     "metadata": {},
     "output_type": "display_data"
    },
    {
     "name": "stdout",
     "output_type": "stream",
     "text": [
      "Evaluation Loss: 0.9887, mIoU: 0.2895\n"
     ]
    },
    {
     "data": {
      "application/vnd.jupyter.widget-view+json": {
       "model_id": "9491a8f8667541f698b8b6c575116bcd",
       "version_major": 2,
       "version_minor": 0
      },
      "text/plain": [
       "Training Epoch 7:   0%|          | 0/598 [00:00<?, ?it/s]"
      ]
     },
     "metadata": {},
     "output_type": "display_data"
    },
    {
     "name": "stdout",
     "output_type": "stream",
     "text": [
      "Epoch [7] Loss: 0.9140, mIoU: 0.3874\n"
     ]
    },
    {
     "data": {
      "application/vnd.jupyter.widget-view+json": {
       "model_id": "d30fb22bcc8c45e2b628cc763ae5476b",
       "version_major": 2,
       "version_minor": 0
      },
      "text/plain": [
       "Training Epoch 8:   0%|          | 0/598 [00:00<?, ?it/s]"
      ]
     },
     "metadata": {},
     "output_type": "display_data"
    },
    {
     "name": "stdout",
     "output_type": "stream",
     "text": [
      "Epoch [8] Loss: 0.9053, mIoU: 0.3943\n"
     ]
    },
    {
     "data": {
      "application/vnd.jupyter.widget-view+json": {
       "model_id": "bb76e117a9e645e691b1f5b8e015c5a7",
       "version_major": 2,
       "version_minor": 0
      },
      "text/plain": [
       "Training Epoch 9:   0%|          | 0/598 [00:00<?, ?it/s]"
      ]
     },
     "metadata": {},
     "output_type": "display_data"
    },
    {
     "name": "stdout",
     "output_type": "stream",
     "text": [
      "Epoch [9] Loss: 0.8978, mIoU: 0.3987\n"
     ]
    },
    {
     "data": {
      "application/vnd.jupyter.widget-view+json": {
       "model_id": "6c567fc35fe24b08a6458b5b88df12ce",
       "version_major": 2,
       "version_minor": 0
      },
      "text/plain": [
       "Training Epoch 10:   0%|          | 0/598 [00:00<?, ?it/s]"
      ]
     },
     "metadata": {},
     "output_type": "display_data"
    },
    {
     "name": "stdout",
     "output_type": "stream",
     "text": [
      "Epoch [10] Loss: 0.8899, mIoU: 0.4051\n"
     ]
    },
    {
     "data": {
      "application/vnd.jupyter.widget-view+json": {
       "model_id": "99d931967007484985b8fb7035748e48",
       "version_major": 2,
       "version_minor": 0
      },
      "text/plain": [
       "Training Epoch 11:   0%|          | 0/598 [00:00<?, ?it/s]"
      ]
     },
     "metadata": {},
     "output_type": "display_data"
    },
    {
     "name": "stdout",
     "output_type": "stream",
     "text": [
      "Epoch [11] Loss: 0.8834, mIoU: 0.4101\n"
     ]
    },
    {
     "data": {
      "application/vnd.jupyter.widget-view+json": {
       "model_id": "59e900661ac8464abfe8e39028f83104",
       "version_major": 2,
       "version_minor": 0
      },
      "text/plain": [
       "Evaluating:   0%|          | 0/255 [00:00<?, ?it/s]"
      ]
     },
     "metadata": {},
     "output_type": "display_data"
    },
    {
     "name": "stdout",
     "output_type": "stream",
     "text": [
      "Evaluation Loss: 0.9461, mIoU: 0.3078\n"
     ]
    },
    {
     "data": {
      "application/vnd.jupyter.widget-view+json": {
       "model_id": "bf7ee2155f7e4f4e828c1e1c4066f8c8",
       "version_major": 2,
       "version_minor": 0
      },
      "text/plain": [
       "Training Epoch 12:   0%|          | 0/598 [00:00<?, ?it/s]"
      ]
     },
     "metadata": {},
     "output_type": "display_data"
    },
    {
     "name": "stdout",
     "output_type": "stream",
     "text": [
      "Epoch [12] Loss: 0.8775, mIoU: 0.4142\n"
     ]
    },
    {
     "data": {
      "application/vnd.jupyter.widget-view+json": {
       "model_id": "475753d186fe42c1be9e938589d10d5b",
       "version_major": 2,
       "version_minor": 0
      },
      "text/plain": [
       "Training Epoch 13:   0%|          | 0/598 [00:00<?, ?it/s]"
      ]
     },
     "metadata": {},
     "output_type": "display_data"
    },
    {
     "name": "stdout",
     "output_type": "stream",
     "text": [
      "Epoch [13] Loss: 0.8741, mIoU: 0.4169\n"
     ]
    },
    {
     "data": {
      "application/vnd.jupyter.widget-view+json": {
       "model_id": "746316152413464ab4ea0857a25152af",
       "version_major": 2,
       "version_minor": 0
      },
      "text/plain": [
       "Training Epoch 14:   0%|          | 0/598 [00:00<?, ?it/s]"
      ]
     },
     "metadata": {},
     "output_type": "display_data"
    },
    {
     "name": "stdout",
     "output_type": "stream",
     "text": [
      "Epoch [14] Loss: 0.8667, mIoU: 0.4236\n"
     ]
    },
    {
     "data": {
      "application/vnd.jupyter.widget-view+json": {
       "model_id": "8da0caa2732c4ffdb4a859224c592761",
       "version_major": 2,
       "version_minor": 0
      },
      "text/plain": [
       "Training Epoch 15:   0%|          | 0/598 [00:00<?, ?it/s]"
      ]
     },
     "metadata": {},
     "output_type": "display_data"
    },
    {
     "name": "stdout",
     "output_type": "stream",
     "text": [
      "Epoch [15] Loss: 0.8607, mIoU: 0.4274\n"
     ]
    },
    {
     "data": {
      "application/vnd.jupyter.widget-view+json": {
       "model_id": "338693aca8f140c8b9ddbef1350182c4",
       "version_major": 2,
       "version_minor": 0
      },
      "text/plain": [
       "Training Epoch 16:   0%|          | 0/598 [00:00<?, ?it/s]"
      ]
     },
     "metadata": {},
     "output_type": "display_data"
    },
    {
     "name": "stdout",
     "output_type": "stream",
     "text": [
      "Epoch [16] Loss: 0.8591, mIoU: 0.4300\n"
     ]
    },
    {
     "data": {
      "application/vnd.jupyter.widget-view+json": {
       "model_id": "ba3d1030d56f401e82e89ad938da1a8a",
       "version_major": 2,
       "version_minor": 0
      },
      "text/plain": [
       "Evaluating:   0%|          | 0/255 [00:00<?, ?it/s]"
      ]
     },
     "metadata": {},
     "output_type": "display_data"
    },
    {
     "name": "stdout",
     "output_type": "stream",
     "text": [
      "Evaluation Loss: 0.9259, mIoU: 0.3226\n"
     ]
    },
    {
     "data": {
      "application/vnd.jupyter.widget-view+json": {
       "model_id": "c24765397eef42baad1c65cd0878283b",
       "version_major": 2,
       "version_minor": 0
      },
      "text/plain": [
       "Training Epoch 17:   0%|          | 0/598 [00:00<?, ?it/s]"
      ]
     },
     "metadata": {},
     "output_type": "display_data"
    },
    {
     "name": "stdout",
     "output_type": "stream",
     "text": [
      "Epoch [17] Loss: 0.8544, mIoU: 0.4327\n"
     ]
    },
    {
     "data": {
      "application/vnd.jupyter.widget-view+json": {
       "model_id": "df0de28c04554045b6405be4002d8306",
       "version_major": 2,
       "version_minor": 0
      },
      "text/plain": [
       "Training Epoch 18:   0%|          | 0/598 [00:00<?, ?it/s]"
      ]
     },
     "metadata": {},
     "output_type": "display_data"
    },
    {
     "name": "stdout",
     "output_type": "stream",
     "text": [
      "Epoch [18] Loss: 0.8487, mIoU: 0.4375\n"
     ]
    },
    {
     "data": {
      "application/vnd.jupyter.widget-view+json": {
       "model_id": "12bfbf80476d475399351aba5980f174",
       "version_major": 2,
       "version_minor": 0
      },
      "text/plain": [
       "Training Epoch 19:   0%|          | 0/598 [00:00<?, ?it/s]"
      ]
     },
     "metadata": {},
     "output_type": "display_data"
    },
    {
     "name": "stdout",
     "output_type": "stream",
     "text": [
      "Epoch [19] Loss: 0.8449, mIoU: 0.4388\n"
     ]
    },
    {
     "data": {
      "application/vnd.jupyter.widget-view+json": {
       "model_id": "faf904ac794f44359d2e2ee513848668",
       "version_major": 2,
       "version_minor": 0
      },
      "text/plain": [
       "Training Epoch 20:   0%|          | 0/598 [00:00<?, ?it/s]"
      ]
     },
     "metadata": {},
     "output_type": "display_data"
    },
    {
     "name": "stdout",
     "output_type": "stream",
     "text": [
      "Epoch [20] Loss: 0.8406, mIoU: 0.4434\n"
     ]
    },
    {
     "data": {
      "application/vnd.jupyter.widget-view+json": {
       "model_id": "de1920b8a4494200bb4c9e740d1a82ea",
       "version_major": 2,
       "version_minor": 0
      },
      "text/plain": [
       "Training Epoch 21:   0%|          | 0/598 [00:00<?, ?it/s]"
      ]
     },
     "metadata": {},
     "output_type": "display_data"
    },
    {
     "name": "stdout",
     "output_type": "stream",
     "text": [
      "Epoch [21] Loss: 0.8363, mIoU: 0.4466\n"
     ]
    },
    {
     "data": {
      "application/vnd.jupyter.widget-view+json": {
       "model_id": "4385b2e0db8a4ffabfb6ad33b23666d8",
       "version_major": 2,
       "version_minor": 0
      },
      "text/plain": [
       "Evaluating:   0%|          | 0/255 [00:00<?, ?it/s]"
      ]
     },
     "metadata": {},
     "output_type": "display_data"
    },
    {
     "name": "stdout",
     "output_type": "stream",
     "text": [
      "Evaluation Loss: 0.9259, mIoU: 0.3230\n"
     ]
    },
    {
     "data": {
      "application/vnd.jupyter.widget-view+json": {
       "model_id": "f52265c7576941f2b428e0d8b4b12bac",
       "version_major": 2,
       "version_minor": 0
      },
      "text/plain": [
       "Training Epoch 22:   0%|          | 0/598 [00:00<?, ?it/s]"
      ]
     },
     "metadata": {},
     "output_type": "display_data"
    },
    {
     "name": "stdout",
     "output_type": "stream",
     "text": [
      "Epoch [22] Loss: 0.8325, mIoU: 0.4498\n"
     ]
    },
    {
     "data": {
      "application/vnd.jupyter.widget-view+json": {
       "model_id": "543944cee14146efa5969d5f60b9072d",
       "version_major": 2,
       "version_minor": 0
      },
      "text/plain": [
       "Training Epoch 23:   0%|          | 0/598 [00:00<?, ?it/s]"
      ]
     },
     "metadata": {},
     "output_type": "display_data"
    },
    {
     "name": "stdout",
     "output_type": "stream",
     "text": [
      "Epoch [23] Loss: 0.8275, mIoU: 0.4541\n"
     ]
    },
    {
     "data": {
      "application/vnd.jupyter.widget-view+json": {
       "model_id": "2c6200f2379949adb2d82dc6f3d9ff10",
       "version_major": 2,
       "version_minor": 0
      },
      "text/plain": [
       "Training Epoch 24:   0%|          | 0/598 [00:00<?, ?it/s]"
      ]
     },
     "metadata": {},
     "output_type": "display_data"
    },
    {
     "name": "stdout",
     "output_type": "stream",
     "text": [
      "Epoch [24] Loss: 0.8239, mIoU: 0.4571\n"
     ]
    },
    {
     "data": {
      "application/vnd.jupyter.widget-view+json": {
       "model_id": "809bc46ff41a4b718e872c8b0cda5e5b",
       "version_major": 2,
       "version_minor": 0
      },
      "text/plain": [
       "Training Epoch 25:   0%|          | 0/598 [00:00<?, ?it/s]"
      ]
     },
     "metadata": {},
     "output_type": "display_data"
    },
    {
     "name": "stdout",
     "output_type": "stream",
     "text": [
      "Epoch [25] Loss: 0.8233, mIoU: 0.4596\n"
     ]
    },
    {
     "data": {
      "application/vnd.jupyter.widget-view+json": {
       "model_id": "baa5d2fe60714911a88473f72260a8f0",
       "version_major": 2,
       "version_minor": 0
      },
      "text/plain": [
       "Training Epoch 26:   0%|          | 0/598 [00:00<?, ?it/s]"
      ]
     },
     "metadata": {},
     "output_type": "display_data"
    },
    {
     "name": "stdout",
     "output_type": "stream",
     "text": [
      "Epoch [26] Loss: 0.8186, mIoU: 0.4615\n"
     ]
    },
    {
     "data": {
      "application/vnd.jupyter.widget-view+json": {
       "model_id": "03e28163a5de420f80fbfa4ea1e23215",
       "version_major": 2,
       "version_minor": 0
      },
      "text/plain": [
       "Evaluating:   0%|          | 0/255 [00:00<?, ?it/s]"
      ]
     },
     "metadata": {},
     "output_type": "display_data"
    },
    {
     "name": "stdout",
     "output_type": "stream",
     "text": [
      "Evaluation Loss: 0.9156, mIoU: 0.3252\n"
     ]
    },
    {
     "data": {
      "application/vnd.jupyter.widget-view+json": {
       "model_id": "e2ddbf71f6024d1eaff694893464cdaf",
       "version_major": 2,
       "version_minor": 0
      },
      "text/plain": [
       "Training Epoch 27:   0%|          | 0/598 [00:00<?, ?it/s]"
      ]
     },
     "metadata": {},
     "output_type": "display_data"
    },
    {
     "name": "stdout",
     "output_type": "stream",
     "text": [
      "Epoch [27] Loss: 0.8148, mIoU: 0.4645\n"
     ]
    },
    {
     "data": {
      "application/vnd.jupyter.widget-view+json": {
       "model_id": "bf79fa73c8bc4f7fb0fab3cfb170503f",
       "version_major": 2,
       "version_minor": 0
      },
      "text/plain": [
       "Training Epoch 28:   0%|          | 0/598 [00:00<?, ?it/s]"
      ]
     },
     "metadata": {},
     "output_type": "display_data"
    },
    {
     "name": "stdout",
     "output_type": "stream",
     "text": [
      "Epoch [28] Loss: 0.8132, mIoU: 0.4675\n"
     ]
    },
    {
     "data": {
      "application/vnd.jupyter.widget-view+json": {
       "model_id": "1d3280b17b094152a5952662ee3af9c6",
       "version_major": 2,
       "version_minor": 0
      },
      "text/plain": [
       "Training Epoch 29:   0%|          | 0/598 [00:00<?, ?it/s]"
      ]
     },
     "metadata": {},
     "output_type": "display_data"
    },
    {
     "name": "stdout",
     "output_type": "stream",
     "text": [
      "Epoch [29] Loss: 0.8091, mIoU: 0.4709\n"
     ]
    },
    {
     "data": {
      "application/vnd.jupyter.widget-view+json": {
       "model_id": "f36892aec8c24c01a0646bab2027feb2",
       "version_major": 2,
       "version_minor": 0
      },
      "text/plain": [
       "Training Epoch 30:   0%|          | 0/598 [00:00<?, ?it/s]"
      ]
     },
     "metadata": {},
     "output_type": "display_data"
    },
    {
     "name": "stdout",
     "output_type": "stream",
     "text": [
      "Epoch [30] Loss: 0.8064, mIoU: 0.4730\n"
     ]
    },
    {
     "data": {
      "application/vnd.jupyter.widget-view+json": {
       "model_id": "4d4d509bcc724137be2eb89a286392d3",
       "version_major": 2,
       "version_minor": 0
      },
      "text/plain": [
       "Training Epoch 31:   0%|          | 0/598 [00:00<?, ?it/s]"
      ]
     },
     "metadata": {},
     "output_type": "display_data"
    },
    {
     "name": "stdout",
     "output_type": "stream",
     "text": [
      "Epoch [31] Loss: 0.8007, mIoU: 0.4761\n"
     ]
    },
    {
     "data": {
      "application/vnd.jupyter.widget-view+json": {
       "model_id": "c198d4ee3ecb4cc6b8cdf28a3dd0700a",
       "version_major": 2,
       "version_minor": 0
      },
      "text/plain": [
       "Evaluating:   0%|          | 0/255 [00:00<?, ?it/s]"
      ]
     },
     "metadata": {},
     "output_type": "display_data"
    },
    {
     "name": "stdout",
     "output_type": "stream",
     "text": [
      "Evaluation Loss: 0.9335, mIoU: 0.3118\n"
     ]
    },
    {
     "data": {
      "application/vnd.jupyter.widget-view+json": {
       "model_id": "ff1fee63a9674f1f9eab0258313afa55",
       "version_major": 2,
       "version_minor": 0
      },
      "text/plain": [
       "Training Epoch 32:   0%|          | 0/598 [00:00<?, ?it/s]"
      ]
     },
     "metadata": {},
     "output_type": "display_data"
    },
    {
     "name": "stdout",
     "output_type": "stream",
     "text": [
      "Epoch [32] Loss: 0.7978, mIoU: 0.4805\n"
     ]
    },
    {
     "data": {
      "application/vnd.jupyter.widget-view+json": {
       "model_id": "87c7b3528b0f41cc9015900ccca8ab15",
       "version_major": 2,
       "version_minor": 0
      },
      "text/plain": [
       "Training Epoch 33:   0%|          | 0/598 [00:00<?, ?it/s]"
      ]
     },
     "metadata": {},
     "output_type": "display_data"
    },
    {
     "name": "stdout",
     "output_type": "stream",
     "text": [
      "Epoch [33] Loss: 0.7957, mIoU: 0.4816\n"
     ]
    },
    {
     "data": {
      "application/vnd.jupyter.widget-view+json": {
       "model_id": "8757fceba6fe412195dcf7944aa05377",
       "version_major": 2,
       "version_minor": 0
      },
      "text/plain": [
       "Training Epoch 34:   0%|          | 0/598 [00:00<?, ?it/s]"
      ]
     },
     "metadata": {},
     "output_type": "display_data"
    },
    {
     "name": "stdout",
     "output_type": "stream",
     "text": [
      "Epoch [34] Loss: 0.7939, mIoU: 0.4833\n"
     ]
    },
    {
     "data": {
      "application/vnd.jupyter.widget-view+json": {
       "model_id": "697e11c9a53747f3921cee9a02679913",
       "version_major": 2,
       "version_minor": 0
      },
      "text/plain": [
       "Training Epoch 35:   0%|          | 0/598 [00:00<?, ?it/s]"
      ]
     },
     "metadata": {},
     "output_type": "display_data"
    },
    {
     "name": "stdout",
     "output_type": "stream",
     "text": [
      "Epoch [35] Loss: 0.7895, mIoU: 0.4867\n"
     ]
    },
    {
     "data": {
      "application/vnd.jupyter.widget-view+json": {
       "model_id": "46fac011eb5e42a09fb86fc23697ce18",
       "version_major": 2,
       "version_minor": 0
      },
      "text/plain": [
       "Training Epoch 36:   0%|          | 0/598 [00:00<?, ?it/s]"
      ]
     },
     "metadata": {},
     "output_type": "display_data"
    },
    {
     "name": "stdout",
     "output_type": "stream",
     "text": [
      "Epoch [36] Loss: 0.7872, mIoU: 0.4883\n"
     ]
    },
    {
     "data": {
      "application/vnd.jupyter.widget-view+json": {
       "model_id": "47bf14fe51c1464f9df34592c0765f22",
       "version_major": 2,
       "version_minor": 0
      },
      "text/plain": [
       "Evaluating:   0%|          | 0/255 [00:00<?, ?it/s]"
      ]
     },
     "metadata": {},
     "output_type": "display_data"
    },
    {
     "name": "stdout",
     "output_type": "stream",
     "text": [
      "Evaluation Loss: 0.9240, mIoU: 0.3239\n"
     ]
    },
    {
     "data": {
      "application/vnd.jupyter.widget-view+json": {
       "model_id": "9e86fb24b76d4fd3919bcb0504850310",
       "version_major": 2,
       "version_minor": 0
      },
      "text/plain": [
       "Training Epoch 37:   0%|          | 0/598 [00:00<?, ?it/s]"
      ]
     },
     "metadata": {},
     "output_type": "display_data"
    },
    {
     "name": "stdout",
     "output_type": "stream",
     "text": [
      "Epoch [37] Loss: 0.7854, mIoU: 0.4908\n"
     ]
    },
    {
     "data": {
      "application/vnd.jupyter.widget-view+json": {
       "model_id": "2019ffce3fb14187b8a389e34206fc0a",
       "version_major": 2,
       "version_minor": 0
      },
      "text/plain": [
       "Training Epoch 38:   0%|          | 0/598 [00:00<?, ?it/s]"
      ]
     },
     "metadata": {},
     "output_type": "display_data"
    },
    {
     "name": "stdout",
     "output_type": "stream",
     "text": [
      "Epoch [38] Loss: 0.7834, mIoU: 0.4931\n"
     ]
    },
    {
     "data": {
      "application/vnd.jupyter.widget-view+json": {
       "model_id": "fa115408a7884c6587f678b8ae07f104",
       "version_major": 2,
       "version_minor": 0
      },
      "text/plain": [
       "Training Epoch 39:   0%|          | 0/598 [00:00<?, ?it/s]"
      ]
     },
     "metadata": {},
     "output_type": "display_data"
    },
    {
     "name": "stdout",
     "output_type": "stream",
     "text": [
      "Epoch [39] Loss: 0.7780, mIoU: 0.4975\n"
     ]
    },
    {
     "data": {
      "application/vnd.jupyter.widget-view+json": {
       "model_id": "ea85833bc4d74fb3995a5e8b87ef8edf",
       "version_major": 2,
       "version_minor": 0
      },
      "text/plain": [
       "Training Epoch 40:   0%|          | 0/598 [00:00<?, ?it/s]"
      ]
     },
     "metadata": {},
     "output_type": "display_data"
    },
    {
     "name": "stdout",
     "output_type": "stream",
     "text": [
      "Epoch [40] Loss: 0.7772, mIoU: 0.4992\n"
     ]
    },
    {
     "data": {
      "application/vnd.jupyter.widget-view+json": {
       "model_id": "3676eadc7e044a4c9538c197ed9d824d",
       "version_major": 2,
       "version_minor": 0
      },
      "text/plain": [
       "Training Epoch 41:   0%|          | 0/598 [00:00<?, ?it/s]"
      ]
     },
     "metadata": {},
     "output_type": "display_data"
    },
    {
     "name": "stdout",
     "output_type": "stream",
     "text": [
      "Epoch [41] Loss: 0.7747, mIoU: 0.5010\n"
     ]
    },
    {
     "data": {
      "application/vnd.jupyter.widget-view+json": {
       "model_id": "a1e86cfbeb9f47999fee4c29d299ac74",
       "version_major": 2,
       "version_minor": 0
      },
      "text/plain": [
       "Evaluating:   0%|          | 0/255 [00:00<?, ?it/s]"
      ]
     },
     "metadata": {},
     "output_type": "display_data"
    },
    {
     "name": "stdout",
     "output_type": "stream",
     "text": [
      "Evaluation Loss: 0.9098, mIoU: 0.3330\n"
     ]
    },
    {
     "data": {
      "application/vnd.jupyter.widget-view+json": {
       "model_id": "3163d1251d2f48498671a80ef89e77f3",
       "version_major": 2,
       "version_minor": 0
      },
      "text/plain": [
       "Training Epoch 42:   0%|          | 0/598 [00:00<?, ?it/s]"
      ]
     },
     "metadata": {},
     "output_type": "display_data"
    },
    {
     "name": "stdout",
     "output_type": "stream",
     "text": [
      "Epoch [42] Loss: 0.7720, mIoU: 0.5022\n"
     ]
    },
    {
     "data": {
      "application/vnd.jupyter.widget-view+json": {
       "model_id": "4d19aaff4ead49b9a4150bbc9e058e43",
       "version_major": 2,
       "version_minor": 0
      },
      "text/plain": [
       "Training Epoch 43:   0%|          | 0/598 [00:00<?, ?it/s]"
      ]
     },
     "metadata": {},
     "output_type": "display_data"
    },
    {
     "name": "stdout",
     "output_type": "stream",
     "text": [
      "Epoch [43] Loss: 0.7683, mIoU: 0.5054\n"
     ]
    },
    {
     "data": {
      "application/vnd.jupyter.widget-view+json": {
       "model_id": "1c8289877f034d76bc1e597c228520d6",
       "version_major": 2,
       "version_minor": 0
      },
      "text/plain": [
       "Training Epoch 44:   0%|          | 0/598 [00:00<?, ?it/s]"
      ]
     },
     "metadata": {},
     "output_type": "display_data"
    },
    {
     "name": "stdout",
     "output_type": "stream",
     "text": [
      "Epoch [44] Loss: 0.7669, mIoU: 0.5069\n"
     ]
    },
    {
     "data": {
      "application/vnd.jupyter.widget-view+json": {
       "model_id": "c19205a4d2ba4295a540bba955e6fee1",
       "version_major": 2,
       "version_minor": 0
      },
      "text/plain": [
       "Training Epoch 45:   0%|          | 0/598 [00:00<?, ?it/s]"
      ]
     },
     "metadata": {},
     "output_type": "display_data"
    },
    {
     "name": "stdout",
     "output_type": "stream",
     "text": [
      "Epoch [45] Loss: 0.7660, mIoU: 0.5069\n"
     ]
    },
    {
     "data": {
      "application/vnd.jupyter.widget-view+json": {
       "model_id": "2144c4c688ac4649af76d653b3b043d2",
       "version_major": 2,
       "version_minor": 0
      },
      "text/plain": [
       "Training Epoch 46:   0%|          | 0/598 [00:00<?, ?it/s]"
      ]
     },
     "metadata": {},
     "output_type": "display_data"
    },
    {
     "name": "stdout",
     "output_type": "stream",
     "text": [
      "Epoch [46] Loss: 0.7615, mIoU: 0.5106\n"
     ]
    },
    {
     "data": {
      "application/vnd.jupyter.widget-view+json": {
       "model_id": "befa09be5a004cebb13a9d19853fa0a4",
       "version_major": 2,
       "version_minor": 0
      },
      "text/plain": [
       "Evaluating:   0%|          | 0/255 [00:00<?, ?it/s]"
      ]
     },
     "metadata": {},
     "output_type": "display_data"
    },
    {
     "name": "stdout",
     "output_type": "stream",
     "text": [
      "Evaluation Loss: 0.9057, mIoU: 0.3328\n"
     ]
    },
    {
     "data": {
      "application/vnd.jupyter.widget-view+json": {
       "model_id": "14f2952983eb472f9e1b4e37dbcee24b",
       "version_major": 2,
       "version_minor": 0
      },
      "text/plain": [
       "Training Epoch 47:   0%|          | 0/598 [00:00<?, ?it/s]"
      ]
     },
     "metadata": {},
     "output_type": "display_data"
    },
    {
     "name": "stdout",
     "output_type": "stream",
     "text": [
      "Epoch [47] Loss: 0.7613, mIoU: 0.5112\n"
     ]
    },
    {
     "data": {
      "application/vnd.jupyter.widget-view+json": {
       "model_id": "1b0220e35e854c2680a0250b77550c21",
       "version_major": 2,
       "version_minor": 0
      },
      "text/plain": [
       "Training Epoch 48:   0%|          | 0/598 [00:00<?, ?it/s]"
      ]
     },
     "metadata": {},
     "output_type": "display_data"
    },
    {
     "name": "stdout",
     "output_type": "stream",
     "text": [
      "Epoch [48] Loss: 0.7586, mIoU: 0.5133\n"
     ]
    },
    {
     "data": {
      "application/vnd.jupyter.widget-view+json": {
       "model_id": "1b87e01152714d788c01c2f431ad1a73",
       "version_major": 2,
       "version_minor": 0
      },
      "text/plain": [
       "Training Epoch 49:   0%|          | 0/598 [00:00<?, ?it/s]"
      ]
     },
     "metadata": {},
     "output_type": "display_data"
    },
    {
     "name": "stdout",
     "output_type": "stream",
     "text": [
      "Epoch [49] Loss: 0.7570, mIoU: 0.5158\n"
     ]
    },
    {
     "data": {
      "application/vnd.jupyter.widget-view+json": {
       "model_id": "1bffa6b1f28248de9f5ce468261dcd83",
       "version_major": 2,
       "version_minor": 0
      },
      "text/plain": [
       "Training Epoch 50:   0%|          | 0/598 [00:00<?, ?it/s]"
      ]
     },
     "metadata": {},
     "output_type": "display_data"
    },
    {
     "name": "stdout",
     "output_type": "stream",
     "text": [
      "Epoch [50] Loss: 0.7550, mIoU: 0.5179\n"
     ]
    },
    {
     "data": {
      "application/vnd.jupyter.widget-view+json": {
       "model_id": "cf7d85f18fee4352b318be50911abaca",
       "version_major": 2,
       "version_minor": 0
      },
      "text/plain": [
       "Training Epoch 51:   0%|          | 0/598 [00:00<?, ?it/s]"
      ]
     },
     "metadata": {},
     "output_type": "display_data"
    },
    {
     "name": "stdout",
     "output_type": "stream",
     "text": [
      "Epoch [51] Loss: 0.7539, mIoU: 0.5194\n"
     ]
    },
    {
     "data": {
      "application/vnd.jupyter.widget-view+json": {
       "model_id": "b25839a483874f5ebb88ca2c2e3e66b5",
       "version_major": 2,
       "version_minor": 0
      },
      "text/plain": [
       "Evaluating:   0%|          | 0/255 [00:00<?, ?it/s]"
      ]
     },
     "metadata": {},
     "output_type": "display_data"
    },
    {
     "name": "stdout",
     "output_type": "stream",
     "text": [
      "Evaluation Loss: 0.9043, mIoU: 0.3334\n"
     ]
    },
    {
     "data": {
      "application/vnd.jupyter.widget-view+json": {
       "model_id": "b420bcddbe0446daa312d00236bf4f28",
       "version_major": 2,
       "version_minor": 0
      },
      "text/plain": [
       "Training Epoch 52:   0%|          | 0/598 [00:00<?, ?it/s]"
      ]
     },
     "metadata": {},
     "output_type": "display_data"
    },
    {
     "name": "stdout",
     "output_type": "stream",
     "text": [
      "Epoch [52] Loss: 0.7528, mIoU: 0.5191\n"
     ]
    },
    {
     "data": {
      "application/vnd.jupyter.widget-view+json": {
       "model_id": "6090c723669c40c080db17c517dceb31",
       "version_major": 2,
       "version_minor": 0
      },
      "text/plain": [
       "Training Epoch 53:   0%|          | 0/598 [00:00<?, ?it/s]"
      ]
     },
     "metadata": {},
     "output_type": "display_data"
    },
    {
     "name": "stdout",
     "output_type": "stream",
     "text": [
      "Epoch [53] Loss: 0.7523, mIoU: 0.5189\n"
     ]
    },
    {
     "data": {
      "application/vnd.jupyter.widget-view+json": {
       "model_id": "37c02e03a813490eaa7e45680680026f",
       "version_major": 2,
       "version_minor": 0
      },
      "text/plain": [
       "Training Epoch 54:   0%|          | 0/598 [00:00<?, ?it/s]"
      ]
     },
     "metadata": {},
     "output_type": "display_data"
    },
    {
     "name": "stdout",
     "output_type": "stream",
     "text": [
      "Epoch [54] Loss: 0.7526, mIoU: 0.5203\n"
     ]
    },
    {
     "data": {
      "application/vnd.jupyter.widget-view+json": {
       "model_id": "556d44122ead4cefbdebde708d24f533",
       "version_major": 2,
       "version_minor": 0
      },
      "text/plain": [
       "Training Epoch 55:   0%|          | 0/598 [00:00<?, ?it/s]"
      ]
     },
     "metadata": {},
     "output_type": "display_data"
    },
    {
     "name": "stdout",
     "output_type": "stream",
     "text": [
      "Epoch [55] Loss: 0.7514, mIoU: 0.5210\n"
     ]
    },
    {
     "data": {
      "application/vnd.jupyter.widget-view+json": {
       "model_id": "3e36e912daa34ecc838da43fd52faf8e",
       "version_major": 2,
       "version_minor": 0
      },
      "text/plain": [
       "Training Epoch 56:   0%|          | 0/598 [00:00<?, ?it/s]"
      ]
     },
     "metadata": {},
     "output_type": "display_data"
    },
    {
     "name": "stdout",
     "output_type": "stream",
     "text": [
      "Epoch [56] Loss: 0.7519, mIoU: 0.5215\n"
     ]
    },
    {
     "data": {
      "application/vnd.jupyter.widget-view+json": {
       "model_id": "20ee45ce7f1442929528d3b9bafa72a5",
       "version_major": 2,
       "version_minor": 0
      },
      "text/plain": [
       "Evaluating:   0%|          | 0/255 [00:00<?, ?it/s]"
      ]
     },
     "metadata": {},
     "output_type": "display_data"
    },
    {
     "name": "stdout",
     "output_type": "stream",
     "text": [
      "Evaluation Loss: 0.9049, mIoU: 0.3326\n"
     ]
    },
    {
     "data": {
      "application/vnd.jupyter.widget-view+json": {
       "model_id": "c9535b8971014156ab783340f884e77c",
       "version_major": 2,
       "version_minor": 0
      },
      "text/plain": [
       "Training Epoch 57:   0%|          | 0/598 [00:00<?, ?it/s]"
      ]
     },
     "metadata": {},
     "output_type": "display_data"
    },
    {
     "name": "stdout",
     "output_type": "stream",
     "text": [
      "Epoch [57] Loss: 0.7509, mIoU: 0.5209\n"
     ]
    },
    {
     "data": {
      "application/vnd.jupyter.widget-view+json": {
       "model_id": "9f7853b2d8b44135b1a3defccffeb01a",
       "version_major": 2,
       "version_minor": 0
      },
      "text/plain": [
       "Training Epoch 58:   0%|          | 0/598 [00:00<?, ?it/s]"
      ]
     },
     "metadata": {},
     "output_type": "display_data"
    },
    {
     "name": "stdout",
     "output_type": "stream",
     "text": [
      "Epoch [58] Loss: 0.7510, mIoU: 0.5231\n"
     ]
    },
    {
     "data": {
      "application/vnd.jupyter.widget-view+json": {
       "model_id": "c7324c3fd13045039459f8a5521a5a7d",
       "version_major": 2,
       "version_minor": 0
      },
      "text/plain": [
       "Training Epoch 59:   0%|          | 0/598 [00:00<?, ?it/s]"
      ]
     },
     "metadata": {},
     "output_type": "display_data"
    },
    {
     "name": "stdout",
     "output_type": "stream",
     "text": [
      "Epoch [59] Loss: 0.7489, mIoU: 0.5223\n"
     ]
    },
    {
     "data": {
      "application/vnd.jupyter.widget-view+json": {
       "model_id": "571b888278de46a296027937c257cc98",
       "version_major": 2,
       "version_minor": 0
      },
      "text/plain": [
       "Training Epoch 60:   0%|          | 0/598 [00:00<?, ?it/s]"
      ]
     },
     "metadata": {},
     "output_type": "display_data"
    },
    {
     "name": "stdout",
     "output_type": "stream",
     "text": [
      "Epoch [60] Loss: 0.7485, mIoU: 0.5229\n"
     ]
    }
   ],
   "source": [
    "### Train the model\n",
    "best_val_mIoU = 0.0\n",
    "# Training loop\n",
    "for epoch in tqdm(range(num_epochs), desc=\"Epochs\"):\n",
    "    train_one_epoch(model, loader, optimizer, criterion, metric,epoch)\n",
    "    if epoch % 5 == 0: # Evaluate every 5 epochs\n",
    "        eval_model(model, val_loader, criterion, metric)\n",
    "        ious = metric.compute()\n",
    "        current_val_mIoU = torch.mean(ious[ious != 0]).item()\n",
    "        if current_val_mIoU > best_val_mIoU:\n",
    "            best_val_mIoU = current_val_mIoU\n",
    "            torch.save(model.state_dict(), 'range_vit_segmentation.pth')\n",
    "    scheduler.step()\n"
   ]
  },
  {
   "cell_type": "code",
   "execution_count": 10,
   "id": "5e6f7c6e",
   "metadata": {},
   "outputs": [
    {
     "data": {
      "application/vnd.jupyter.widget-view+json": {
       "model_id": "062d514387ce45b6863bdb0e977527c8",
       "version_major": 2,
       "version_minor": 0
      },
      "text/plain": [
       "Evaluating:   0%|          | 0/255 [00:00<?, ?it/s]"
      ]
     },
     "metadata": {},
     "output_type": "display_data"
    },
    {
     "name": "stdout",
     "output_type": "stream",
     "text": [
      "Evaluation Loss: 0.9043, mIoU: 0.3334\n"
     ]
    }
   ],
   "source": [
    "# Validation with the best model\n",
    "model = RangeViTSegmentationModel(n_classes=num_classes, in_channels=in_channels).to(device)\n",
    "model.load_state_dict(torch.load('range_vit_segmentation.pth'))\n",
    "eval_model(model, val_loader, criterion, metric)\n"
   ]
  },
  {
   "cell_type": "code",
   "execution_count": 11,
   "id": "ce574fba",
   "metadata": {},
   "outputs": [],
   "source": [
    "# print structure of model\n",
    "# print(model)"
   ]
  }
 ],
 "metadata": {
  "kernelspec": {
   "display_name": "pykitti",
   "language": "python",
   "name": "python3"
  },
  "language_info": {
   "codemirror_mode": {
    "name": "ipython",
    "version": 3
   },
   "file_extension": ".py",
   "mimetype": "text/x-python",
   "name": "python",
   "nbconvert_exporter": "python",
   "pygments_lexer": "ipython3",
   "version": "3.13.5"
  }
 },
 "nbformat": 4,
 "nbformat_minor": 5
}
