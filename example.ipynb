{
 "cells": [
  {
   "cell_type": "markdown",
   "id": "94cdb2fd",
   "metadata": {},
   "source": [
    "# Colorize point cloud"
   ]
  },
  {
   "cell_type": "code",
   "execution_count": null,
   "id": "47bcf5ef",
   "metadata": {},
   "outputs": [],
   "source": [
    "import numpy as np\n",
    "import cv2"
   ]
  },
  {
   "cell_type": "code",
   "execution_count": null,
   "id": "2f520f12",
   "metadata": {},
   "outputs": [],
   "source": [
    "basedir = '../SemanticKITTI/dataset/sequences/00'\n",
    "pc_file = f'{basedir}/velodyne/000000.bin'\n",
    "im_file = f'{basedir}/image_2/000000.png'\n",
    "calib_file = f'{basedir}/calib.txt'\n"
   ]
  },
  {
   "cell_type": "code",
   "execution_count": null,
   "id": "eea0cba6",
   "metadata": {},
   "outputs": [],
   "source": [
    "from colorize.colorize import doColorize\n",
    "points, pts_valid, colors = doColorize(pc_file, im_file, calib_file)\n"
   ]
  },
  {
   "cell_type": "code",
   "execution_count": null,
   "id": "30805b97",
   "metadata": {},
   "outputs": [],
   "source": [
    "from projection.spherical_proj import RangeProjection\n",
    "# projector = RangeProjection(fov_up = 3.0, fov_down = -25.0, proj_w = 2048, proj_h = 64)\n",
    "# Project the point cloud\n",
    "# proj_pointcloud, proj_range, proj_idx, proj_mask = projector.doProjection(points)\n",
    "\n",
    "from projection.scan_unfold import ScanProjection\n",
    "scan_unfold = ScanProjection(proj_w = 2048, proj_h = 64)\n",
    "proj_pointcloud, proj_range, proj_idx, proj_mask = scan_unfold.doProjection(points)"
   ]
  },
  {
   "cell_type": "code",
   "execution_count": null,
   "id": "8c65c008",
   "metadata": {},
   "outputs": [],
   "source": [
    "import matplotlib.pyplot as plt\n",
    "\n",
    "plt.figure(figsize=(12, 4))\n",
    "plt.imshow(proj_range, cmap='jet')\n",
    "plt.title('Projected Range Image')\n",
    "plt.colorbar(label='Range')\n",
    "plt.axis('off')\n",
    "plt.show()\n"
   ]
  },
  {
   "cell_type": "code",
   "execution_count": null,
   "id": "039a5f67",
   "metadata": {},
   "outputs": [],
   "source": [
    "# plot the projected range image with color. If the valid is 1, set the color to the color of the point, otherwise set it to black\n",
    "\n",
    "fig, axs = plt.subplots(3, 1, figsize=(18, 12))\n",
    "# 1. Top: proj_range2 as heatmap (no colorbar)\n",
    "axs[0].imshow(proj_range, cmap='jet')\n",
    "axs[0].set_title('Projected Range Image')\n",
    "axs[0].axis('off')\n",
    "\n",
    "# 2. Middle: show the original image\n",
    "img = cv2.imread(im_file)\n",
    "img = cv2.cvtColor(img, cv2.COLOR_BGR2RGB)\n",
    "axs[1].imshow(img)\n",
    "axs[1].set_title('Camera image (full resolution)')\n",
    "axs[1].axis('off')\n",
    "\n",
    "# 3. Bottom: heatmap with colored points overlaid\n",
    "valid_mask = proj_pointcloud[..., 4] == 1\n",
    "axs[2].imshow(proj_range, cmap='jet')\n",
    "ys, xs = np.where(valid_mask)\n",
    "colors_d = proj_pointcloud[ys, xs, 5:8]\n",
    "axs[2].scatter(xs, ys, c=colors_d, s=2, marker='o')\n",
    "axs[2].set_title('Range image with colorized point cloud Overlay')\n",
    "axs[2].axis('off')\n",
    "\n",
    "plt.tight_layout()\n",
    "plt.show()\n"
   ]
  },
  {
   "cell_type": "code",
   "execution_count": null,
   "id": "a63b5f99",
   "metadata": {},
   "outputs": [],
   "source": [
    "import open3d as o3d\n",
    "pcd = o3d.geometry.PointCloud()\n",
    "pcd.points = o3d.utility.Vector3dVector(pts_valid)\n",
    "pcd.colors = o3d.utility.Vector3dVector(colors)\n",
    "# Create a coordinate frame (default size=1.0, origin=[0,0,0])\n",
    "axis = o3d.geometry.TriangleMesh.create_coordinate_frame(size=1.0, origin=[0, 0, 0])\n",
    "# Example: rotate by 90 degrees (π/2 radians) \n",
    "theta = np.pi / 2  # rotation angle in radians\n",
    "theta2 = np.pi / 2\n",
    "# Rotation matrix for x-axis\n",
    "Rx = np.array([\n",
    "    [1, 0, 0],\n",
    "    [0, np.cos(-theta), -np.sin(-theta)],\n",
    "    [0, np.sin(-theta),  np.cos(-theta)]\n",
    "])\n",
    "# Rotation matrix for y-axis\n",
    "Ry = np.array([\n",
    "    [ np.cos(theta), 0, np.sin(theta)],\n",
    "    [ 0,            1, 0           ],\n",
    "    [-np.sin(theta), 0, np.cos(theta)]\n",
    "])\n",
    "Rx2 = np.array([\n",
    "    [1, 0, 0],\n",
    "    [0, np.cos(theta/6), -np.sin(theta/6)],\n",
    "    [0, np.sin(theta/6),  np.cos(theta/6)]\n",
    "])\n",
    "pcd.rotate(Rx, center=(0, 0, 0))  # center can be (0,0,0) or pcd.get_center()\n",
    "pcd.rotate(Ry, center=(0, 0, 0))  # center can be (0,0,0) or pcd.get_center()\n",
    "pcd.rotate(Rx2, center=(0, 0, 0))  # center can be (0,0,0) or pcd.get_center()\n",
    "\n",
    "o3d.visualization.draw_geometries([pcd, axis])\n",
    "\n"
   ]
  }
 ],
 "metadata": {
  "kernelspec": {
   "display_name": "pykitti",
   "language": "python",
   "name": "python3"
  },
  "language_info": {
   "codemirror_mode": {
    "name": "ipython",
    "version": 3
   },
   "file_extension": ".py",
   "mimetype": "text/x-python",
   "name": "python",
   "nbconvert_exporter": "python",
   "pygments_lexer": "ipython3",
   "version": "3.12.7"
  }
 },
 "nbformat": 4,
 "nbformat_minor": 5
}
