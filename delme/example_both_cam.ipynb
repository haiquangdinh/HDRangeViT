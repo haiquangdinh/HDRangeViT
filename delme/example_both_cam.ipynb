{
 "cells": [
  {
   "cell_type": "markdown",
   "id": "94cdb2fd",
   "metadata": {},
   "source": [
    "# Colorize point cloud"
   ]
  },
  {
   "cell_type": "code",
   "execution_count": 1,
   "id": "47bcf5ef",
   "metadata": {},
   "outputs": [],
   "source": [
    "import numpy as np\n",
    "import cv2"
   ]
  },
  {
   "cell_type": "code",
   "execution_count": 2,
   "id": "2f520f12",
   "metadata": {},
   "outputs": [],
   "source": [
    "basedir = '../SemanticKITTI/dataset/sequences/00'\n",
    "pc_file = f'{basedir}/velodyne/000000.bin'\n",
    "im_file = f'{basedir}/image_3/000000.png'\n",
    "calib_file = f'{basedir}/calib.txt'\n"
   ]
  },
  {
   "cell_type": "code",
   "execution_count": 11,
   "id": "e7dad181",
   "metadata": {},
   "outputs": [
    {
     "name": "stdout",
     "output_type": "stream",
     "text": [
      "Number of valid points/ Number of points: 19369/124668 (15.54%)\n",
      "Number of valid points/ Number of points: 19481/124668 (15.63%)\n",
      "Percentage of valid points: 15.95%\n",
      "Sum of valid points: 19887\n"
     ]
    }
   ],
   "source": [
    "from colorize.colorize import doColorize\n",
    "\n",
    "# Colorize with image_2\n",
    "points2, _, _ = doColorize(pc_file, f'{basedir}/image_2/000000.png', calib_file, cam=0)\n",
    "# Colorize with image_3\n",
    "points3, _, _ = doColorize(pc_file, f'{basedir}/image_3/000000.png', calib_file, cam=1)\n",
    "\n",
    "# get the valid array, make sure it the same size as points2\n",
    "pt_valid2 = points2[:, 4] == 1\n",
    "pt_valid3 = points3[:, 4] == 1\n",
    "# Or combine the two valid arrays\n",
    "combined_valid = pt_valid2 | pt_valid3\n",
    "#  calculate the percentage of valid points\n",
    "percent_valid = 100.0 * np.sum(combined_valid) / points2.shape[0]\n",
    "print(f\"Percentage of valid points: {percent_valid:.2f}%\")\n",
    "#  calculate the sum of valid points\n",
    "sum_valid = np.sum(combined_valid)\n",
    "print(f\"Sum of valid points: {sum_valid}\")\n",
    "# percent_valid = 100.0 * np.sum(combined_valid) / points.shape[0]\n",
    "# print(f\"Percentage of valid points: {percent_valid:.2f}%\")"
   ]
  },
  {
   "cell_type": "code",
   "execution_count": null,
   "id": "30805b97",
   "metadata": {},
   "outputs": [],
   "source": [
    "from projection.spherical_proj import RangeProjection\n",
    "# projector = RangeProjection(fov_up = 3.0, fov_down = -25.0, proj_w = 2048, proj_h = 64)\n",
    "# Project the point cloud\n",
    "# proj_pointcloud, proj_range, proj_idx, proj_mask = projector.doProjection(points)\n",
    "\n",
    "from projection.scan_unfold import ScanProjection\n",
    "scan_unfold = ScanProjection(proj_w = 2048, proj_h = 64)\n",
    "proj_pointcloud, proj_range, proj_idx, proj_mask = scan_unfold.doProjection(points, wrap_around = 1024)"
   ]
  },
  {
   "cell_type": "code",
   "execution_count": null,
   "id": "8c65c008",
   "metadata": {},
   "outputs": [],
   "source": [
    "import matplotlib.pyplot as plt\n",
    "\n",
    "plt.figure(figsize=(12, 4))\n",
    "plt.imshow(proj_range, cmap='jet')\n",
    "plt.title('Projected Range Image')\n",
    "plt.colorbar(label='Range')\n",
    "plt.axis('off')\n",
    "plt.show()\n"
   ]
  },
  {
   "cell_type": "code",
   "execution_count": null,
   "id": "039a5f67",
   "metadata": {},
   "outputs": [],
   "source": [
    "# plot the projected range image with color. If the valid is 1, set the color to the color of the point, otherwise set it to black\n",
    "\n",
    "fig, axs = plt.subplots(3, 1, figsize=(18, 12))\n",
    "# 1. Top: proj_range2 as heatmap (no colorbar)\n",
    "axs[0].imshow(proj_range, cmap='jet')\n",
    "axs[0].set_title('Projected Range Image')\n",
    "axs[0].axis('off')\n",
    "\n",
    "# 2. Middle: show the original image\n",
    "img = cv2.imread(im_file)\n",
    "# flip the image horizontally\n",
    "img = cv2.flip(img, 1)\n",
    "img = cv2.cvtColor(img, cv2.COLOR_BGR2RGB)\n",
    "axs[1].imshow(img)\n",
    "axs[1].set_title('Camera image (full resolution)')\n",
    "axs[1].axis('off')\n",
    "\n",
    "# 3. Bottom: heatmap with colored points overlaid\n",
    "valid_mask = proj_pointcloud[..., 4] == 1\n",
    "axs[2].imshow(proj_range, cmap='jet')\n",
    "ys, xs = np.where(valid_mask)\n",
    "colors_d = proj_pointcloud[ys, xs, 5:8]\n",
    "axs[2].scatter(xs, ys, c=colors_d, s=2, marker='o')\n",
    "axs[2].set_title('Range image with colorized point cloud Overlay')\n",
    "axs[2].axis('off')\n",
    "\n",
    "plt.tight_layout()\n",
    "plt.show()\n"
   ]
  }
 ],
 "metadata": {
  "kernelspec": {
   "display_name": "pykitti",
   "language": "python",
   "name": "python3"
  },
  "language_info": {
   "codemirror_mode": {
    "name": "ipython",
    "version": 3
   },
   "file_extension": ".py",
   "mimetype": "text/x-python",
   "name": "python",
   "nbconvert_exporter": "python",
   "pygments_lexer": "ipython3",
   "version": "3.12.7"
  }
 },
 "nbformat": 4,
 "nbformat_minor": 5
}
