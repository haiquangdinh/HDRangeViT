{
 "cells": [
  {
   "cell_type": "markdown",
   "id": "c379e83a",
   "metadata": {},
   "source": [
    "# <span style=\"color:red; font-weight:bold; \">A clean and modern RangeViT implementation for Waymo</span>  "
   ]
  },
  {
   "cell_type": "code",
   "execution_count": 1,
   "id": "6b73372e",
   "metadata": {},
   "outputs": [],
   "source": [
    "import torch.optim as optim\n",
    "import torch\n",
    "import numpy as np\n",
    "\n",
    "import os\n",
    "import torch\n",
    "from torch.utils.data import Dataset\n",
    "import torchvision.transforms as transforms\n",
    "\n",
    "from torch.utils.data import Dataset, DataLoader\n",
    "\n",
    "import timm\n",
    "import torch\n",
    "import torch.nn as nn\n",
    "import torch.nn.functional as F\n",
    "\n",
    "from tqdm.notebook import tqdm\n",
    "\n",
    "from model.WaymoSegmentationDataset import WaymoSegmentationDataset\n",
    "from model.RangeViTSegmentationModel import RangeViTSegmentationModel\n",
    "\n"
   ]
  },
  {
   "cell_type": "code",
   "execution_count": 2,
   "id": "ace32aa9",
   "metadata": {},
   "outputs": [],
   "source": [
    "device = torch.device('cuda' if torch.cuda.is_available() else 'cpu')\n",
    "\n",
    "val_dataset = WaymoSegmentationDataset('../WoD/validation', training=False)\n",
    "val_loader = DataLoader(val_dataset, batch_size=1, shuffle=False, num_workers=1)\n",
    "\n"
   ]
  },
  {
   "cell_type": "code",
   "execution_count": 3,
   "id": "f224fafb",
   "metadata": {},
   "outputs": [],
   "source": [
    "# Use torchmetrics or do manually\n",
    "from torchmetrics.classification import MulticlassJaccardIndex\n",
    "# create a metric and put it on gpu\n",
    "iou_metric = MulticlassJaccardIndex(num_classes=20, average=None, ignore_index=0).to(device)\n",
    "# Use torchmetrics to compute class-wise Precision and Recall\n",
    "from torchmetrics.classification import MulticlassPrecision, MulticlassRecall\n",
    "precision_metric = MulticlassPrecision(num_classes=20, average=None, ignore_index=0).to(device)\n",
    "recall_metric = MulticlassRecall(num_classes=20, average=None, ignore_index=0).to(device)\n",
    "\n",
    "num_classes = 20\n",
    "in_channels = 9 # range, x, y, z, intensity, flag, R, G, B\n",
    "model = RangeViTSegmentationModel(n_classes=num_classes, in_channels=in_channels).to(device)\n",
    "\n"
   ]
  },
  {
   "cell_type": "code",
   "execution_count": 4,
   "id": "dec6f1fc",
   "metadata": {},
   "outputs": [],
   "source": [
    "def eval_model(model, loader, iou_metric, precision_metric, recall_metric):\n",
    "    model.eval()\n",
    "    iou_metric.reset()  # Reset the IoU metric for the evaluation\n",
    "    precision_metric.reset()\n",
    "    recall_metric.reset()\n",
    "\n",
    "    with torch.no_grad():\n",
    "        batch_bar = tqdm(loader, desc=\"Evaluating\", leave=False)\n",
    "        for imgs, labels in batch_bar:\n",
    "            imgs = imgs.to(device)\n",
    "            labels = labels.to(device)\n",
    "            outputs = model(imgs)\n",
    "\n",
    "            preds = outputs.argmax(dim=1)\n",
    "            iou_metric.update(preds, labels)\n",
    "            precision_metric.update(preds, labels)\n",
    "            recall_metric.update(preds, labels)\n",
    "\n",
    "            ious = iou_metric.compute()\n",
    "            precisions = precision_metric.compute()\n",
    "            recalls = recall_metric.compute()\n",
    "            \n",
    "            mean_iou = torch.mean(ious[ious != 0])\n",
    "            mean_precision = torch.mean(precisions[precisions != 0])\n",
    "            mean_recall = torch.mean(recalls[recalls != 0])\n",
    "            batch_bar.set_postfix(mIoU=mean_iou.item())\n",
    "\n",
    "    print(f\"mIoU: {mean_iou.item():.4f}, mPrecision: {mean_precision.item():.4f}, mRecall: {mean_recall.item():.4f}\")\n",
    "\n",
    "    return ious, precisions, recalls\n"
   ]
  },
  {
   "cell_type": "code",
   "execution_count": 5,
   "id": "06a87603",
   "metadata": {},
   "outputs": [
    {
     "name": "stdout",
     "output_type": "stream",
     "text": [
      "Loading pre-trained model from range_vit_waymo.pth\n"
     ]
    }
   ],
   "source": [
    "# Load the model if you have a pre-trained one\n",
    "pretrain_path = 'range_vit_waymo.pth'\n",
    "if os.path.exists(pretrain_path):\n",
    "    print(f\"Loading pre-trained model from {pretrain_path}\")\n",
    "    model.load_state_dict(torch.load(pretrain_path))"
   ]
  },
  {
   "cell_type": "code",
   "execution_count": 6,
   "id": "e8b18f19",
   "metadata": {},
   "outputs": [
    {
     "data": {
      "application/vnd.jupyter.widget-view+json": {
       "model_id": "44b47718f7664b6ba70958a22c8c9194",
       "version_major": 2,
       "version_minor": 0
      },
      "text/plain": [
       "Evaluating:   0%|          | 0/5976 [00:00<?, ?it/s]"
      ]
     },
     "metadata": {},
     "output_type": "display_data"
    },
    {
     "name": "stdout",
     "output_type": "stream",
     "text": [
      "mIoU: 0.8126, mPrecision: 0.8968, mRecall: 0.8803\n"
     ]
    }
   ],
   "source": [
    "ious, precisions, recalls = eval_model(model, val_loader, iou_metric, precision_metric, recall_metric)"
   ]
  },
  {
   "cell_type": "code",
   "execution_count": 7,
   "id": "174d305c",
   "metadata": {},
   "outputs": [
    {
     "name": "stdout",
     "output_type": "stream",
     "text": [
      "Class 0: IoU=0.0000, Precision=0.0000, Recall=0.0000\n",
      "Class 1: IoU=0.9562, Precision=0.9756, Recall=0.9797\n",
      "Class 2: IoU=0.7992, Precision=0.8783, Recall=0.8987\n",
      "Class 3: IoU=0.9020, Precision=0.9348, Recall=0.9626\n",
      "Class 4: IoU=0.9314, Precision=0.9731, Recall=0.9560\n",
      "Class 5: IoU=0.9180, Precision=0.9433, Recall=0.9716\n",
      "Class 6: IoU=0.8599, Precision=0.9347, Recall=0.9148\n",
      "Class 7: IoU=0.7001, Precision=0.8625, Recall=0.7881\n",
      "Class 8: IoU=0.3713, Precision=0.6273, Recall=0.4764\n",
      "Class 9: IoU=0.9451, Precision=0.9707, Recall=0.9729\n",
      "Class 10: IoU=0.0000, Precision=0.0000, Recall=0.0000\n",
      "Class 11: IoU=0.8848, Precision=0.9405, Recall=0.9372\n",
      "Class 12: IoU=0.5909, Precision=0.7318, Recall=0.7543\n",
      "Class 13: IoU=0.9309, Precision=0.9625, Recall=0.9659\n",
      "Class 14: IoU=0.0000, Precision=0.0000, Recall=0.0000\n",
      "Class 15: IoU=0.8915, Precision=0.9437, Recall=0.9416\n",
      "Class 16: IoU=0.7328, Precision=0.8545, Recall=0.8372\n",
      "Class 17: IoU=0.0000, Precision=0.0000, Recall=0.0000\n",
      "Class 18: IoU=0.7990, Precision=0.9087, Recall=0.8687\n",
      "Class 19: IoU=0.7891, Precision=0.9065, Recall=0.8590\n"
     ]
    }
   ],
   "source": [
    "# print metrics of each class\n",
    "for cls in range(num_classes):\n",
    "    print(f\"Class {cls}: IoU={ious[cls]:.4f}, Precision={precisions[cls]:.4f}, Recall={recalls[cls]:.4f}\")      "
   ]
  }
 ],
 "metadata": {
  "kernelspec": {
   "display_name": "pykitti",
   "language": "python",
   "name": "python3"
  },
  "language_info": {
   "codemirror_mode": {
    "name": "ipython",
    "version": 3
   },
   "file_extension": ".py",
   "mimetype": "text/x-python",
   "name": "python",
   "nbconvert_exporter": "python",
   "pygments_lexer": "ipython3",
   "version": "3.13.5"
  }
 },
 "nbformat": 4,
 "nbformat_minor": 5
}
