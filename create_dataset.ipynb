{
 "cells": [
  {
   "cell_type": "code",
   "execution_count": null,
   "id": "b76919ad",
   "metadata": {},
   "outputs": [],
   "source": [
    "import numpy as np\n",
    "import cv2\n",
    "import os\n",
    "from colorize.colorize import doColorize"
   ]
  },
  {
   "cell_type": "code",
   "execution_count": null,
   "id": "66ecce81",
   "metadata": {},
   "outputs": [],
   "source": [
    "basedir = '../SemanticKITTI/dataset/sequences/03'\n",
    "pointdir = f'{basedir}/velodyne'\n",
    "imgdir = f'{basedir}/image_2'\n",
    "calib_file = f'{basedir}/calib.txt'"
   ]
  },
  {
   "cell_type": "code",
   "execution_count": null,
   "id": "ef5bf155",
   "metadata": {},
   "outputs": [],
   "source": [
    "# search all .bin files in pointdir and put them in a list\n",
    "# Note that this is nessary to do first because the colorized pointcloud files will be saved in the same directory\n",
    "point_files = sorted([f for f in os.listdir(pointdir) if f.endswith('.bin')])\n",
    "# search all .png files in imgdir and put them in a list\n",
    "img_files = sorted([f for f in os.listdir(imgdir) if f.endswith('.png')])\n",
    "# make sure the number of point files and image files match\n",
    "if len(point_files) != len(img_files):\n",
    "    raise ValueError(\"Number of point files and image files do not match.\")\n"
   ]
  },
  {
   "cell_type": "code",
   "execution_count": null,
   "id": "c4f57e8b",
   "metadata": {},
   "outputs": [],
   "source": [
    "\n",
    "# go through the list of point files and image files and colorize the points\n",
    "for point_file, img_file in zip(point_files, img_files):\n",
    "    pc_file = os.path.join(pointdir, point_file)\n",
    "    im_file = os.path.join(imgdir, img_file)\n",
    "    \n",
    "    points, pts_valid, colors = doColorize(pc_file, im_file, calib_file, save_only_valid_points=False, save_file=False)\n",
    "    # save the colorized point cloud to a new file in the subfolder 'colorized', use the same filename\n",
    "    colorized_dir = os.path.join(pointdir, 'colorized')\n",
    "    if not os.path.exists(colorized_dir):\n",
    "        os.makedirs(colorized_dir)\n",
    "    output_file = os.path.join(colorized_dir, point_file)\n",
    "    points.astype(np.float32).tofile(output_file)\n"
   ]
  }
 ],
 "metadata": {
  "kernelspec": {
   "display_name": "pykitti",
   "language": "python",
   "name": "python3"
  },
  "language_info": {
   "codemirror_mode": {
    "name": "ipython",
    "version": 3
   },
   "file_extension": ".py",
   "mimetype": "text/x-python",
   "name": "python",
   "nbconvert_exporter": "python",
   "pygments_lexer": "ipython3",
   "version": "3.12.7"
  }
 },
 "nbformat": 4,
 "nbformat_minor": 5
}
