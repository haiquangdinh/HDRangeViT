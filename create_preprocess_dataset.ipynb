{
 "cells": [
  {
   "cell_type": "code",
   "execution_count": 1,
   "id": "d3aefcab",
   "metadata": {},
   "outputs": [],
   "source": [
    "import numpy as np\n",
    "import cv2\n",
    "import os\n",
    "from colorize.colorize import doColorize\n",
    "from tqdm.notebook import tqdm"
   ]
  },
  {
   "cell_type": "code",
   "execution_count": 2,
   "id": "d8341602",
   "metadata": {},
   "outputs": [],
   "source": [
    "sequences_rootdir = '../SemanticKITTI/dataset/sequences'\n",
    "sequences = ['00', '01', '02', '03', '04', '05', '06', '07', '08', '09', '10']"
   ]
  },
  {
   "cell_type": "code",
   "execution_count": 3,
   "id": "885a0df9",
   "metadata": {},
   "outputs": [],
   "source": [
    "# Read the label data from files\n",
    "@staticmethod\n",
    "def readLabel(path):\n",
    "    label = np.fromfile(path, dtype=np.int32)\n",
    "    sem_label = label & 0xFFFF  # semantic label in lower half\n",
    "    inst_label = label >> 16  # instance id in upper half\n",
    "    return sem_label, inst_label"
   ]
  },
  {
   "cell_type": "code",
   "execution_count": 4,
   "id": "f232adb9",
   "metadata": {},
   "outputs": [
    {
     "data": {
      "application/vnd.jupyter.widget-view+json": {
       "model_id": "9860a4a3ea4e4677813719c64f1db0c3",
       "version_major": 2,
       "version_minor": 0
      },
      "text/plain": [
       "Processing Sequences:   0%|          | 0/11 [00:00<?, ?it/s]"
      ]
     },
     "metadata": {},
     "output_type": "display_data"
    },
    {
     "data": {
      "application/vnd.jupyter.widget-view+json": {
       "model_id": "6338496c0e6a4074b6f39f7e6c87058a",
       "version_major": 2,
       "version_minor": 0
      },
      "text/plain": [
       "Colorizing point clouds:   0%|          | 0/4541 [00:00<?, ?it/s]"
      ]
     },
     "metadata": {},
     "output_type": "display_data"
    },
    {
     "data": {
      "application/vnd.jupyter.widget-view+json": {
       "model_id": "07b443007f794d96b0fbee7511b5b90f",
       "version_major": 2,
       "version_minor": 0
      },
      "text/plain": [
       "Colorizing point clouds:   0%|          | 0/1101 [00:00<?, ?it/s]"
      ]
     },
     "metadata": {},
     "output_type": "display_data"
    },
    {
     "data": {
      "application/vnd.jupyter.widget-view+json": {
       "model_id": "ee5bfc6cb38b41f39809e3f05faae918",
       "version_major": 2,
       "version_minor": 0
      },
      "text/plain": [
       "Colorizing point clouds:   0%|          | 0/4661 [00:00<?, ?it/s]"
      ]
     },
     "metadata": {},
     "output_type": "display_data"
    },
    {
     "data": {
      "application/vnd.jupyter.widget-view+json": {
       "model_id": "7482fce0831a4a38afafeaae615bdbf3",
       "version_major": 2,
       "version_minor": 0
      },
      "text/plain": [
       "Colorizing point clouds:   0%|          | 0/801 [00:00<?, ?it/s]"
      ]
     },
     "metadata": {},
     "output_type": "display_data"
    },
    {
     "data": {
      "application/vnd.jupyter.widget-view+json": {
       "model_id": "32c82ee1b54546a8992ceb79c94dc9e3",
       "version_major": 2,
       "version_minor": 0
      },
      "text/plain": [
       "Colorizing point clouds:   0%|          | 0/271 [00:00<?, ?it/s]"
      ]
     },
     "metadata": {},
     "output_type": "display_data"
    },
    {
     "data": {
      "application/vnd.jupyter.widget-view+json": {
       "model_id": "08b58f9f222f40088473be2ab35c5341",
       "version_major": 2,
       "version_minor": 0
      },
      "text/plain": [
       "Colorizing point clouds:   0%|          | 0/2761 [00:00<?, ?it/s]"
      ]
     },
     "metadata": {},
     "output_type": "display_data"
    },
    {
     "data": {
      "application/vnd.jupyter.widget-view+json": {
       "model_id": "8ee76dd7cd2640d09d775a287c60381f",
       "version_major": 2,
       "version_minor": 0
      },
      "text/plain": [
       "Colorizing point clouds:   0%|          | 0/1101 [00:00<?, ?it/s]"
      ]
     },
     "metadata": {},
     "output_type": "display_data"
    },
    {
     "data": {
      "application/vnd.jupyter.widget-view+json": {
       "model_id": "545b9cc3c086434fb2377eb9e62a543d",
       "version_major": 2,
       "version_minor": 0
      },
      "text/plain": [
       "Colorizing point clouds:   0%|          | 0/1101 [00:00<?, ?it/s]"
      ]
     },
     "metadata": {},
     "output_type": "display_data"
    },
    {
     "data": {
      "application/vnd.jupyter.widget-view+json": {
       "model_id": "bd99c9ffb68f4841a0cd932af0c04ee7",
       "version_major": 2,
       "version_minor": 0
      },
      "text/plain": [
       "Colorizing point clouds:   0%|          | 0/4071 [00:00<?, ?it/s]"
      ]
     },
     "metadata": {},
     "output_type": "display_data"
    },
    {
     "data": {
      "application/vnd.jupyter.widget-view+json": {
       "model_id": "0b6c34e2342a46a7be398bc26d99a477",
       "version_major": 2,
       "version_minor": 0
      },
      "text/plain": [
       "Colorizing point clouds:   0%|          | 0/1591 [00:00<?, ?it/s]"
      ]
     },
     "metadata": {},
     "output_type": "display_data"
    },
    {
     "data": {
      "application/vnd.jupyter.widget-view+json": {
       "model_id": "b3984dc30ee643869d405915b1cf8c51",
       "version_major": 2,
       "version_minor": 0
      },
      "text/plain": [
       "Colorizing point clouds:   0%|          | 0/1201 [00:00<?, ?it/s]"
      ]
     },
     "metadata": {},
     "output_type": "display_data"
    }
   ],
   "source": [
    "for seq in tqdm(sequences, desc=\"Processing Sequences\"):\n",
    "    basedir = os.path.join(sequences_rootdir, seq)\n",
    "    pointdir = f'{basedir}/velodyne'\n",
    "    labeldir = f'{basedir}/labels'\n",
    "    imgdir = f'{basedir}/image_2'\n",
    "    calib_file = f'{basedir}/calib.txt'\n",
    "    # search all .bin files in pointdir and put them in a list\n",
    "    point_files = sorted([f for f in os.listdir(pointdir) if f.endswith('.bin')])\n",
    "    # search all .png files in imgdir and put them in a list\n",
    "    img_files = sorted([f for f in os.listdir(imgdir) if f.endswith('.png')])\n",
    "    # search all .label files in labeldir and put them in a list\n",
    "    label_files = sorted([f for f in os.listdir(labeldir) if f.endswith('.label')])\n",
    "    # make sure the number of point files and image files match\n",
    "    if len(point_files) != len(img_files):\n",
    "        raise ValueError(\"Number of point files and image files do not match.\")\n",
    "    if len(point_files) != len(label_files):\n",
    "        raise ValueError(\"Number of point files and label files do not match.\")\n",
    "\n",
    "    # save the preprocess point cloud to a new file in the subfolder 'preprocess', use the same filename\n",
    "    preprocess_dir = os.path.join(basedir, 'preprocess')\n",
    "    os.makedirs(preprocess_dir, exist_ok=True)\n",
    "\n",
    "    # go through the list of point files and image files and colorize the points\n",
    "    for point_file, img_file, label_file in tqdm(zip(point_files, img_files, label_files), total=len(point_files), desc=\"Colorizing point clouds\", leave=False):\n",
    "        pc_file = os.path.join(pointdir, point_file)\n",
    "        im_file = os.path.join(imgdir, img_file)\n",
    "        label_file = os.path.join(labeldir, label_file)\n",
    "        label,_ = readLabel(label_file)  \n",
    "        points, pts_valid, colors = doColorize(pc_file, im_file, calib_file, save_only_valid_points=False, save_file=False)\n",
    "        # check if length of points and labels match\n",
    "        if len(points) != len(label):\n",
    "            raise ValueError(f\"Number of points ({len(points)}) does not match number of labels ({len(label)}) in file {label_file}.\")\n",
    "        # cascade the labels to the points\n",
    "        points = np.hstack((points, label[:, np.newaxis]))  # add labels\n",
    "        # save the points to a new file in the preprocess directory\n",
    "        output_file = os.path.join(preprocess_dir, point_file)\n",
    "        points.astype(np.float32).tofile(output_file)"
   ]
  }
 ],
 "metadata": {
  "kernelspec": {
   "display_name": "pykitti",
   "language": "python",
   "name": "python3"
  },
  "language_info": {
   "codemirror_mode": {
    "name": "ipython",
    "version": 3
   },
   "file_extension": ".py",
   "mimetype": "text/x-python",
   "name": "python",
   "nbconvert_exporter": "python",
   "pygments_lexer": "ipython3",
   "version": "3.12.7"
  }
 },
 "nbformat": 4,
 "nbformat_minor": 5
}
