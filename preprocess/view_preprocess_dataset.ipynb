{
 "cells": [
  {
   "cell_type": "code",
   "execution_count": 1,
   "id": "2c84dc49",
   "metadata": {},
   "outputs": [],
   "source": [
    "import numpy as np"
   ]
  },
  {
   "cell_type": "code",
   "execution_count": 2,
   "id": "877b7727",
   "metadata": {},
   "outputs": [],
   "source": [
    "# proj_pointcloud is the 2D numpy array with dimention (proj_h, proj_w, 10) and each elements include range,x,y,z,intensity,flag,r,g,b,label\n",
    "import matplotlib.pyplot as plt\n",
    "\n",
    "# plot the range\n",
    "def plot_range(proj_pointcloud):\n",
    "    plt.imshow(proj_pointcloud[..., 0], cmap='jet')\n",
    "    plt.axis('off') # do not show x and y axis\n",
    "    plt.show()\n",
    "\n",
    "# plot RGB image from proj_pointcloud\n",
    "def plot_rgb(proj_pointcloud):\n",
    "    # proj_pointcloud[..., 6:9] are r,g,b channels\n",
    "    rgb = proj_pointcloud[..., 6:9]\n",
    "    # Clip values to [0, 1] if normalized, else to [0, 255]\n",
    "    if rgb.max() <= 1.0:\n",
    "        rgb = (rgb * 255).astype(np.uint8)\n",
    "    else:\n",
    "        rgb = rgb.astype(np.uint8)\n",
    "    plt.imshow(rgb)\n",
    "    plt.axis('off')\n",
    "    plt.show()\n",
    "\n",
    "# plot label image from proj_pointcloud\n",
    "def plot_label(proj_pointcloud):\n",
    "    # proj_pointcloud[..., 9] is the label channel\n",
    "    label_img = proj_pointcloud[..., 9]\n",
    "    plt.imshow(label_img, cmap='tab20')\n",
    "    plt.axis('off')\n",
    "    plt.show()\n",
    "\n",
    "# save range image\n",
    "def save_range_image(proj_pointcloud, output_file):\n",
    "    plt.imsave(output_file, proj_pointcloud[..., 0], cmap='jet')    \n",
    "# save rgb image\n",
    "def save_rgb_image(proj_pointcloud, output_file):\n",
    "    rgb = proj_pointcloud[..., 6:9]\n",
    "    if rgb.max() <= 1.0:\n",
    "        rgb = (rgb * 255).astype(np.uint8)\n",
    "    else:\n",
    "        rgb = rgb.astype(np.uint8)\n",
    "    plt.imsave(output_file, rgb)\n",
    "# save label image\n",
    "def save_label_image(proj_pointcloud, output_file):\n",
    "    label_img = proj_pointcloud[..., 9]\n",
    "    plt.imsave(output_file, label_img, cmap='tab20') "
   ]
  },
  {
   "cell_type": "code",
   "execution_count": 3,
   "id": "1c72a0c5",
   "metadata": {},
   "outputs": [],
   "source": [
    "# This applied to semanticKITTI dataset only\n",
    "# proj_w=2048\n",
    "# proj_h=64\n",
    "# # Read the file into pcd and reshape as (proj_h, proj_w, 10)\n",
    "# pcd = np.fromfile('../../sequences/08/preprocess/000100.bin', dtype=np.float32).reshape(proj_h, proj_w, 10)\n",
    "\n",
    "proj_w=480\n",
    "proj_h=48\n",
    "# Read the file into pcd and reshape as (proj_h, proj_w, 10)\n",
    "pcd = np.fromfile('../../sequences/08/preprocess_mini/000100.bin', dtype=np.float32).reshape(proj_h, proj_w, 10)\n",
    "\n"
   ]
  },
  {
   "cell_type": "code",
   "execution_count": 4,
   "id": "0bf518f2",
   "metadata": {},
   "outputs": [],
   "source": [
    "# plot_range(pcd)\n",
    "# plot_rgb(pcd)\n",
    "# plot_label(pcd)\n",
    "save_range_image(pcd, 'range_image.png')  # Save the range image\n",
    "save_rgb_image(pcd, 'rgb_image.png')  # Save the RGB image\n",
    "save_label_image(pcd, 'label_image.png')  # Save the label image"
   ]
  }
 ],
 "metadata": {
  "kernelspec": {
   "display_name": "pykitti",
   "language": "python",
   "name": "python3"
  },
  "language_info": {
   "codemirror_mode": {
    "name": "ipython",
    "version": 3
   },
   "file_extension": ".py",
   "mimetype": "text/x-python",
   "name": "python",
   "nbconvert_exporter": "python",
   "pygments_lexer": "ipython3",
   "version": "3.13.5"
  }
 },
 "nbformat": 4,
 "nbformat_minor": 5
}
