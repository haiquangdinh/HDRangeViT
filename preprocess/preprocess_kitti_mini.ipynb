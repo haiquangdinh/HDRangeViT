{
 "cells": [
  {
   "cell_type": "markdown",
   "id": "1d13c287",
   "metadata": {},
   "source": [
    "### Minimize the semanticKITTI dataset to only portion that has RGB color\n",
    "\n",
    "Read the file that preprocess by preprocess_kitti (proj_h, proj_w, 10)\n",
    "\n",
    "Cut the part where color is presented ()\n",
    "\n",
    "clear data of any point that has color valid flag = 0 to undefined (=0)\n",
    "\n",
    "clear data any point that has no range projection (=-1) to undefined (=0)."
   ]
  },
  {
   "cell_type": "code",
   "execution_count": 6,
   "id": "6c2794e4",
   "metadata": {},
   "outputs": [],
   "source": [
    "import numpy as np\n",
    "import os\n",
    "from tqdm.notebook import tqdm"
   ]
  },
  {
   "cell_type": "code",
   "execution_count": null,
   "id": "e07c51ef",
   "metadata": {},
   "outputs": [],
   "source": [
    "sequences_rootdir = '..\\\\..\\\\sequences'\n",
    "sequences = ['00', '01', '02', '03', '04', '05', '06', '07', '08', '09', '10']\n",
    "# sequences = ['03']\n",
    "proj_w=2048\n",
    "proj_h=64\n",
    "\n",
    "w_cut=[780,1260]\n",
    "h_cut=[0,48]"
   ]
  },
  {
   "cell_type": "code",
   "execution_count": null,
   "id": "dca45a7d",
   "metadata": {},
   "outputs": [
    {
     "data": {
      "application/vnd.jupyter.widget-view+json": {
       "model_id": "f5ebfbd043504e69aee2a06f4a5d9047",
       "version_major": 2,
       "version_minor": 0
      },
      "text/plain": [
       "Processing Sequences:   0%|          | 0/1 [00:00<?, ?it/s]"
      ]
     },
     "metadata": {},
     "output_type": "display_data"
    },
    {
     "data": {
      "application/vnd.jupyter.widget-view+json": {
       "model_id": "fcf2d49bbc134320a0a8303133963a1d",
       "version_major": 2,
       "version_minor": 0
      },
      "text/plain": [
       "Colorizing point clouds:   0%|          | 0/801 [00:00<?, ?it/s]"
      ]
     },
     "metadata": {},
     "output_type": "display_data"
    }
   ],
   "source": [
    "for seq in tqdm(sequences, desc=\"Processing Sequences\"):\n",
    "    basedir = os.path.join(sequences_rootdir, seq)\n",
    "    pointdir = os.path.join(sequences_rootdir, seq, 'preprocess')\n",
    "    # search all .bin files in pointdir and put them in a list\n",
    "    point_files = sorted([f for f in os.listdir(pointdir) if f.endswith('.bin')])\n",
    "\n",
    "    # save the preprocess point cloud to a new file in the subfolder 'preprocess_mini', use the same filename\n",
    "    preprocess_dir = os.path.join(basedir, 'preprocess_mini')\n",
    "    os.makedirs(preprocess_dir, exist_ok=True)\n",
    "\n",
    "    # go through the list of point files and image files and colorize the points\n",
    "    for point_file in tqdm(point_files, total=len(point_files), desc=\"Colorizing point clouds\", leave=False):\n",
    "        pc_file = os.path.join(pointdir, point_file) \n",
    "        # This applied to semanticKITTI dataset only\n",
    "        # Read the file into pcd and reshape as (proj_h, proj_w, 10)\n",
    "        # pcd is the 2D numpy array with dimention (proj_h, proj_w, 10) and each elements include range, x, y, z, intensity, flag, r, g, b, label\n",
    "        pcd = np.fromfile(pc_file, dtype=np.float32).reshape(proj_h, proj_w, 10)\n",
    "\n",
    "        # Get region of interest using w_cut and h_cut\n",
    "        roi = pcd[h_cut[0]:h_cut[1], w_cut[0]:w_cut[1], :]\n",
    "        # clear data of any point that has flag = 0 (invalid color) or range = -1 (invalid range)\n",
    "        mask_invalid = (roi[..., 5] == 0) | (roi[..., 0] == -1)\n",
    "        roi[mask_invalid] = 0\n",
    "\n",
    "        output_file = os.path.join(preprocess_dir, point_file)\n",
    "        roi.astype(np.float32).tofile(output_file)\n"
   ]
  },
  {
   "cell_type": "code",
   "execution_count": 9,
   "id": "5e190ddb",
   "metadata": {},
   "outputs": [],
   "source": [
    "# proj_pointcloud is the 2D numpy array with dimention (proj_h, proj_w, 10) and each elements include range,x,y,z,intensity,flag,r,g,b,label\n",
    "import matplotlib.pyplot as plt\n",
    "\n",
    "# plot the range\n",
    "def plot_range(proj_pointcloud):\n",
    "    plt.imshow(proj_pointcloud[..., 0], cmap='jet')\n",
    "    plt.axis('off') # do not show x and y axis\n",
    "    plt.show()\n",
    "\n",
    "# plot RGB image from proj_pointcloud\n",
    "def plot_rgb(proj_pointcloud):\n",
    "    # proj_pointcloud[..., 6:9] are r,g,b channels\n",
    "    rgb = proj_pointcloud[..., 6:9]\n",
    "    # Clip values to [0, 1] if normalized, else to [0, 255]\n",
    "    if rgb.max() <= 1.0:\n",
    "        rgb = (rgb * 255).astype(np.uint8)\n",
    "    else:\n",
    "        rgb = rgb.astype(np.uint8)\n",
    "    plt.imshow(rgb)\n",
    "    plt.axis('off')\n",
    "    plt.show()\n",
    "\n",
    "# plot label image from proj_pointcloud\n",
    "def plot_label(proj_pointcloud):\n",
    "    # proj_pointcloud[..., 9] is the label channel\n",
    "    label_img = proj_pointcloud[..., 9]\n",
    "    plt.imshow(label_img, cmap='tab20')\n",
    "    plt.axis('off')\n",
    "    plt.show()\n",
    "\n",
    "# save range image\n",
    "def save_range_image(proj_pointcloud, output_file):\n",
    "    plt.imsave(output_file, proj_pointcloud[..., 0], cmap='jet')    \n",
    "# save rgb image\n",
    "def save_rgb_image(proj_pointcloud, output_file):\n",
    "    rgb = proj_pointcloud[..., 6:9]\n",
    "    if rgb.max() <= 1.0:\n",
    "        rgb = (rgb * 255).astype(np.uint8)\n",
    "    else:\n",
    "        rgb = rgb.astype(np.uint8)\n",
    "    plt.imsave(output_file, rgb)\n",
    "# save label image\n",
    "def save_label_image(proj_pointcloud, output_file):\n",
    "    label_img = proj_pointcloud[..., 9]\n",
    "    plt.imsave(output_file, label_img, cmap='tab20') "
   ]
  },
  {
   "cell_type": "code",
   "execution_count": 10,
   "id": "5d7c942a",
   "metadata": {},
   "outputs": [],
   "source": [
    "save_range_image(roi, 'range_image.png')  # Save the range image\n",
    "save_rgb_image(roi, 'rgb_image.png')  # Save the RGB image\n",
    "save_label_image(roi, 'label_image.png')  # Save the label image"
   ]
  }
 ],
 "metadata": {
  "kernelspec": {
   "display_name": "pykitti",
   "language": "python",
   "name": "python3"
  },
  "language_info": {
   "codemirror_mode": {
    "name": "ipython",
    "version": 3
   },
   "file_extension": ".py",
   "mimetype": "text/x-python",
   "name": "python",
   "nbconvert_exporter": "python",
   "pygments_lexer": "ipython3",
   "version": "3.13.5"
  }
 },
 "nbformat": 4,
 "nbformat_minor": 5
}
