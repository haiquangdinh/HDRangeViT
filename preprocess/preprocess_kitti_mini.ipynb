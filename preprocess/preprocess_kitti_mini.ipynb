{
 "cells": [
  {
   "cell_type": "markdown",
   "id": "1d13c287",
   "metadata": {},
   "source": [
    "### Minimize the semanticKITTI dataset to only portion that has RGB color\n",
    "\n",
    "Read the file that preprocess by preprocess_kitti (proj_h, proj_w, 10)\n",
    "\n",
    "Cut the part where color is presented ()\n",
    "\n",
    "clear data of any point that has color valid flag = 0 to undefined (=0)\n",
    "\n",
    "clear data any point that has no range projection (=-1) to undefined (=0)."
   ]
  },
  {
   "cell_type": "code",
   "execution_count": 1,
   "id": "6c2794e4",
   "metadata": {},
   "outputs": [],
   "source": [
    "import numpy as np\n",
    "import os\n",
    "from tqdm.notebook import tqdm"
   ]
  },
  {
   "cell_type": "code",
   "execution_count": 2,
   "id": "e07c51ef",
   "metadata": {},
   "outputs": [],
   "source": [
    "sequences_rootdir = '..\\\\..\\\\sequences'\n",
    "sequences = ['00', '01', '02', '03', '04', '05', '06', '07', '08', '09', '10']\n",
    "# sequences = ['03']\n",
    "proj_w=2048\n",
    "proj_h=64\n",
    "\n",
    "w_cut=[780,1260]\n",
    "h_cut=[0,48]"
   ]
  },
  {
   "cell_type": "code",
   "execution_count": 3,
   "id": "dca45a7d",
   "metadata": {},
   "outputs": [
    {
     "data": {
      "application/vnd.jupyter.widget-view+json": {
       "model_id": "0524233e03d146fba1e004d1ca1544f3",
       "version_major": 2,
       "version_minor": 0
      },
      "text/plain": [
       "Processing Sequences:   0%|          | 0/11 [00:00<?, ?it/s]"
      ]
     },
     "metadata": {},
     "output_type": "display_data"
    },
    {
     "data": {
      "application/vnd.jupyter.widget-view+json": {
       "model_id": "ea8557b24f0843c593134705f87c7f9e",
       "version_major": 2,
       "version_minor": 0
      },
      "text/plain": [
       "Colorizing point clouds:   0%|          | 0/4541 [00:00<?, ?it/s]"
      ]
     },
     "metadata": {},
     "output_type": "display_data"
    },
    {
     "data": {
      "application/vnd.jupyter.widget-view+json": {
       "model_id": "035407bab6e242e48b6da305e09298b8",
       "version_major": 2,
       "version_minor": 0
      },
      "text/plain": [
       "Colorizing point clouds:   0%|          | 0/1101 [00:00<?, ?it/s]"
      ]
     },
     "metadata": {},
     "output_type": "display_data"
    },
    {
     "data": {
      "application/vnd.jupyter.widget-view+json": {
       "model_id": "ad17c9c785994f23a6082306b47b313c",
       "version_major": 2,
       "version_minor": 0
      },
      "text/plain": [
       "Colorizing point clouds:   0%|          | 0/4661 [00:00<?, ?it/s]"
      ]
     },
     "metadata": {},
     "output_type": "display_data"
    },
    {
     "data": {
      "application/vnd.jupyter.widget-view+json": {
       "model_id": "33c757e2bdd94b92b906dc1e4616fbbf",
       "version_major": 2,
       "version_minor": 0
      },
      "text/plain": [
       "Colorizing point clouds:   0%|          | 0/801 [00:00<?, ?it/s]"
      ]
     },
     "metadata": {},
     "output_type": "display_data"
    },
    {
     "data": {
      "application/vnd.jupyter.widget-view+json": {
       "model_id": "dc60a381f1654aa0b9f1fab70df3ca0c",
       "version_major": 2,
       "version_minor": 0
      },
      "text/plain": [
       "Colorizing point clouds:   0%|          | 0/271 [00:00<?, ?it/s]"
      ]
     },
     "metadata": {},
     "output_type": "display_data"
    },
    {
     "data": {
      "application/vnd.jupyter.widget-view+json": {
       "model_id": "1c74e9feed9f4a5b92d54394b6b7b662",
       "version_major": 2,
       "version_minor": 0
      },
      "text/plain": [
       "Colorizing point clouds:   0%|          | 0/2761 [00:00<?, ?it/s]"
      ]
     },
     "metadata": {},
     "output_type": "display_data"
    },
    {
     "data": {
      "application/vnd.jupyter.widget-view+json": {
       "model_id": "691457e76b534b319a750ae7ac660122",
       "version_major": 2,
       "version_minor": 0
      },
      "text/plain": [
       "Colorizing point clouds:   0%|          | 0/1101 [00:00<?, ?it/s]"
      ]
     },
     "metadata": {},
     "output_type": "display_data"
    },
    {
     "data": {
      "application/vnd.jupyter.widget-view+json": {
       "model_id": "7b6b2187dc624b589146cbd3f5f59ef4",
       "version_major": 2,
       "version_minor": 0
      },
      "text/plain": [
       "Colorizing point clouds:   0%|          | 0/1101 [00:00<?, ?it/s]"
      ]
     },
     "metadata": {},
     "output_type": "display_data"
    },
    {
     "data": {
      "application/vnd.jupyter.widget-view+json": {
       "model_id": "f1b8c73635514bc4ace20b3cf19e755a",
       "version_major": 2,
       "version_minor": 0
      },
      "text/plain": [
       "Colorizing point clouds:   0%|          | 0/4071 [00:00<?, ?it/s]"
      ]
     },
     "metadata": {},
     "output_type": "display_data"
    },
    {
     "data": {
      "application/vnd.jupyter.widget-view+json": {
       "model_id": "8c1d675a112745e782203cb15b3dcb5e",
       "version_major": 2,
       "version_minor": 0
      },
      "text/plain": [
       "Colorizing point clouds:   0%|          | 0/1591 [00:00<?, ?it/s]"
      ]
     },
     "metadata": {},
     "output_type": "display_data"
    },
    {
     "data": {
      "application/vnd.jupyter.widget-view+json": {
       "model_id": "99a6c06309e946d4be8f46c4d6cc696a",
       "version_major": 2,
       "version_minor": 0
      },
      "text/plain": [
       "Colorizing point clouds:   0%|          | 0/1201 [00:00<?, ?it/s]"
      ]
     },
     "metadata": {},
     "output_type": "display_data"
    }
   ],
   "source": [
    "for seq in tqdm(sequences, desc=\"Processing Sequences\"):\n",
    "    basedir = os.path.join(sequences_rootdir, seq)\n",
    "    pointdir = os.path.join(sequences_rootdir, seq, 'preprocess')\n",
    "    # search all .bin files in pointdir and put them in a list\n",
    "    point_files = sorted([f for f in os.listdir(pointdir) if f.endswith('.bin')])\n",
    "\n",
    "    # save the preprocess point cloud to a new file in the subfolder 'preprocess_mini', use the same filename\n",
    "    preprocess_dir = os.path.join(basedir, 'preprocess_mini')\n",
    "    os.makedirs(preprocess_dir, exist_ok=True)\n",
    "\n",
    "    # go through the list of point files and image files and colorize the points\n",
    "    for point_file in tqdm(point_files, total=len(point_files), desc=\"Colorizing point clouds\", leave=False):\n",
    "        pc_file = os.path.join(pointdir, point_file) \n",
    "        # This applied to semanticKITTI dataset only\n",
    "        # Read the file into pcd and reshape as (proj_h, proj_w, 10)\n",
    "        # pcd is the 2D numpy array with dimention (proj_h, proj_w, 10) and each elements include range, x, y, z, intensity, flag, r, g, b, label\n",
    "        pcd = np.fromfile(pc_file, dtype=np.float32).reshape(proj_h, proj_w, 10)\n",
    "\n",
    "        # Get region of interest using w_cut and h_cut\n",
    "        roi = pcd[h_cut[0]:h_cut[1], w_cut[0]:w_cut[1], :]\n",
    "        # clear data of any point that has flag = 0 (invalid color) or range = -1 (invalid range)\n",
    "        mask_invalid = (roi[..., 5] == 0) | (roi[..., 0] == -1)\n",
    "        roi[mask_invalid] = 0\n",
    "\n",
    "        output_file = os.path.join(preprocess_dir, point_file)\n",
    "        roi.astype(np.float32).tofile(output_file)\n"
   ]
  },
  {
   "cell_type": "code",
   "execution_count": 4,
   "id": "5e190ddb",
   "metadata": {},
   "outputs": [],
   "source": [
    "# proj_pointcloud is the 2D numpy array with dimention (proj_h, proj_w, 10) and each elements include range,x,y,z,intensity,flag,r,g,b,label\n",
    "import matplotlib.pyplot as plt\n",
    "\n",
    "# plot the range\n",
    "def plot_range(proj_pointcloud):\n",
    "    plt.imshow(proj_pointcloud[..., 0], cmap='jet')\n",
    "    plt.axis('off') # do not show x and y axis\n",
    "    plt.show()\n",
    "\n",
    "# plot RGB image from proj_pointcloud\n",
    "def plot_rgb(proj_pointcloud):\n",
    "    # proj_pointcloud[..., 6:9] are r,g,b channels\n",
    "    rgb = proj_pointcloud[..., 6:9]\n",
    "    # Clip values to [0, 1] if normalized, else to [0, 255]\n",
    "    if rgb.max() <= 1.0:\n",
    "        rgb = (rgb * 255).astype(np.uint8)\n",
    "    else:\n",
    "        rgb = rgb.astype(np.uint8)\n",
    "    plt.imshow(rgb)\n",
    "    plt.axis('off')\n",
    "    plt.show()\n",
    "\n",
    "# plot label image from proj_pointcloud\n",
    "def plot_label(proj_pointcloud):\n",
    "    # proj_pointcloud[..., 9] is the label channel\n",
    "    label_img = proj_pointcloud[..., 9]\n",
    "    plt.imshow(label_img, cmap='tab20')\n",
    "    plt.axis('off')\n",
    "    plt.show()\n",
    "\n",
    "# save range image\n",
    "def save_range_image(proj_pointcloud, output_file):\n",
    "    plt.imsave(output_file, proj_pointcloud[..., 0], cmap='jet')    \n",
    "# save rgb image\n",
    "def save_rgb_image(proj_pointcloud, output_file):\n",
    "    rgb = proj_pointcloud[..., 6:9]\n",
    "    if rgb.max() <= 1.0:\n",
    "        rgb = (rgb * 255).astype(np.uint8)\n",
    "    else:\n",
    "        rgb = rgb.astype(np.uint8)\n",
    "    plt.imsave(output_file, rgb)\n",
    "# save label image\n",
    "def save_label_image(proj_pointcloud, output_file):\n",
    "    label_img = proj_pointcloud[..., 9]\n",
    "    plt.imsave(output_file, label_img, cmap='tab20') "
   ]
  },
  {
   "cell_type": "code",
   "execution_count": 5,
   "id": "5d7c942a",
   "metadata": {},
   "outputs": [],
   "source": [
    "save_range_image(roi, 'range_image.png')  # Save the range image\n",
    "save_rgb_image(roi, 'rgb_image.png')  # Save the RGB image\n",
    "save_label_image(roi, 'label_image.png')  # Save the label image"
   ]
  }
 ],
 "metadata": {
  "kernelspec": {
   "display_name": "pykitti",
   "language": "python",
   "name": "python3"
  },
  "language_info": {
   "codemirror_mode": {
    "name": "ipython",
    "version": 3
   },
   "file_extension": ".py",
   "mimetype": "text/x-python",
   "name": "python",
   "nbconvert_exporter": "python",
   "pygments_lexer": "ipython3",
   "version": "3.13.5"
  }
 },
 "nbformat": 4,
 "nbformat_minor": 5
}
