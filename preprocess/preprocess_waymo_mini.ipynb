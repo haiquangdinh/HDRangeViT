{
 "cells": [
  {
   "cell_type": "code",
   "execution_count": 2,
   "id": "6eae6c79",
   "metadata": {},
   "outputs": [],
   "source": [
    "#  This tutorial show that only pandas is used\n",
    "import numpy as np\n",
    "import os\n",
    "from tqdm.notebook import tqdm"
   ]
  },
  {
   "cell_type": "code",
   "execution_count": 4,
   "id": "fd1f16a9",
   "metadata": {},
   "outputs": [
    {
     "data": {
      "application/vnd.jupyter.widget-view+json": {
       "model_id": "c3adf1fb07d0489383b4f09bc83f2be0",
       "version_major": 2,
       "version_minor": 0
      },
      "text/plain": [
       "Processing file:   0%|          | 0/5976 [00:00<?, ?it/s]"
      ]
     },
     "metadata": {},
     "output_type": "display_data"
    }
   ],
   "source": [
    "# Path to the directory with all components\n",
    "base_dir = '../../WoD/validation'\n",
    "height = 64\n",
    "width = 2650\n",
    "w_cut=[490,2170] # 1680\n",
    "h_cut=[0,64] # 64\n",
    "in_dir = f'{base_dir}/preprocess'\n",
    "out_dir = f'{base_dir}/preprocess_mini'\n",
    "os.makedirs(out_dir, exist_ok=True)\n",
    "# search all .bin files in the in_dir directory\n",
    "input_files = sorted([f for f in os.listdir(in_dir) if f.endswith('.bin')])\n",
    "\n",
    "# go through the list of files\n",
    "for file in tqdm(input_files, desc=\"Processing file\"):\n",
    "    data = np.fromfile(f'{in_dir}/{file}', dtype=np.float32)\n",
    "    data = data.reshape((height, width, 10))  # reshape to (64, 2650, 10)\n",
    "    # cut the data\n",
    "    data = data[h_cut[0]:h_cut[1], w_cut[0]:w_cut[1], :]\n",
    "    data.tofile(f'{out_dir}/{file}')\n",
    "\n"
   ]
  }
 ],
 "metadata": {
  "kernelspec": {
   "display_name": "waymo311",
   "language": "python",
   "name": "python3"
  },
  "language_info": {
   "codemirror_mode": {
    "name": "ipython",
    "version": 3
   },
   "file_extension": ".py",
   "mimetype": "text/x-python",
   "name": "python",
   "nbconvert_exporter": "python",
   "pygments_lexer": "ipython3",
   "version": "3.11.13"
  }
 },
 "nbformat": 4,
 "nbformat_minor": 5
}
