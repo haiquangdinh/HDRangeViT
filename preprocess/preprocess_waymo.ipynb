{
 "cells": [
  {
   "cell_type": "markdown",
   "id": "c65c5bd0",
   "metadata": {},
   "source": [
    "### tag name:\n",
    "\n",
    "camera_box, camera_calibration, camera_hkp, camera_image, camera_segmentation, camera_to_lidar_box_association\n",
    "\n",
    "lidar, lidar_box, lidar_calibration, lidar_camera_projection, lidar_camera_synced_box, lidar_hkp, lidar_pose, lidar_segmentation\n",
    "\n",
    "projected_lidar_box, stats, vehicle_pose\n",
    "\n",
    "#### lidar\n",
    "[LiDARComponent].range_image_return1\n",
    "\n",
    "[64, 2650, 4]\n",
    "\n",
    "channel 0: range (see spherical coordinate system definition)\n",
    "\n",
    "channel 1: lidar intensity\n",
    "\n",
    "channel 2: lidar elongation\n",
    "\n",
    "channel 3: is_in_nlz (1 = in, -1 = not in)\n",
    "\n",
    "#### lidar_camera_projection\n",
    "[LiDARCameraProjectionComponent].range_image_return1\n",
    "\n",
    "[6, 2650, 6]\n",
    "\n",
    "channel 0: camera name\n",
    "\n",
    "channel 1: x (axis along image width)\n",
    "\n",
    "channel 2: y (axis along image height)\n",
    "\n",
    "channel 3: camera name of 2nd projection (set to UNKNOWN if no projection)\n",
    "\n",
    "channel 4: x (axis along image width)\n",
    "\n",
    "channel 5: y (axis along image height)"
   ]
  },
  {
   "cell_type": "code",
   "execution_count": 1,
   "id": "ff871a35",
   "metadata": {},
   "outputs": [
    {
     "name": "stderr",
     "output_type": "stream",
     "text": [
      "2025-09-05 00:06:39.589847: I tensorflow/core/util/port.cc:110] oneDNN custom operations are on. You may see slightly different numerical results due to floating-point round-off errors from different computation orders. To turn them off, set the environment variable `TF_ENABLE_ONEDNN_OPTS=0`.\n",
      "2025-09-05 00:06:39.591036: I tensorflow/tsl/cuda/cudart_stub.cc:28] Could not find cuda drivers on your machine, GPU will not be used.\n",
      "2025-09-05 00:06:39.613956: I tensorflow/tsl/cuda/cudart_stub.cc:28] Could not find cuda drivers on your machine, GPU will not be used.\n",
      "2025-09-05 00:06:39.615029: I tensorflow/core/platform/cpu_feature_guard.cc:182] This TensorFlow binary is optimized to use available CPU instructions in performance-critical operations.\n",
      "To enable the following instructions: AVX2 AVX_VNNI FMA, in other operations, rebuild TensorFlow with the appropriate compiler flags.\n",
      "2025-09-05 00:06:40.082118: W tensorflow/compiler/tf2tensorrt/utils/py_utils.cc:38] TF-TRT Warning: Could not find TensorRT\n"
     ]
    }
   ],
   "source": [
    "import pandas as pd\n",
    "import numpy as np\n",
    "import matplotlib.pyplot as plt\n",
    "import os\n",
    "from tqdm.notebook import tqdm\n",
    "import tensorflow as tf\n",
    "from waymo_open_dataset.utils import range_image_utils"
   ]
  },
  {
   "cell_type": "code",
   "execution_count": 2,
   "id": "a91eea2e",
   "metadata": {},
   "outputs": [],
   "source": [
    "WAYMO_TO_SEMKITTI_20 = {\n",
    "    0: 0,   # UNKNOWN -> unlabeled\n",
    "    1: 1,   # CAR -> car\n",
    "    2: 4,   # TRUCK -> truck\n",
    "    3: 4,   # BUS -> truck\n",
    "    4: 5,   # OTHER_VEHICLE -> other-vehicle\n",
    "    5: 8,   # MOTORCYCLIST -> motorcyclist\n",
    "    6: 7,   # BICYCLIST -> bicyclist\n",
    "    7: 6,   # PEDESTRIAN -> person\n",
    "    8: 19,  # SIGN -> traffic-sign\n",
    "    9: 19,  # TRAFFIC_LIGHT -> traffic-sign\n",
    "    10: 18, # POLE -> pole\n",
    "    11: 18, # CONSTRUCTION_CONE -> pole (approx)\n",
    "    12: 2,  # BICYCLE -> bicycle\n",
    "    13: 3,  # MOTORCYCLE -> motorcycle\n",
    "    14: 13, # BUILDING -> building\n",
    "    15: 15, # VEGETATION -> vegetation\n",
    "    16: 16, # TREE_TRUNK -> trunk\n",
    "    17: 12, # CURB -> other-ground (alt: road=9)\n",
    "    18: 9,  # ROAD -> road\n",
    "    19: 9,  # LANE_MARKER -> road\n",
    "    20: 12, # OTHER_GROUND -> other-ground\n",
    "    21: 11, # WALKABLE -> sidewalk\n",
    "    22: 11, # SIDEWALK -> sidewalk\n",
    "}\n",
    "\n",
    "def decode_jpeg_image(img_proto):\n",
    "    \"\"\"Decode a Waymo camera image proto into uint8 HxWx3 (RGB).\"\"\"\n",
    "    img = tf.image.decode_jpeg(img_proto, channels=3)\n",
    "    return img.numpy()\n",
    "\n",
    "# def decode_jpeg_image(img_proto):\n",
    "#     img_array = np.frombuffer(img_proto, np.uint8)\n",
    "#     img = cv2.imdecode(img_array, cv2.IMREAD_COLOR)  # Returns BGR\n",
    "#     img = cv2.cvtColor(img, cv2.COLOR_BGR2RGB)       # Convert to RGB\n",
    "#     return img\n",
    "\n",
    "def _sample_rgb_nearest(img, rows, cols):\n",
    "    h, w = img.shape[:2]\n",
    "    rows = np.clip(rows, 0, h - 1)\n",
    "    cols = np.clip(cols, 0, w - 1)\n",
    "    return img[rows, cols, :]\n",
    "\n",
    "def colorize_range_image_v2(\n",
    "    proj,                 # [H, W, 6] = [cam1,row1,col1, cam2,row2,col2]\n",
    "    camera_images,        # dict: {camera_id:int -> np.uint8 [Hc,Wc,3]}\n",
    "    default_color=(128,128,128)\n",
    "):\n",
    "    \"\"\"\n",
    "    Returns:\n",
    "      colors_hw3: uint8 [H, W, 3]\n",
    "      used_mask:  bool  [H, W]  (True where a camera projection was used)\n",
    "    \"\"\"\n",
    "    H, W, C = proj.shape\n",
    "    assert C == 6, \"Expected v2 projection with two triplets: [cam1,row1,col1, cam2,row2,col2]\"\n",
    "    colors = np.empty((H, W, 3), dtype=np.uint8)\n",
    "    colors[:] = np.array(default_color, dtype=np.uint8)\n",
    "    used = np.zeros((H, W), dtype=bool)\n",
    "\n",
    "    cam1 = proj[..., 0]; r1 = proj[..., 1]; c1 = proj[..., 2]\n",
    "    cam2 = proj[..., 3]; r2 = proj[..., 4]; c2 = proj[..., 5]\n",
    "    # SWAP row and col here!\n",
    "    r1, c1 = c1, r1\n",
    "    r2, c2 = c2, r2\n",
    "    # Pass 1: try primary projection per camera\n",
    "    for cid, img in camera_images.items():\n",
    "        m1 = (cam1 == cid)\n",
    "        if not np.any(m1):\n",
    "            continue\n",
    "        rr = r1[m1].astype(np.int32)\n",
    "        cc = c1[m1].astype(np.int32)\n",
    "        rgb = _sample_rgb_nearest(img, rr, cc)\n",
    "        ii, jj = np.nonzero(m1)\n",
    "        colors[ii, jj, :] = rgb\n",
    "        used[ii, jj] = True\n",
    "\n",
    "    # Pass 2: fallback to secondary where primary failed\n",
    "    need = ~used\n",
    "    for cid, img in camera_images.items():\n",
    "        m2 = (cam2 == cid) & need\n",
    "        if not np.any(m2):\n",
    "            continue\n",
    "        rr = r2[m2].astype(np.int32)\n",
    "        cc = c2[m2].astype(np.int32)\n",
    "        rgb = _sample_rgb_nearest(img, rr, cc)\n",
    "        ii, jj = np.nonzero(m2)\n",
    "        colors[ii, jj, :] = rgb\n",
    "        used[ii, jj] = True\n",
    "\n",
    "    return colors, used\n",
    "\n",
    "def colorize_waymo(label_channel, lidar_channel, extrinsic, beam_inclination, lidar_camera_projection, cam_images):\n",
    "    # Get the semantic ID (ignore instance ID)\n",
    "    semantic_id = label_channel[:,:,1]\n",
    "    # Convert orig_sem_label to sem_label using the map\n",
    "    sem_label = np.vectorize(WAYMO_TO_SEMKITTI_20.get)(semantic_id)\n",
    "    # Get x, y, z from lidar_channel\n",
    "    lidar_range = lidar_channel[:,:,0]\n",
    "    lidar_intensity = lidar_channel[:,:,1]\n",
    "\n",
    "    # #########################################################\n",
    "    # convert lidar_range, extrinsic, and beam_inclination to tensors with [B, W, H] with B=1\n",
    "    lidar_range = tf.convert_to_tensor(lidar_range, dtype=tf.float32)\n",
    "    lidar_range = tf.expand_dims(lidar_range, axis=0)\n",
    "    extrinsic = tf.convert_to_tensor(extrinsic, dtype=tf.float32)\n",
    "    extrinsic = tf.expand_dims(extrinsic, axis=0)\n",
    "    beam_inclination = tf.convert_to_tensor(beam_inclination, dtype=tf.float32)\n",
    "    beam_inclination = tf.expand_dims(beam_inclination, axis=0)\n",
    "    # Convert to 3D points (vehicle frame)\n",
    "    points = range_image_utils.extract_point_cloud_from_range_image(lidar_range, extrinsic, beam_inclination)\n",
    "    #  make point to by numarray\n",
    "    points_np = points.numpy()\n",
    "    # squeeze to remove dimensions of size 1\n",
    "    points_np = points_np.squeeze()\n",
    "    lidar_range = lidar_range.numpy().squeeze()\n",
    "    # sanity check points_np: if lidar_range = -1, then points_np = -1\n",
    "    points_np[lidar_range == -1] = 0\n",
    "    #  put the range image so that it has size {H, W} with five channel: range, x, y, z, intensity in such order\n",
    "    # lidar_raw[:,:,0] then points_np then lidar_raw[:,:,1]\n",
    "    points_final = np.zeros((64, 2650, 5))\n",
    "    points_final[:,:,0] = lidar_range\n",
    "    points_final[:,:,1:4] = points_np\n",
    "    points_final[:,:,4] = lidar_intensity\n",
    "    # now we have data that similar to that of the paper. Just need to add R,G, B (which is huge thing to do)\n",
    "    rgb_grid, used_mask = colorize_range_image_v2(lidar_camera_projection, cam_images, default_color=(0,0,0))\n",
    "    # combine the final points with range, x, y, z, intensity, flag, R, G, B and label\n",
    "    # flag is valid when and only when range > 0 and used_mask is one\n",
    "    points_final_output = np.zeros((64, 2650, 10))\n",
    "    points_final_output[:,:,0] = points_final[:,:,0]  # range\n",
    "    points_final_output[:,:,1] = points_final[:,:,1]  # x\n",
    "    points_final_output[:,:,2] = points_final[:,:,2]  # y\n",
    "    points_final_output[:,:,3] = points_final[:,:,3]  # z\n",
    "    points_final_output[:,:,4] = points_final[:,:,4]  # intensity\n",
    "    points_final_output[:,:,5] = (points_final[:,:,0] > 0) & (used_mask)  # flag\n",
    "    points_final_output[:,:,6] = rgb_grid[:,:, 0]  # R\n",
    "    points_final_output[:,:,7] = rgb_grid[:,:, 1]  # G\n",
    "    points_final_output[:,:,8] = rgb_grid[:,:, 2]  # B\n",
    "    points_final_output[:,:,9] = sem_label  # label (not used)\n",
    "\n",
    "    # sanity put: any -1 element is set to 0\n",
    "    points_final_output[points_final_output == -1] = 0\n",
    "\n",
    "    return points_final_output  # [H, W, 10]: range, x, y, z, intensity, flag, R, G, B, label"
   ]
  },
  {
   "cell_type": "code",
   "execution_count": 3,
   "id": "223d8d35",
   "metadata": {},
   "outputs": [],
   "source": [
    "# Path to the directory with all components\n",
    "dataset_dir = '../../WoD/validation'\n",
    "height = 64\n",
    "width = 2650\n",
    "preprocess_dir = f'{dataset_dir}/preprocess'\n",
    "os.makedirs(preprocess_dir, exist_ok=True)\n",
    "# search all .parquet files in the lidar_segmentation directory\n",
    "lidar_segmentation_dir = f'{dataset_dir}/lidar_segmentation'\n",
    "context_names = sorted([f for f in os.listdir(lidar_segmentation_dir) if f.endswith('.parquet')])\n",
    "# go through the list of context_names, make sure corresponding files exist in lidar, camera_image, lidar_calibration, and lidar_camera_projection\n",
    "for context_name in context_names:\n",
    "    lidar_path = f'{dataset_dir}/lidar/{context_name}'\n",
    "    camera_path = f'{dataset_dir}/camera_image/{context_name}'\n",
    "    lidar_calibration_path = f'{dataset_dir}/lidar_calibration/{context_name}'\n",
    "    lidar_camera_projection_path = f'{dataset_dir}/lidar_camera_projection/{context_name}'\n",
    "    if not (os.path.exists(lidar_path) and os.path.exists(camera_path) and os.path.exists(lidar_calibration_path) and os.path.exists(lidar_camera_projection_path)):\n",
    "        print(f'Missing files for context: {context_name}')"
   ]
  },
  {
   "cell_type": "code",
   "execution_count": 4,
   "id": "003da0ce",
   "metadata": {},
   "outputs": [],
   "source": [
    "# lidar_segmentation_df = pd.read_parquet(f'{dataset_dir}/lidar_segmentation/{context_name}')\n",
    "# lidar_df = pd.read_parquet(f'{dataset_dir}/lidar/{context_name}')\n",
    "# camera_df = pd.read_parquet(f'{dataset_dir}/camera_image/{context_name}')\n",
    "# lidar_calibration_df = pd.read_parquet(f'{dataset_dir}/lidar_calibration/{context_name}')\n",
    "# lidar_camera_projection_df = pd.read_parquet(f'{dataset_dir}/lidar_camera_projection/{context_name}')"
   ]
  },
  {
   "cell_type": "code",
   "execution_count": 5,
   "id": "8e3dc564",
   "metadata": {},
   "outputs": [],
   "source": [
    "# for frame_index, frame_data in tqdm(lidar_segmentation_df.iterrows(), desc=\"Processing Frames\"):\n",
    "#     timestamp = frame_data.get('key.frame_timestamp_micros', None)\n",
    "#     label_channel = lidar_segmentation_df[lidar_segmentation_df['key.frame_timestamp_micros'] == timestamp]['[LiDARSegmentationLabelComponent].range_image_return1.values']\n",
    "#     label_channel = np.array(label_channel.values[0]).reshape(height, width, 2) \n",
    "#     lidar_channel = lidar_df[(lidar_df['key.frame_timestamp_micros'] == timestamp) & (lidar_df['key.laser_name'] == 1)]['[LiDARComponent].range_image_return1.values']\n",
    "#     lidar_channel = np.array(lidar_channel.values[0]).reshape(height, width, 4) \n",
    "#     lidar_calibration = lidar_calibration_df[lidar_calibration_df['key.laser_name'] == 1]\n",
    "#     extrinsic = lidar_calibration['[LiDARCalibrationComponent].extrinsic.transform'].values[0].reshape(4, 4)\n",
    "#     beam_inclination = lidar_calibration['[LiDARCalibrationComponent].beam_inclination.values'].values[0]\n",
    "#     lidar_camera_projection = lidar_camera_projection_df[(lidar_camera_projection_df['key.frame_timestamp_micros'] == timestamp) & (lidar_camera_projection_df['key.laser_name'] == 1)]['[LiDARCameraProjectionComponent].range_image_return1.values']\n",
    "#     lidar_camera_projection = np.array(lidar_camera_projection.values[0]).reshape(height, width, 6)\n",
    "#     cameras = camera_df[camera_df['key.frame_timestamp_micros'] == timestamp]\n",
    "#     # go through each row in cameras, decode the image with [CameraImageComponent].image and key.camera_name (not that camera ID = key.camera_name - 1)\n",
    "#     cam_images = {}\n",
    "#     for index, row in cameras.iterrows():\n",
    "#         cam_images[row['key.camera_name']] = decode_jpeg_image(row['[CameraImageComponent].image'])\n",
    "#     pcd = colorize_waymo(label_channel, lidar_channel, extrinsic, beam_inclination, lidar_camera_projection, cam_images)\n",
    "#     # save pcd to file\n",
    "#     output_file = os.path.join(preprocess_dir, context_name.replace('.parquet', f'_{timestamp}.bin'))\n",
    "#     pcd.astype(np.float32).tofile(output_file)\n"
   ]
  },
  {
   "cell_type": "code",
   "execution_count": 6,
   "id": "5cb86d41",
   "metadata": {},
   "outputs": [
    {
     "data": {
      "application/vnd.jupyter.widget-view+json": {
       "model_id": "f28dd180d4474924a90c1d15d0518c50",
       "version_major": 2,
       "version_minor": 0
      },
      "text/plain": [
       "Processing Contexts:   0%|          | 0/202 [00:00<?, ?it/s]"
      ]
     },
     "metadata": {},
     "output_type": "display_data"
    },
    {
     "data": {
      "application/vnd.jupyter.widget-view+json": {
       "model_id": "239c0e560e0c4d9c957b86b582c158cd",
       "version_major": 2,
       "version_minor": 0
      },
      "text/plain": [
       "Processing Frames: 0it [00:00, ?it/s]"
      ]
     },
     "metadata": {},
     "output_type": "display_data"
    },
    {
     "name": "stderr",
     "output_type": "stream",
     "text": [
      "2025-09-05 00:06:54.646552: I tensorflow/compiler/xla/stream_executor/cuda/cuda_gpu_executor.cc:981] could not open file to read NUMA node: /sys/bus/pci/devices/0000:02:00.0/numa_node\n",
      "Your kernel may have been built without NUMA support.\n",
      "2025-09-05 00:06:54.646836: W tensorflow/core/common_runtime/gpu/gpu_device.cc:1960] Cannot dlopen some GPU libraries. Please make sure the missing libraries mentioned above are installed properly if you would like to use GPU. Follow the guide at https://www.tensorflow.org/install/gpu for how to download and setup the required libraries for your platform.\n",
      "Skipping registering GPU devices...\n"
     ]
    },
    {
     "data": {
      "application/vnd.jupyter.widget-view+json": {
       "model_id": "0ce48738b0c243bcb56ed01296167e41",
       "version_major": 2,
       "version_minor": 0
      },
      "text/plain": [
       "Processing Frames: 0it [00:00, ?it/s]"
      ]
     },
     "metadata": {},
     "output_type": "display_data"
    },
    {
     "data": {
      "application/vnd.jupyter.widget-view+json": {
       "model_id": "7ce6951a69fa4731892f313433708dc8",
       "version_major": 2,
       "version_minor": 0
      },
      "text/plain": [
       "Processing Frames: 0it [00:00, ?it/s]"
      ]
     },
     "metadata": {},
     "output_type": "display_data"
    },
    {
     "data": {
      "application/vnd.jupyter.widget-view+json": {
       "model_id": "96ba3eb4db464f5dbfc63a3501a6f706",
       "version_major": 2,
       "version_minor": 0
      },
      "text/plain": [
       "Processing Frames: 0it [00:00, ?it/s]"
      ]
     },
     "metadata": {},
     "output_type": "display_data"
    },
    {
     "data": {
      "application/vnd.jupyter.widget-view+json": {
       "model_id": "c7a00d62bd544c50b7265035b8174773",
       "version_major": 2,
       "version_minor": 0
      },
      "text/plain": [
       "Processing Frames: 0it [00:00, ?it/s]"
      ]
     },
     "metadata": {},
     "output_type": "display_data"
    },
    {
     "data": {
      "application/vnd.jupyter.widget-view+json": {
       "model_id": "116c524093474e5987ea094ab6a2ea05",
       "version_major": 2,
       "version_minor": 0
      },
      "text/plain": [
       "Processing Frames: 0it [00:00, ?it/s]"
      ]
     },
     "metadata": {},
     "output_type": "display_data"
    },
    {
     "data": {
      "application/vnd.jupyter.widget-view+json": {
       "model_id": "20e1cced3ddc416c98d6c27577f435b9",
       "version_major": 2,
       "version_minor": 0
      },
      "text/plain": [
       "Processing Frames: 0it [00:00, ?it/s]"
      ]
     },
     "metadata": {},
     "output_type": "display_data"
    },
    {
     "data": {
      "application/vnd.jupyter.widget-view+json": {
       "model_id": "3e33e69e3e2f412eb3126cf03a6b6af0",
       "version_major": 2,
       "version_minor": 0
      },
      "text/plain": [
       "Processing Frames: 0it [00:00, ?it/s]"
      ]
     },
     "metadata": {},
     "output_type": "display_data"
    },
    {
     "data": {
      "application/vnd.jupyter.widget-view+json": {
       "model_id": "f8ed5b51393c403482a313f5be18f797",
       "version_major": 2,
       "version_minor": 0
      },
      "text/plain": [
       "Processing Frames: 0it [00:00, ?it/s]"
      ]
     },
     "metadata": {},
     "output_type": "display_data"
    },
    {
     "data": {
      "application/vnd.jupyter.widget-view+json": {
       "model_id": "5a8df957efa3495da58318d0c5f1cbfc",
       "version_major": 2,
       "version_minor": 0
      },
      "text/plain": [
       "Processing Frames: 0it [00:00, ?it/s]"
      ]
     },
     "metadata": {},
     "output_type": "display_data"
    },
    {
     "data": {
      "application/vnd.jupyter.widget-view+json": {
       "model_id": "73b8ab305347474481df7b154a354829",
       "version_major": 2,
       "version_minor": 0
      },
      "text/plain": [
       "Processing Frames: 0it [00:00, ?it/s]"
      ]
     },
     "metadata": {},
     "output_type": "display_data"
    },
    {
     "data": {
      "application/vnd.jupyter.widget-view+json": {
       "model_id": "ccbde8f507614d1894595706f25273e7",
       "version_major": 2,
       "version_minor": 0
      },
      "text/plain": [
       "Processing Frames: 0it [00:00, ?it/s]"
      ]
     },
     "metadata": {},
     "output_type": "display_data"
    },
    {
     "data": {
      "application/vnd.jupyter.widget-view+json": {
       "model_id": "abdbc8d171e64b6ba19e7a6d3b59942f",
       "version_major": 2,
       "version_minor": 0
      },
      "text/plain": [
       "Processing Frames: 0it [00:00, ?it/s]"
      ]
     },
     "metadata": {},
     "output_type": "display_data"
    },
    {
     "data": {
      "application/vnd.jupyter.widget-view+json": {
       "model_id": "806a05f9b68640f987e39ad96f03f171",
       "version_major": 2,
       "version_minor": 0
      },
      "text/plain": [
       "Processing Frames: 0it [00:00, ?it/s]"
      ]
     },
     "metadata": {},
     "output_type": "display_data"
    },
    {
     "data": {
      "application/vnd.jupyter.widget-view+json": {
       "model_id": "21a3530b7eec4bd3a510ac0ca157dc1f",
       "version_major": 2,
       "version_minor": 0
      },
      "text/plain": [
       "Processing Frames: 0it [00:00, ?it/s]"
      ]
     },
     "metadata": {},
     "output_type": "display_data"
    },
    {
     "data": {
      "application/vnd.jupyter.widget-view+json": {
       "model_id": "b9ac917212dd4a2082ddc166507f53dc",
       "version_major": 2,
       "version_minor": 0
      },
      "text/plain": [
       "Processing Frames: 0it [00:00, ?it/s]"
      ]
     },
     "metadata": {},
     "output_type": "display_data"
    },
    {
     "data": {
      "application/vnd.jupyter.widget-view+json": {
       "model_id": "06dfea3a65184f15ba663dfdfac1d330",
       "version_major": 2,
       "version_minor": 0
      },
      "text/plain": [
       "Processing Frames: 0it [00:00, ?it/s]"
      ]
     },
     "metadata": {},
     "output_type": "display_data"
    },
    {
     "data": {
      "application/vnd.jupyter.widget-view+json": {
       "model_id": "3197309e03b0411bb384e6198e16c91d",
       "version_major": 2,
       "version_minor": 0
      },
      "text/plain": [
       "Processing Frames: 0it [00:00, ?it/s]"
      ]
     },
     "metadata": {},
     "output_type": "display_data"
    },
    {
     "data": {
      "application/vnd.jupyter.widget-view+json": {
       "model_id": "729d89f3c0d046329ed82e64cfe2ac4f",
       "version_major": 2,
       "version_minor": 0
      },
      "text/plain": [
       "Processing Frames: 0it [00:00, ?it/s]"
      ]
     },
     "metadata": {},
     "output_type": "display_data"
    },
    {
     "data": {
      "application/vnd.jupyter.widget-view+json": {
       "model_id": "9bf10d9038334cc3b7c2a33211e476ce",
       "version_major": 2,
       "version_minor": 0
      },
      "text/plain": [
       "Processing Frames: 0it [00:00, ?it/s]"
      ]
     },
     "metadata": {},
     "output_type": "display_data"
    },
    {
     "data": {
      "application/vnd.jupyter.widget-view+json": {
       "model_id": "5acf0a299bb54b4b90819b21415cf74d",
       "version_major": 2,
       "version_minor": 0
      },
      "text/plain": [
       "Processing Frames: 0it [00:00, ?it/s]"
      ]
     },
     "metadata": {},
     "output_type": "display_data"
    },
    {
     "data": {
      "application/vnd.jupyter.widget-view+json": {
       "model_id": "a54ad39248d840fe829ef8817635b3e4",
       "version_major": 2,
       "version_minor": 0
      },
      "text/plain": [
       "Processing Frames: 0it [00:00, ?it/s]"
      ]
     },
     "metadata": {},
     "output_type": "display_data"
    },
    {
     "data": {
      "application/vnd.jupyter.widget-view+json": {
       "model_id": "9980de00eaed4b6893a27da8e9b77e60",
       "version_major": 2,
       "version_minor": 0
      },
      "text/plain": [
       "Processing Frames: 0it [00:00, ?it/s]"
      ]
     },
     "metadata": {},
     "output_type": "display_data"
    },
    {
     "data": {
      "application/vnd.jupyter.widget-view+json": {
       "model_id": "77758146cf0c44038c85deed0993643a",
       "version_major": 2,
       "version_minor": 0
      },
      "text/plain": [
       "Processing Frames: 0it [00:00, ?it/s]"
      ]
     },
     "metadata": {},
     "output_type": "display_data"
    },
    {
     "data": {
      "application/vnd.jupyter.widget-view+json": {
       "model_id": "48fdf202cb0a4d819ceaf5d626928c9a",
       "version_major": 2,
       "version_minor": 0
      },
      "text/plain": [
       "Processing Frames: 0it [00:00, ?it/s]"
      ]
     },
     "metadata": {},
     "output_type": "display_data"
    },
    {
     "data": {
      "application/vnd.jupyter.widget-view+json": {
       "model_id": "cca55b7b174841dbb3513520e8724732",
       "version_major": 2,
       "version_minor": 0
      },
      "text/plain": [
       "Processing Frames: 0it [00:00, ?it/s]"
      ]
     },
     "metadata": {},
     "output_type": "display_data"
    },
    {
     "data": {
      "application/vnd.jupyter.widget-view+json": {
       "model_id": "57b9c047ea614fd19481faf7ba0a6042",
       "version_major": 2,
       "version_minor": 0
      },
      "text/plain": [
       "Processing Frames: 0it [00:00, ?it/s]"
      ]
     },
     "metadata": {},
     "output_type": "display_data"
    },
    {
     "data": {
      "application/vnd.jupyter.widget-view+json": {
       "model_id": "1474c66e5ee54f2990cd7655d8dbab24",
       "version_major": 2,
       "version_minor": 0
      },
      "text/plain": [
       "Processing Frames: 0it [00:00, ?it/s]"
      ]
     },
     "metadata": {},
     "output_type": "display_data"
    },
    {
     "data": {
      "application/vnd.jupyter.widget-view+json": {
       "model_id": "d9df8fdc766b47d88df042dca5b2eec6",
       "version_major": 2,
       "version_minor": 0
      },
      "text/plain": [
       "Processing Frames: 0it [00:00, ?it/s]"
      ]
     },
     "metadata": {},
     "output_type": "display_data"
    },
    {
     "data": {
      "application/vnd.jupyter.widget-view+json": {
       "model_id": "0f10c4f2cd374bc1a30e4c849f746408",
       "version_major": 2,
       "version_minor": 0
      },
      "text/plain": [
       "Processing Frames: 0it [00:00, ?it/s]"
      ]
     },
     "metadata": {},
     "output_type": "display_data"
    },
    {
     "data": {
      "application/vnd.jupyter.widget-view+json": {
       "model_id": "f8845112b0174ed3bf1a614c7e4e1f71",
       "version_major": 2,
       "version_minor": 0
      },
      "text/plain": [
       "Processing Frames: 0it [00:00, ?it/s]"
      ]
     },
     "metadata": {},
     "output_type": "display_data"
    },
    {
     "data": {
      "application/vnd.jupyter.widget-view+json": {
       "model_id": "759f3648799c4783858cb0a38f21ed98",
       "version_major": 2,
       "version_minor": 0
      },
      "text/plain": [
       "Processing Frames: 0it [00:00, ?it/s]"
      ]
     },
     "metadata": {},
     "output_type": "display_data"
    },
    {
     "data": {
      "application/vnd.jupyter.widget-view+json": {
       "model_id": "6f099e85fa87406fb387d09bb253ef78",
       "version_major": 2,
       "version_minor": 0
      },
      "text/plain": [
       "Processing Frames: 0it [00:00, ?it/s]"
      ]
     },
     "metadata": {},
     "output_type": "display_data"
    },
    {
     "data": {
      "application/vnd.jupyter.widget-view+json": {
       "model_id": "3345b11d5147498a80d23bc320a82cff",
       "version_major": 2,
       "version_minor": 0
      },
      "text/plain": [
       "Processing Frames: 0it [00:00, ?it/s]"
      ]
     },
     "metadata": {},
     "output_type": "display_data"
    },
    {
     "data": {
      "application/vnd.jupyter.widget-view+json": {
       "model_id": "22b8e7a149554a4f9c60fd90893c07e7",
       "version_major": 2,
       "version_minor": 0
      },
      "text/plain": [
       "Processing Frames: 0it [00:00, ?it/s]"
      ]
     },
     "metadata": {},
     "output_type": "display_data"
    },
    {
     "data": {
      "application/vnd.jupyter.widget-view+json": {
       "model_id": "097500f3ca2146d49c11208a82b01957",
       "version_major": 2,
       "version_minor": 0
      },
      "text/plain": [
       "Processing Frames: 0it [00:00, ?it/s]"
      ]
     },
     "metadata": {},
     "output_type": "display_data"
    },
    {
     "data": {
      "application/vnd.jupyter.widget-view+json": {
       "model_id": "49dadcdb67e64c85bd2ec991e1df5128",
       "version_major": 2,
       "version_minor": 0
      },
      "text/plain": [
       "Processing Frames: 0it [00:00, ?it/s]"
      ]
     },
     "metadata": {},
     "output_type": "display_data"
    },
    {
     "data": {
      "application/vnd.jupyter.widget-view+json": {
       "model_id": "b128a817c1b04cdfb5de3ae4da6c1e5b",
       "version_major": 2,
       "version_minor": 0
      },
      "text/plain": [
       "Processing Frames: 0it [00:00, ?it/s]"
      ]
     },
     "metadata": {},
     "output_type": "display_data"
    },
    {
     "data": {
      "application/vnd.jupyter.widget-view+json": {
       "model_id": "d1202b32e980482a9f611a1628fd6693",
       "version_major": 2,
       "version_minor": 0
      },
      "text/plain": [
       "Processing Frames: 0it [00:00, ?it/s]"
      ]
     },
     "metadata": {},
     "output_type": "display_data"
    },
    {
     "data": {
      "application/vnd.jupyter.widget-view+json": {
       "model_id": "f07d922ed46f4ef7a12a0ea4b30bce11",
       "version_major": 2,
       "version_minor": 0
      },
      "text/plain": [
       "Processing Frames: 0it [00:00, ?it/s]"
      ]
     },
     "metadata": {},
     "output_type": "display_data"
    },
    {
     "data": {
      "application/vnd.jupyter.widget-view+json": {
       "model_id": "4f39f28f023e4fd791932f2f7f8de9b0",
       "version_major": 2,
       "version_minor": 0
      },
      "text/plain": [
       "Processing Frames: 0it [00:00, ?it/s]"
      ]
     },
     "metadata": {},
     "output_type": "display_data"
    },
    {
     "data": {
      "application/vnd.jupyter.widget-view+json": {
       "model_id": "f96dd98077a740559a831bf16657059c",
       "version_major": 2,
       "version_minor": 0
      },
      "text/plain": [
       "Processing Frames: 0it [00:00, ?it/s]"
      ]
     },
     "metadata": {},
     "output_type": "display_data"
    },
    {
     "data": {
      "application/vnd.jupyter.widget-view+json": {
       "model_id": "c8ac6b95c93f4163ad91a33f68b26493",
       "version_major": 2,
       "version_minor": 0
      },
      "text/plain": [
       "Processing Frames: 0it [00:00, ?it/s]"
      ]
     },
     "metadata": {},
     "output_type": "display_data"
    },
    {
     "data": {
      "application/vnd.jupyter.widget-view+json": {
       "model_id": "7a74adc2f51944809b40a6017f812c23",
       "version_major": 2,
       "version_minor": 0
      },
      "text/plain": [
       "Processing Frames: 0it [00:00, ?it/s]"
      ]
     },
     "metadata": {},
     "output_type": "display_data"
    },
    {
     "data": {
      "application/vnd.jupyter.widget-view+json": {
       "model_id": "1ad5122a73734c5a910e1ecf127311c2",
       "version_major": 2,
       "version_minor": 0
      },
      "text/plain": [
       "Processing Frames: 0it [00:00, ?it/s]"
      ]
     },
     "metadata": {},
     "output_type": "display_data"
    },
    {
     "data": {
      "application/vnd.jupyter.widget-view+json": {
       "model_id": "eb2e456bb45d40b3829d6a6954541c3e",
       "version_major": 2,
       "version_minor": 0
      },
      "text/plain": [
       "Processing Frames: 0it [00:00, ?it/s]"
      ]
     },
     "metadata": {},
     "output_type": "display_data"
    },
    {
     "data": {
      "application/vnd.jupyter.widget-view+json": {
       "model_id": "6449f714fbf742dead15cfa02932645f",
       "version_major": 2,
       "version_minor": 0
      },
      "text/plain": [
       "Processing Frames: 0it [00:00, ?it/s]"
      ]
     },
     "metadata": {},
     "output_type": "display_data"
    },
    {
     "data": {
      "application/vnd.jupyter.widget-view+json": {
       "model_id": "4891d2d50fcf4387bda0a732dffb2575",
       "version_major": 2,
       "version_minor": 0
      },
      "text/plain": [
       "Processing Frames: 0it [00:00, ?it/s]"
      ]
     },
     "metadata": {},
     "output_type": "display_data"
    },
    {
     "data": {
      "application/vnd.jupyter.widget-view+json": {
       "model_id": "ebf5dba9102a41f4a505088957c3f708",
       "version_major": 2,
       "version_minor": 0
      },
      "text/plain": [
       "Processing Frames: 0it [00:00, ?it/s]"
      ]
     },
     "metadata": {},
     "output_type": "display_data"
    },
    {
     "data": {
      "application/vnd.jupyter.widget-view+json": {
       "model_id": "7467b8aa373c41bea5334c21d7b65c27",
       "version_major": 2,
       "version_minor": 0
      },
      "text/plain": [
       "Processing Frames: 0it [00:00, ?it/s]"
      ]
     },
     "metadata": {},
     "output_type": "display_data"
    },
    {
     "data": {
      "application/vnd.jupyter.widget-view+json": {
       "model_id": "fc2b36e14fb84fd3ad713195c743b15c",
       "version_major": 2,
       "version_minor": 0
      },
      "text/plain": [
       "Processing Frames: 0it [00:00, ?it/s]"
      ]
     },
     "metadata": {},
     "output_type": "display_data"
    },
    {
     "data": {
      "application/vnd.jupyter.widget-view+json": {
       "model_id": "40fedd270874494eb02c46b4713575a2",
       "version_major": 2,
       "version_minor": 0
      },
      "text/plain": [
       "Processing Frames: 0it [00:00, ?it/s]"
      ]
     },
     "metadata": {},
     "output_type": "display_data"
    },
    {
     "data": {
      "application/vnd.jupyter.widget-view+json": {
       "model_id": "64f419a5c6424782a643c2a6029f751c",
       "version_major": 2,
       "version_minor": 0
      },
      "text/plain": [
       "Processing Frames: 0it [00:00, ?it/s]"
      ]
     },
     "metadata": {},
     "output_type": "display_data"
    },
    {
     "data": {
      "application/vnd.jupyter.widget-view+json": {
       "model_id": "3fd2670ec97c498cbac88977ae0de639",
       "version_major": 2,
       "version_minor": 0
      },
      "text/plain": [
       "Processing Frames: 0it [00:00, ?it/s]"
      ]
     },
     "metadata": {},
     "output_type": "display_data"
    },
    {
     "data": {
      "application/vnd.jupyter.widget-view+json": {
       "model_id": "78d001094ce44817a31e2054f371afb4",
       "version_major": 2,
       "version_minor": 0
      },
      "text/plain": [
       "Processing Frames: 0it [00:00, ?it/s]"
      ]
     },
     "metadata": {},
     "output_type": "display_data"
    },
    {
     "data": {
      "application/vnd.jupyter.widget-view+json": {
       "model_id": "5f87da758eb147edafce6460de05b7e3",
       "version_major": 2,
       "version_minor": 0
      },
      "text/plain": [
       "Processing Frames: 0it [00:00, ?it/s]"
      ]
     },
     "metadata": {},
     "output_type": "display_data"
    },
    {
     "data": {
      "application/vnd.jupyter.widget-view+json": {
       "model_id": "1d413859b31844c19d1e232a34b30091",
       "version_major": 2,
       "version_minor": 0
      },
      "text/plain": [
       "Processing Frames: 0it [00:00, ?it/s]"
      ]
     },
     "metadata": {},
     "output_type": "display_data"
    },
    {
     "data": {
      "application/vnd.jupyter.widget-view+json": {
       "model_id": "5129c1fa575542719eac31b702dc389e",
       "version_major": 2,
       "version_minor": 0
      },
      "text/plain": [
       "Processing Frames: 0it [00:00, ?it/s]"
      ]
     },
     "metadata": {},
     "output_type": "display_data"
    },
    {
     "data": {
      "application/vnd.jupyter.widget-view+json": {
       "model_id": "6890421438eb479a8beffaa97069b846",
       "version_major": 2,
       "version_minor": 0
      },
      "text/plain": [
       "Processing Frames: 0it [00:00, ?it/s]"
      ]
     },
     "metadata": {},
     "output_type": "display_data"
    },
    {
     "data": {
      "application/vnd.jupyter.widget-view+json": {
       "model_id": "270584fb01094ffab710b977f38ddabb",
       "version_major": 2,
       "version_minor": 0
      },
      "text/plain": [
       "Processing Frames: 0it [00:00, ?it/s]"
      ]
     },
     "metadata": {},
     "output_type": "display_data"
    },
    {
     "data": {
      "application/vnd.jupyter.widget-view+json": {
       "model_id": "f496db1561504f44b10a8f3ac6759e00",
       "version_major": 2,
       "version_minor": 0
      },
      "text/plain": [
       "Processing Frames: 0it [00:00, ?it/s]"
      ]
     },
     "metadata": {},
     "output_type": "display_data"
    },
    {
     "data": {
      "application/vnd.jupyter.widget-view+json": {
       "model_id": "c575fc04123a40eba5f5f0d011cbc7aa",
       "version_major": 2,
       "version_minor": 0
      },
      "text/plain": [
       "Processing Frames: 0it [00:00, ?it/s]"
      ]
     },
     "metadata": {},
     "output_type": "display_data"
    },
    {
     "data": {
      "application/vnd.jupyter.widget-view+json": {
       "model_id": "14b344f5d6964736ba6ddc8badb34368",
       "version_major": 2,
       "version_minor": 0
      },
      "text/plain": [
       "Processing Frames: 0it [00:00, ?it/s]"
      ]
     },
     "metadata": {},
     "output_type": "display_data"
    },
    {
     "data": {
      "application/vnd.jupyter.widget-view+json": {
       "model_id": "3f4b0608e5334305816a6fd9e6333761",
       "version_major": 2,
       "version_minor": 0
      },
      "text/plain": [
       "Processing Frames: 0it [00:00, ?it/s]"
      ]
     },
     "metadata": {},
     "output_type": "display_data"
    },
    {
     "data": {
      "application/vnd.jupyter.widget-view+json": {
       "model_id": "e1714853cae748018b1cf01443740e7e",
       "version_major": 2,
       "version_minor": 0
      },
      "text/plain": [
       "Processing Frames: 0it [00:00, ?it/s]"
      ]
     },
     "metadata": {},
     "output_type": "display_data"
    },
    {
     "data": {
      "application/vnd.jupyter.widget-view+json": {
       "model_id": "6f5825f0e39542ac94f20849bd24b81d",
       "version_major": 2,
       "version_minor": 0
      },
      "text/plain": [
       "Processing Frames: 0it [00:00, ?it/s]"
      ]
     },
     "metadata": {},
     "output_type": "display_data"
    },
    {
     "data": {
      "application/vnd.jupyter.widget-view+json": {
       "model_id": "455e8e9210ef4cb4994ec02114169876",
       "version_major": 2,
       "version_minor": 0
      },
      "text/plain": [
       "Processing Frames: 0it [00:00, ?it/s]"
      ]
     },
     "metadata": {},
     "output_type": "display_data"
    },
    {
     "data": {
      "application/vnd.jupyter.widget-view+json": {
       "model_id": "8750e69fe20147779e5a29423305a269",
       "version_major": 2,
       "version_minor": 0
      },
      "text/plain": [
       "Processing Frames: 0it [00:00, ?it/s]"
      ]
     },
     "metadata": {},
     "output_type": "display_data"
    },
    {
     "data": {
      "application/vnd.jupyter.widget-view+json": {
       "model_id": "ab9ada10a649468d95f74316488983a4",
       "version_major": 2,
       "version_minor": 0
      },
      "text/plain": [
       "Processing Frames: 0it [00:00, ?it/s]"
      ]
     },
     "metadata": {},
     "output_type": "display_data"
    },
    {
     "data": {
      "application/vnd.jupyter.widget-view+json": {
       "model_id": "0831232666364b4096f786cee455dd20",
       "version_major": 2,
       "version_minor": 0
      },
      "text/plain": [
       "Processing Frames: 0it [00:00, ?it/s]"
      ]
     },
     "metadata": {},
     "output_type": "display_data"
    },
    {
     "data": {
      "application/vnd.jupyter.widget-view+json": {
       "model_id": "cfc7b6841c434b18a6ed85ec018cfbdd",
       "version_major": 2,
       "version_minor": 0
      },
      "text/plain": [
       "Processing Frames: 0it [00:00, ?it/s]"
      ]
     },
     "metadata": {},
     "output_type": "display_data"
    },
    {
     "data": {
      "application/vnd.jupyter.widget-view+json": {
       "model_id": "496be74eca964925be7d32c66d6c9013",
       "version_major": 2,
       "version_minor": 0
      },
      "text/plain": [
       "Processing Frames: 0it [00:00, ?it/s]"
      ]
     },
     "metadata": {},
     "output_type": "display_data"
    },
    {
     "data": {
      "application/vnd.jupyter.widget-view+json": {
       "model_id": "28e7d20bf88d4e41ae853f3ed6ed41c6",
       "version_major": 2,
       "version_minor": 0
      },
      "text/plain": [
       "Processing Frames: 0it [00:00, ?it/s]"
      ]
     },
     "metadata": {},
     "output_type": "display_data"
    },
    {
     "data": {
      "application/vnd.jupyter.widget-view+json": {
       "model_id": "4909c13e926c47bd81b2404d276f3300",
       "version_major": 2,
       "version_minor": 0
      },
      "text/plain": [
       "Processing Frames: 0it [00:00, ?it/s]"
      ]
     },
     "metadata": {},
     "output_type": "display_data"
    },
    {
     "data": {
      "application/vnd.jupyter.widget-view+json": {
       "model_id": "d859d9339047418eaeb64a17af0d9224",
       "version_major": 2,
       "version_minor": 0
      },
      "text/plain": [
       "Processing Frames: 0it [00:00, ?it/s]"
      ]
     },
     "metadata": {},
     "output_type": "display_data"
    },
    {
     "data": {
      "application/vnd.jupyter.widget-view+json": {
       "model_id": "16a650239b394f67939a2a1e25d6c0eb",
       "version_major": 2,
       "version_minor": 0
      },
      "text/plain": [
       "Processing Frames: 0it [00:00, ?it/s]"
      ]
     },
     "metadata": {},
     "output_type": "display_data"
    },
    {
     "data": {
      "application/vnd.jupyter.widget-view+json": {
       "model_id": "65fdd20fbca34e0fa6fefd5c97e38355",
       "version_major": 2,
       "version_minor": 0
      },
      "text/plain": [
       "Processing Frames: 0it [00:00, ?it/s]"
      ]
     },
     "metadata": {},
     "output_type": "display_data"
    },
    {
     "data": {
      "application/vnd.jupyter.widget-view+json": {
       "model_id": "22e06770c1294281bd2e75bb048dced7",
       "version_major": 2,
       "version_minor": 0
      },
      "text/plain": [
       "Processing Frames: 0it [00:00, ?it/s]"
      ]
     },
     "metadata": {},
     "output_type": "display_data"
    },
    {
     "data": {
      "application/vnd.jupyter.widget-view+json": {
       "model_id": "80d47631df4f4c0dba874081c1ebc91a",
       "version_major": 2,
       "version_minor": 0
      },
      "text/plain": [
       "Processing Frames: 0it [00:00, ?it/s]"
      ]
     },
     "metadata": {},
     "output_type": "display_data"
    },
    {
     "data": {
      "application/vnd.jupyter.widget-view+json": {
       "model_id": "56cc40741a69449eb3f6fc476b98576f",
       "version_major": 2,
       "version_minor": 0
      },
      "text/plain": [
       "Processing Frames: 0it [00:00, ?it/s]"
      ]
     },
     "metadata": {},
     "output_type": "display_data"
    },
    {
     "data": {
      "application/vnd.jupyter.widget-view+json": {
       "model_id": "ec111772d3734607a3bbab502a03bcb2",
       "version_major": 2,
       "version_minor": 0
      },
      "text/plain": [
       "Processing Frames: 0it [00:00, ?it/s]"
      ]
     },
     "metadata": {},
     "output_type": "display_data"
    },
    {
     "data": {
      "application/vnd.jupyter.widget-view+json": {
       "model_id": "bb3ec8a54d0543aa930448b29f52591f",
       "version_major": 2,
       "version_minor": 0
      },
      "text/plain": [
       "Processing Frames: 0it [00:00, ?it/s]"
      ]
     },
     "metadata": {},
     "output_type": "display_data"
    },
    {
     "data": {
      "application/vnd.jupyter.widget-view+json": {
       "model_id": "5862225c67dd487b868ba4db7dd8f970",
       "version_major": 2,
       "version_minor": 0
      },
      "text/plain": [
       "Processing Frames: 0it [00:00, ?it/s]"
      ]
     },
     "metadata": {},
     "output_type": "display_data"
    },
    {
     "data": {
      "application/vnd.jupyter.widget-view+json": {
       "model_id": "16640c906e934262983e3d7e1cc10cac",
       "version_major": 2,
       "version_minor": 0
      },
      "text/plain": [
       "Processing Frames: 0it [00:00, ?it/s]"
      ]
     },
     "metadata": {},
     "output_type": "display_data"
    },
    {
     "data": {
      "application/vnd.jupyter.widget-view+json": {
       "model_id": "71d506fcb5d040f38ef074f75de832b5",
       "version_major": 2,
       "version_minor": 0
      },
      "text/plain": [
       "Processing Frames: 0it [00:00, ?it/s]"
      ]
     },
     "metadata": {},
     "output_type": "display_data"
    },
    {
     "data": {
      "application/vnd.jupyter.widget-view+json": {
       "model_id": "a718e467f54c4efe809b5a7b3e6a34f1",
       "version_major": 2,
       "version_minor": 0
      },
      "text/plain": [
       "Processing Frames: 0it [00:00, ?it/s]"
      ]
     },
     "metadata": {},
     "output_type": "display_data"
    },
    {
     "data": {
      "application/vnd.jupyter.widget-view+json": {
       "model_id": "a4cdf38e8d8548a5af2ff648fbc1c7de",
       "version_major": 2,
       "version_minor": 0
      },
      "text/plain": [
       "Processing Frames: 0it [00:00, ?it/s]"
      ]
     },
     "metadata": {},
     "output_type": "display_data"
    },
    {
     "data": {
      "application/vnd.jupyter.widget-view+json": {
       "model_id": "6e4b57eb3e564d7ca94bd6982fcdb615",
       "version_major": 2,
       "version_minor": 0
      },
      "text/plain": [
       "Processing Frames: 0it [00:00, ?it/s]"
      ]
     },
     "metadata": {},
     "output_type": "display_data"
    },
    {
     "data": {
      "application/vnd.jupyter.widget-view+json": {
       "model_id": "5e8063df244743a68f1828f1341768cf",
       "version_major": 2,
       "version_minor": 0
      },
      "text/plain": [
       "Processing Frames: 0it [00:00, ?it/s]"
      ]
     },
     "metadata": {},
     "output_type": "display_data"
    },
    {
     "data": {
      "application/vnd.jupyter.widget-view+json": {
       "model_id": "aa6467399bbc43498f52cbc678cc4de7",
       "version_major": 2,
       "version_minor": 0
      },
      "text/plain": [
       "Processing Frames: 0it [00:00, ?it/s]"
      ]
     },
     "metadata": {},
     "output_type": "display_data"
    },
    {
     "data": {
      "application/vnd.jupyter.widget-view+json": {
       "model_id": "791c35738dd24c05aa240b51a11fe08b",
       "version_major": 2,
       "version_minor": 0
      },
      "text/plain": [
       "Processing Frames: 0it [00:00, ?it/s]"
      ]
     },
     "metadata": {},
     "output_type": "display_data"
    },
    {
     "data": {
      "application/vnd.jupyter.widget-view+json": {
       "model_id": "7b5d0dd19cd04839a3110c52f5c0bda6",
       "version_major": 2,
       "version_minor": 0
      },
      "text/plain": [
       "Processing Frames: 0it [00:00, ?it/s]"
      ]
     },
     "metadata": {},
     "output_type": "display_data"
    },
    {
     "data": {
      "application/vnd.jupyter.widget-view+json": {
       "model_id": "b8cbd54468684900aa075fb04cd1cdf2",
       "version_major": 2,
       "version_minor": 0
      },
      "text/plain": [
       "Processing Frames: 0it [00:00, ?it/s]"
      ]
     },
     "metadata": {},
     "output_type": "display_data"
    },
    {
     "data": {
      "application/vnd.jupyter.widget-view+json": {
       "model_id": "b59ed95adff64563bab3dd9e0c20059f",
       "version_major": 2,
       "version_minor": 0
      },
      "text/plain": [
       "Processing Frames: 0it [00:00, ?it/s]"
      ]
     },
     "metadata": {},
     "output_type": "display_data"
    },
    {
     "data": {
      "application/vnd.jupyter.widget-view+json": {
       "model_id": "3cf8ae8175a645b093c12a7de03148ba",
       "version_major": 2,
       "version_minor": 0
      },
      "text/plain": [
       "Processing Frames: 0it [00:00, ?it/s]"
      ]
     },
     "metadata": {},
     "output_type": "display_data"
    },
    {
     "data": {
      "application/vnd.jupyter.widget-view+json": {
       "model_id": "1830fda8da2c4aff8e702cf5c3471ea9",
       "version_major": 2,
       "version_minor": 0
      },
      "text/plain": [
       "Processing Frames: 0it [00:00, ?it/s]"
      ]
     },
     "metadata": {},
     "output_type": "display_data"
    },
    {
     "data": {
      "application/vnd.jupyter.widget-view+json": {
       "model_id": "f76bb055baa34b18b89ba1aeeca60971",
       "version_major": 2,
       "version_minor": 0
      },
      "text/plain": [
       "Processing Frames: 0it [00:00, ?it/s]"
      ]
     },
     "metadata": {},
     "output_type": "display_data"
    },
    {
     "data": {
      "application/vnd.jupyter.widget-view+json": {
       "model_id": "59ea93f52a484b8e9098e121af3e28b6",
       "version_major": 2,
       "version_minor": 0
      },
      "text/plain": [
       "Processing Frames: 0it [00:00, ?it/s]"
      ]
     },
     "metadata": {},
     "output_type": "display_data"
    },
    {
     "data": {
      "application/vnd.jupyter.widget-view+json": {
       "model_id": "cd782597fe39473aa481e3c921b257ee",
       "version_major": 2,
       "version_minor": 0
      },
      "text/plain": [
       "Processing Frames: 0it [00:00, ?it/s]"
      ]
     },
     "metadata": {},
     "output_type": "display_data"
    },
    {
     "data": {
      "application/vnd.jupyter.widget-view+json": {
       "model_id": "09b3b0cc98934745832bc6ca125107d1",
       "version_major": 2,
       "version_minor": 0
      },
      "text/plain": [
       "Processing Frames: 0it [00:00, ?it/s]"
      ]
     },
     "metadata": {},
     "output_type": "display_data"
    },
    {
     "data": {
      "application/vnd.jupyter.widget-view+json": {
       "model_id": "e1ba56dff7b74cae9f475a8ce3319311",
       "version_major": 2,
       "version_minor": 0
      },
      "text/plain": [
       "Processing Frames: 0it [00:00, ?it/s]"
      ]
     },
     "metadata": {},
     "output_type": "display_data"
    },
    {
     "data": {
      "application/vnd.jupyter.widget-view+json": {
       "model_id": "64c7a705ced54998bda9242c120bf175",
       "version_major": 2,
       "version_minor": 0
      },
      "text/plain": [
       "Processing Frames: 0it [00:00, ?it/s]"
      ]
     },
     "metadata": {},
     "output_type": "display_data"
    },
    {
     "data": {
      "application/vnd.jupyter.widget-view+json": {
       "model_id": "fceaedaca5244df298cbc72f1a416f62",
       "version_major": 2,
       "version_minor": 0
      },
      "text/plain": [
       "Processing Frames: 0it [00:00, ?it/s]"
      ]
     },
     "metadata": {},
     "output_type": "display_data"
    },
    {
     "data": {
      "application/vnd.jupyter.widget-view+json": {
       "model_id": "2434ea4a34ae4e23ac5797d46068b191",
       "version_major": 2,
       "version_minor": 0
      },
      "text/plain": [
       "Processing Frames: 0it [00:00, ?it/s]"
      ]
     },
     "metadata": {},
     "output_type": "display_data"
    },
    {
     "data": {
      "application/vnd.jupyter.widget-view+json": {
       "model_id": "353809037f694316899d9f025632e09f",
       "version_major": 2,
       "version_minor": 0
      },
      "text/plain": [
       "Processing Frames: 0it [00:00, ?it/s]"
      ]
     },
     "metadata": {},
     "output_type": "display_data"
    },
    {
     "data": {
      "application/vnd.jupyter.widget-view+json": {
       "model_id": "f39d6324d88e4dad833ce983e032431c",
       "version_major": 2,
       "version_minor": 0
      },
      "text/plain": [
       "Processing Frames: 0it [00:00, ?it/s]"
      ]
     },
     "metadata": {},
     "output_type": "display_data"
    },
    {
     "data": {
      "application/vnd.jupyter.widget-view+json": {
       "model_id": "99b7328ec9194a0bb06a0db3fbacf8dd",
       "version_major": 2,
       "version_minor": 0
      },
      "text/plain": [
       "Processing Frames: 0it [00:00, ?it/s]"
      ]
     },
     "metadata": {},
     "output_type": "display_data"
    },
    {
     "data": {
      "application/vnd.jupyter.widget-view+json": {
       "model_id": "b813916c621345908e28611648886767",
       "version_major": 2,
       "version_minor": 0
      },
      "text/plain": [
       "Processing Frames: 0it [00:00, ?it/s]"
      ]
     },
     "metadata": {},
     "output_type": "display_data"
    },
    {
     "data": {
      "application/vnd.jupyter.widget-view+json": {
       "model_id": "fc371f38a9904306b47d83d7c720ecb6",
       "version_major": 2,
       "version_minor": 0
      },
      "text/plain": [
       "Processing Frames: 0it [00:00, ?it/s]"
      ]
     },
     "metadata": {},
     "output_type": "display_data"
    },
    {
     "data": {
      "application/vnd.jupyter.widget-view+json": {
       "model_id": "2da1dc184c5d43c9944d499b2802c1ec",
       "version_major": 2,
       "version_minor": 0
      },
      "text/plain": [
       "Processing Frames: 0it [00:00, ?it/s]"
      ]
     },
     "metadata": {},
     "output_type": "display_data"
    },
    {
     "data": {
      "application/vnd.jupyter.widget-view+json": {
       "model_id": "e4e580c35e684d18936d53b95e370175",
       "version_major": 2,
       "version_minor": 0
      },
      "text/plain": [
       "Processing Frames: 0it [00:00, ?it/s]"
      ]
     },
     "metadata": {},
     "output_type": "display_data"
    },
    {
     "data": {
      "application/vnd.jupyter.widget-view+json": {
       "model_id": "59820fc1e3c641d38f020d0d79450b61",
       "version_major": 2,
       "version_minor": 0
      },
      "text/plain": [
       "Processing Frames: 0it [00:00, ?it/s]"
      ]
     },
     "metadata": {},
     "output_type": "display_data"
    },
    {
     "data": {
      "application/vnd.jupyter.widget-view+json": {
       "model_id": "65566a2ccdb44725ab8a231686e19f2e",
       "version_major": 2,
       "version_minor": 0
      },
      "text/plain": [
       "Processing Frames: 0it [00:00, ?it/s]"
      ]
     },
     "metadata": {},
     "output_type": "display_data"
    },
    {
     "data": {
      "application/vnd.jupyter.widget-view+json": {
       "model_id": "927155009c6544549114c3b1ec9467c5",
       "version_major": 2,
       "version_minor": 0
      },
      "text/plain": [
       "Processing Frames: 0it [00:00, ?it/s]"
      ]
     },
     "metadata": {},
     "output_type": "display_data"
    },
    {
     "data": {
      "application/vnd.jupyter.widget-view+json": {
       "model_id": "d2e52e9b40f54a1f939d4ee39f86a069",
       "version_major": 2,
       "version_minor": 0
      },
      "text/plain": [
       "Processing Frames: 0it [00:00, ?it/s]"
      ]
     },
     "metadata": {},
     "output_type": "display_data"
    },
    {
     "data": {
      "application/vnd.jupyter.widget-view+json": {
       "model_id": "651b81fde1394867bd1283e16e75327f",
       "version_major": 2,
       "version_minor": 0
      },
      "text/plain": [
       "Processing Frames: 0it [00:00, ?it/s]"
      ]
     },
     "metadata": {},
     "output_type": "display_data"
    },
    {
     "data": {
      "application/vnd.jupyter.widget-view+json": {
       "model_id": "56fae0c40e4f41a7a28529264882c329",
       "version_major": 2,
       "version_minor": 0
      },
      "text/plain": [
       "Processing Frames: 0it [00:00, ?it/s]"
      ]
     },
     "metadata": {},
     "output_type": "display_data"
    },
    {
     "data": {
      "application/vnd.jupyter.widget-view+json": {
       "model_id": "a8ac1df6bac84842beb0b9ed83bf36cf",
       "version_major": 2,
       "version_minor": 0
      },
      "text/plain": [
       "Processing Frames: 0it [00:00, ?it/s]"
      ]
     },
     "metadata": {},
     "output_type": "display_data"
    },
    {
     "data": {
      "application/vnd.jupyter.widget-view+json": {
       "model_id": "614dc1edc105455f8a626ba41c26be2f",
       "version_major": 2,
       "version_minor": 0
      },
      "text/plain": [
       "Processing Frames: 0it [00:00, ?it/s]"
      ]
     },
     "metadata": {},
     "output_type": "display_data"
    },
    {
     "data": {
      "application/vnd.jupyter.widget-view+json": {
       "model_id": "9c661eb6b55144d8b83ce0bf156d7a39",
       "version_major": 2,
       "version_minor": 0
      },
      "text/plain": [
       "Processing Frames: 0it [00:00, ?it/s]"
      ]
     },
     "metadata": {},
     "output_type": "display_data"
    },
    {
     "data": {
      "application/vnd.jupyter.widget-view+json": {
       "model_id": "7b79559e895f4eb78f0a272ed69c6b72",
       "version_major": 2,
       "version_minor": 0
      },
      "text/plain": [
       "Processing Frames: 0it [00:00, ?it/s]"
      ]
     },
     "metadata": {},
     "output_type": "display_data"
    },
    {
     "data": {
      "application/vnd.jupyter.widget-view+json": {
       "model_id": "55a5bc54198243c287b9d62b392d230e",
       "version_major": 2,
       "version_minor": 0
      },
      "text/plain": [
       "Processing Frames: 0it [00:00, ?it/s]"
      ]
     },
     "metadata": {},
     "output_type": "display_data"
    },
    {
     "data": {
      "application/vnd.jupyter.widget-view+json": {
       "model_id": "7439779de8a44fae8a007bae7de46640",
       "version_major": 2,
       "version_minor": 0
      },
      "text/plain": [
       "Processing Frames: 0it [00:00, ?it/s]"
      ]
     },
     "metadata": {},
     "output_type": "display_data"
    },
    {
     "data": {
      "application/vnd.jupyter.widget-view+json": {
       "model_id": "8b61ace9fb2540fc980b53581859f2c0",
       "version_major": 2,
       "version_minor": 0
      },
      "text/plain": [
       "Processing Frames: 0it [00:00, ?it/s]"
      ]
     },
     "metadata": {},
     "output_type": "display_data"
    },
    {
     "data": {
      "application/vnd.jupyter.widget-view+json": {
       "model_id": "f0e28038df6147c9bc23dc445fa8b072",
       "version_major": 2,
       "version_minor": 0
      },
      "text/plain": [
       "Processing Frames: 0it [00:00, ?it/s]"
      ]
     },
     "metadata": {},
     "output_type": "display_data"
    },
    {
     "data": {
      "application/vnd.jupyter.widget-view+json": {
       "model_id": "0c12175245334df988920c2298f739de",
       "version_major": 2,
       "version_minor": 0
      },
      "text/plain": [
       "Processing Frames: 0it [00:00, ?it/s]"
      ]
     },
     "metadata": {},
     "output_type": "display_data"
    },
    {
     "data": {
      "application/vnd.jupyter.widget-view+json": {
       "model_id": "ee002888e5f24953b8d7b3cce8bced7c",
       "version_major": 2,
       "version_minor": 0
      },
      "text/plain": [
       "Processing Frames: 0it [00:00, ?it/s]"
      ]
     },
     "metadata": {},
     "output_type": "display_data"
    },
    {
     "data": {
      "application/vnd.jupyter.widget-view+json": {
       "model_id": "9b0585aea0f94c20ae652311a014e8d9",
       "version_major": 2,
       "version_minor": 0
      },
      "text/plain": [
       "Processing Frames: 0it [00:00, ?it/s]"
      ]
     },
     "metadata": {},
     "output_type": "display_data"
    },
    {
     "data": {
      "application/vnd.jupyter.widget-view+json": {
       "model_id": "12370ddb0fc84b918519111ea125ff1b",
       "version_major": 2,
       "version_minor": 0
      },
      "text/plain": [
       "Processing Frames: 0it [00:00, ?it/s]"
      ]
     },
     "metadata": {},
     "output_type": "display_data"
    },
    {
     "data": {
      "application/vnd.jupyter.widget-view+json": {
       "model_id": "ffc8b22180a64e92ab006938fa160bd3",
       "version_major": 2,
       "version_minor": 0
      },
      "text/plain": [
       "Processing Frames: 0it [00:00, ?it/s]"
      ]
     },
     "metadata": {},
     "output_type": "display_data"
    },
    {
     "data": {
      "application/vnd.jupyter.widget-view+json": {
       "model_id": "23f1c54c5c2b49d3a88daa9d00f8dece",
       "version_major": 2,
       "version_minor": 0
      },
      "text/plain": [
       "Processing Frames: 0it [00:00, ?it/s]"
      ]
     },
     "metadata": {},
     "output_type": "display_data"
    },
    {
     "data": {
      "application/vnd.jupyter.widget-view+json": {
       "model_id": "1d984da11bac4f418f7c1f1aa35b5037",
       "version_major": 2,
       "version_minor": 0
      },
      "text/plain": [
       "Processing Frames: 0it [00:00, ?it/s]"
      ]
     },
     "metadata": {},
     "output_type": "display_data"
    },
    {
     "data": {
      "application/vnd.jupyter.widget-view+json": {
       "model_id": "bfd7626add21415998a621cae419ea89",
       "version_major": 2,
       "version_minor": 0
      },
      "text/plain": [
       "Processing Frames: 0it [00:00, ?it/s]"
      ]
     },
     "metadata": {},
     "output_type": "display_data"
    },
    {
     "data": {
      "application/vnd.jupyter.widget-view+json": {
       "model_id": "493f9c2fef7f417791a15435706e46a4",
       "version_major": 2,
       "version_minor": 0
      },
      "text/plain": [
       "Processing Frames: 0it [00:00, ?it/s]"
      ]
     },
     "metadata": {},
     "output_type": "display_data"
    },
    {
     "data": {
      "application/vnd.jupyter.widget-view+json": {
       "model_id": "987f3e33b85d431eac4f7352099d2766",
       "version_major": 2,
       "version_minor": 0
      },
      "text/plain": [
       "Processing Frames: 0it [00:00, ?it/s]"
      ]
     },
     "metadata": {},
     "output_type": "display_data"
    },
    {
     "data": {
      "application/vnd.jupyter.widget-view+json": {
       "model_id": "35024d780e524d5e8b4a9da9c017cc1f",
       "version_major": 2,
       "version_minor": 0
      },
      "text/plain": [
       "Processing Frames: 0it [00:00, ?it/s]"
      ]
     },
     "metadata": {},
     "output_type": "display_data"
    },
    {
     "data": {
      "application/vnd.jupyter.widget-view+json": {
       "model_id": "8baf76be143847d0a0ee10b8d6af17cb",
       "version_major": 2,
       "version_minor": 0
      },
      "text/plain": [
       "Processing Frames: 0it [00:00, ?it/s]"
      ]
     },
     "metadata": {},
     "output_type": "display_data"
    },
    {
     "data": {
      "application/vnd.jupyter.widget-view+json": {
       "model_id": "ae3392d9fdfa40e1aed34575b9733c0f",
       "version_major": 2,
       "version_minor": 0
      },
      "text/plain": [
       "Processing Frames: 0it [00:00, ?it/s]"
      ]
     },
     "metadata": {},
     "output_type": "display_data"
    },
    {
     "data": {
      "application/vnd.jupyter.widget-view+json": {
       "model_id": "eb957a3238b84165ae158b7f7c63f229",
       "version_major": 2,
       "version_minor": 0
      },
      "text/plain": [
       "Processing Frames: 0it [00:00, ?it/s]"
      ]
     },
     "metadata": {},
     "output_type": "display_data"
    },
    {
     "data": {
      "application/vnd.jupyter.widget-view+json": {
       "model_id": "2e30e113e2764153ab5570e87790da10",
       "version_major": 2,
       "version_minor": 0
      },
      "text/plain": [
       "Processing Frames: 0it [00:00, ?it/s]"
      ]
     },
     "metadata": {},
     "output_type": "display_data"
    },
    {
     "data": {
      "application/vnd.jupyter.widget-view+json": {
       "model_id": "40d0021931674cc8af300e909e63ca0d",
       "version_major": 2,
       "version_minor": 0
      },
      "text/plain": [
       "Processing Frames: 0it [00:00, ?it/s]"
      ]
     },
     "metadata": {},
     "output_type": "display_data"
    },
    {
     "data": {
      "application/vnd.jupyter.widget-view+json": {
       "model_id": "fdf87eb18fd64419aafdd52956fadf15",
       "version_major": 2,
       "version_minor": 0
      },
      "text/plain": [
       "Processing Frames: 0it [00:00, ?it/s]"
      ]
     },
     "metadata": {},
     "output_type": "display_data"
    },
    {
     "data": {
      "application/vnd.jupyter.widget-view+json": {
       "model_id": "f60cbad61a7d475a89cddab053d005a7",
       "version_major": 2,
       "version_minor": 0
      },
      "text/plain": [
       "Processing Frames: 0it [00:00, ?it/s]"
      ]
     },
     "metadata": {},
     "output_type": "display_data"
    },
    {
     "data": {
      "application/vnd.jupyter.widget-view+json": {
       "model_id": "8e689a60e81e4412975c83c2ba4e6e06",
       "version_major": 2,
       "version_minor": 0
      },
      "text/plain": [
       "Processing Frames: 0it [00:00, ?it/s]"
      ]
     },
     "metadata": {},
     "output_type": "display_data"
    },
    {
     "data": {
      "application/vnd.jupyter.widget-view+json": {
       "model_id": "850b5aff7e034ef2b20f53e2c7298335",
       "version_major": 2,
       "version_minor": 0
      },
      "text/plain": [
       "Processing Frames: 0it [00:00, ?it/s]"
      ]
     },
     "metadata": {},
     "output_type": "display_data"
    },
    {
     "data": {
      "application/vnd.jupyter.widget-view+json": {
       "model_id": "185c39c93ce747bb8f4c61fc5530fe35",
       "version_major": 2,
       "version_minor": 0
      },
      "text/plain": [
       "Processing Frames: 0it [00:00, ?it/s]"
      ]
     },
     "metadata": {},
     "output_type": "display_data"
    },
    {
     "data": {
      "application/vnd.jupyter.widget-view+json": {
       "model_id": "8363f40f2fc048a99b3355f9641f055d",
       "version_major": 2,
       "version_minor": 0
      },
      "text/plain": [
       "Processing Frames: 0it [00:00, ?it/s]"
      ]
     },
     "metadata": {},
     "output_type": "display_data"
    },
    {
     "data": {
      "application/vnd.jupyter.widget-view+json": {
       "model_id": "65d208c1d5604ffc94207b31d8e18bf5",
       "version_major": 2,
       "version_minor": 0
      },
      "text/plain": [
       "Processing Frames: 0it [00:00, ?it/s]"
      ]
     },
     "metadata": {},
     "output_type": "display_data"
    },
    {
     "data": {
      "application/vnd.jupyter.widget-view+json": {
       "model_id": "30138157bde9420597168079de2204ae",
       "version_major": 2,
       "version_minor": 0
      },
      "text/plain": [
       "Processing Frames: 0it [00:00, ?it/s]"
      ]
     },
     "metadata": {},
     "output_type": "display_data"
    },
    {
     "data": {
      "application/vnd.jupyter.widget-view+json": {
       "model_id": "3ad59d768d7d499e8d9adcdea60c1f53",
       "version_major": 2,
       "version_minor": 0
      },
      "text/plain": [
       "Processing Frames: 0it [00:00, ?it/s]"
      ]
     },
     "metadata": {},
     "output_type": "display_data"
    },
    {
     "data": {
      "application/vnd.jupyter.widget-view+json": {
       "model_id": "e8e08d2a1ae249f6adb5762ca5ee31ac",
       "version_major": 2,
       "version_minor": 0
      },
      "text/plain": [
       "Processing Frames: 0it [00:00, ?it/s]"
      ]
     },
     "metadata": {},
     "output_type": "display_data"
    },
    {
     "data": {
      "application/vnd.jupyter.widget-view+json": {
       "model_id": "0f102b92ae154087b1c59472e64d94f1",
       "version_major": 2,
       "version_minor": 0
      },
      "text/plain": [
       "Processing Frames: 0it [00:00, ?it/s]"
      ]
     },
     "metadata": {},
     "output_type": "display_data"
    },
    {
     "data": {
      "application/vnd.jupyter.widget-view+json": {
       "model_id": "6db5a97a9c214c4a8991d9714f4dfbfd",
       "version_major": 2,
       "version_minor": 0
      },
      "text/plain": [
       "Processing Frames: 0it [00:00, ?it/s]"
      ]
     },
     "metadata": {},
     "output_type": "display_data"
    },
    {
     "data": {
      "application/vnd.jupyter.widget-view+json": {
       "model_id": "cc0589743e194cc5ae84f4563910ecd0",
       "version_major": 2,
       "version_minor": 0
      },
      "text/plain": [
       "Processing Frames: 0it [00:00, ?it/s]"
      ]
     },
     "metadata": {},
     "output_type": "display_data"
    },
    {
     "data": {
      "application/vnd.jupyter.widget-view+json": {
       "model_id": "6d6316ec4eb24410a60202d491c1379d",
       "version_major": 2,
       "version_minor": 0
      },
      "text/plain": [
       "Processing Frames: 0it [00:00, ?it/s]"
      ]
     },
     "metadata": {},
     "output_type": "display_data"
    },
    {
     "data": {
      "application/vnd.jupyter.widget-view+json": {
       "model_id": "0efb0128467b49c2aae91f01a12d74af",
       "version_major": 2,
       "version_minor": 0
      },
      "text/plain": [
       "Processing Frames: 0it [00:00, ?it/s]"
      ]
     },
     "metadata": {},
     "output_type": "display_data"
    },
    {
     "data": {
      "application/vnd.jupyter.widget-view+json": {
       "model_id": "ff4db50949b64de5a5f5a46b2fcd361a",
       "version_major": 2,
       "version_minor": 0
      },
      "text/plain": [
       "Processing Frames: 0it [00:00, ?it/s]"
      ]
     },
     "metadata": {},
     "output_type": "display_data"
    },
    {
     "data": {
      "application/vnd.jupyter.widget-view+json": {
       "model_id": "c3d4118d173f44fe97233fefb47a50f0",
       "version_major": 2,
       "version_minor": 0
      },
      "text/plain": [
       "Processing Frames: 0it [00:00, ?it/s]"
      ]
     },
     "metadata": {},
     "output_type": "display_data"
    },
    {
     "data": {
      "application/vnd.jupyter.widget-view+json": {
       "model_id": "9f23297e00e04add836e8cc160b3f1cb",
       "version_major": 2,
       "version_minor": 0
      },
      "text/plain": [
       "Processing Frames: 0it [00:00, ?it/s]"
      ]
     },
     "metadata": {},
     "output_type": "display_data"
    },
    {
     "data": {
      "application/vnd.jupyter.widget-view+json": {
       "model_id": "ccf6a34573ec47a9b3a944587106451a",
       "version_major": 2,
       "version_minor": 0
      },
      "text/plain": [
       "Processing Frames: 0it [00:00, ?it/s]"
      ]
     },
     "metadata": {},
     "output_type": "display_data"
    },
    {
     "data": {
      "application/vnd.jupyter.widget-view+json": {
       "model_id": "2ee6fae6ef3741cc8e15793ac44c56fc",
       "version_major": 2,
       "version_minor": 0
      },
      "text/plain": [
       "Processing Frames: 0it [00:00, ?it/s]"
      ]
     },
     "metadata": {},
     "output_type": "display_data"
    },
    {
     "data": {
      "application/vnd.jupyter.widget-view+json": {
       "model_id": "f0cb19cd17eb424aa9b8634a32ff11d3",
       "version_major": 2,
       "version_minor": 0
      },
      "text/plain": [
       "Processing Frames: 0it [00:00, ?it/s]"
      ]
     },
     "metadata": {},
     "output_type": "display_data"
    },
    {
     "data": {
      "application/vnd.jupyter.widget-view+json": {
       "model_id": "47e994127f8b4ae592a54e3fcd28cfe4",
       "version_major": 2,
       "version_minor": 0
      },
      "text/plain": [
       "Processing Frames: 0it [00:00, ?it/s]"
      ]
     },
     "metadata": {},
     "output_type": "display_data"
    },
    {
     "data": {
      "application/vnd.jupyter.widget-view+json": {
       "model_id": "80c2d400b5d34545b776e00b7d22de56",
       "version_major": 2,
       "version_minor": 0
      },
      "text/plain": [
       "Processing Frames: 0it [00:00, ?it/s]"
      ]
     },
     "metadata": {},
     "output_type": "display_data"
    },
    {
     "data": {
      "application/vnd.jupyter.widget-view+json": {
       "model_id": "78fa3a28da03414fa21826ba7d0be20d",
       "version_major": 2,
       "version_minor": 0
      },
      "text/plain": [
       "Processing Frames: 0it [00:00, ?it/s]"
      ]
     },
     "metadata": {},
     "output_type": "display_data"
    },
    {
     "data": {
      "application/vnd.jupyter.widget-view+json": {
       "model_id": "0897af4863934b9ebedab8e565139974",
       "version_major": 2,
       "version_minor": 0
      },
      "text/plain": [
       "Processing Frames: 0it [00:00, ?it/s]"
      ]
     },
     "metadata": {},
     "output_type": "display_data"
    },
    {
     "data": {
      "application/vnd.jupyter.widget-view+json": {
       "model_id": "6d26002ea0aa4fa898a088358319d3dd",
       "version_major": 2,
       "version_minor": 0
      },
      "text/plain": [
       "Processing Frames: 0it [00:00, ?it/s]"
      ]
     },
     "metadata": {},
     "output_type": "display_data"
    },
    {
     "data": {
      "application/vnd.jupyter.widget-view+json": {
       "model_id": "8c64837a1bc24db0947dc16defe1359c",
       "version_major": 2,
       "version_minor": 0
      },
      "text/plain": [
       "Processing Frames: 0it [00:00, ?it/s]"
      ]
     },
     "metadata": {},
     "output_type": "display_data"
    },
    {
     "data": {
      "application/vnd.jupyter.widget-view+json": {
       "model_id": "dccfed505f5f4cc6a8b8ec935d5ab9b7",
       "version_major": 2,
       "version_minor": 0
      },
      "text/plain": [
       "Processing Frames: 0it [00:00, ?it/s]"
      ]
     },
     "metadata": {},
     "output_type": "display_data"
    },
    {
     "data": {
      "application/vnd.jupyter.widget-view+json": {
       "model_id": "1538b45bb8a64e39a4df96c5d271ab42",
       "version_major": 2,
       "version_minor": 0
      },
      "text/plain": [
       "Processing Frames: 0it [00:00, ?it/s]"
      ]
     },
     "metadata": {},
     "output_type": "display_data"
    },
    {
     "data": {
      "application/vnd.jupyter.widget-view+json": {
       "model_id": "8effbb6cd8ed4063b4893b7d55b4ab53",
       "version_major": 2,
       "version_minor": 0
      },
      "text/plain": [
       "Processing Frames: 0it [00:00, ?it/s]"
      ]
     },
     "metadata": {},
     "output_type": "display_data"
    },
    {
     "data": {
      "application/vnd.jupyter.widget-view+json": {
       "model_id": "2c7e78641c4348b8931756aa2a282475",
       "version_major": 2,
       "version_minor": 0
      },
      "text/plain": [
       "Processing Frames: 0it [00:00, ?it/s]"
      ]
     },
     "metadata": {},
     "output_type": "display_data"
    },
    {
     "data": {
      "application/vnd.jupyter.widget-view+json": {
       "model_id": "39bc227abaab4e2194d16ed87391e52e",
       "version_major": 2,
       "version_minor": 0
      },
      "text/plain": [
       "Processing Frames: 0it [00:00, ?it/s]"
      ]
     },
     "metadata": {},
     "output_type": "display_data"
    },
    {
     "data": {
      "application/vnd.jupyter.widget-view+json": {
       "model_id": "990dac68be944717981b4b6d06fe961e",
       "version_major": 2,
       "version_minor": 0
      },
      "text/plain": [
       "Processing Frames: 0it [00:00, ?it/s]"
      ]
     },
     "metadata": {},
     "output_type": "display_data"
    },
    {
     "data": {
      "application/vnd.jupyter.widget-view+json": {
       "model_id": "49bf6ee9298743b4b7c1faee80ce2745",
       "version_major": 2,
       "version_minor": 0
      },
      "text/plain": [
       "Processing Frames: 0it [00:00, ?it/s]"
      ]
     },
     "metadata": {},
     "output_type": "display_data"
    },
    {
     "data": {
      "application/vnd.jupyter.widget-view+json": {
       "model_id": "904d60f929c34d8a9ae810fff5f5946d",
       "version_major": 2,
       "version_minor": 0
      },
      "text/plain": [
       "Processing Frames: 0it [00:00, ?it/s]"
      ]
     },
     "metadata": {},
     "output_type": "display_data"
    },
    {
     "data": {
      "application/vnd.jupyter.widget-view+json": {
       "model_id": "94b1329bee1049598d6929cbb105ad14",
       "version_major": 2,
       "version_minor": 0
      },
      "text/plain": [
       "Processing Frames: 0it [00:00, ?it/s]"
      ]
     },
     "metadata": {},
     "output_type": "display_data"
    },
    {
     "data": {
      "application/vnd.jupyter.widget-view+json": {
       "model_id": "2403990d217f488fb5bad86402949372",
       "version_major": 2,
       "version_minor": 0
      },
      "text/plain": [
       "Processing Frames: 0it [00:00, ?it/s]"
      ]
     },
     "metadata": {},
     "output_type": "display_data"
    },
    {
     "data": {
      "application/vnd.jupyter.widget-view+json": {
       "model_id": "23820a53776348b6a3628de9cc240344",
       "version_major": 2,
       "version_minor": 0
      },
      "text/plain": [
       "Processing Frames: 0it [00:00, ?it/s]"
      ]
     },
     "metadata": {},
     "output_type": "display_data"
    },
    {
     "data": {
      "application/vnd.jupyter.widget-view+json": {
       "model_id": "8e7c0d9220d348b4b60ced79825cb4d2",
       "version_major": 2,
       "version_minor": 0
      },
      "text/plain": [
       "Processing Frames: 0it [00:00, ?it/s]"
      ]
     },
     "metadata": {},
     "output_type": "display_data"
    },
    {
     "data": {
      "application/vnd.jupyter.widget-view+json": {
       "model_id": "32c27ef92c2e46629fb412792b158c63",
       "version_major": 2,
       "version_minor": 0
      },
      "text/plain": [
       "Processing Frames: 0it [00:00, ?it/s]"
      ]
     },
     "metadata": {},
     "output_type": "display_data"
    },
    {
     "data": {
      "application/vnd.jupyter.widget-view+json": {
       "model_id": "1c8b26f9959543ea9ae2f444e829403f",
       "version_major": 2,
       "version_minor": 0
      },
      "text/plain": [
       "Processing Frames: 0it [00:00, ?it/s]"
      ]
     },
     "metadata": {},
     "output_type": "display_data"
    },
    {
     "data": {
      "application/vnd.jupyter.widget-view+json": {
       "model_id": "b19d8375a7654c9bb5a6e1bb6d4ebb0a",
       "version_major": 2,
       "version_minor": 0
      },
      "text/plain": [
       "Processing Frames: 0it [00:00, ?it/s]"
      ]
     },
     "metadata": {},
     "output_type": "display_data"
    },
    {
     "data": {
      "application/vnd.jupyter.widget-view+json": {
       "model_id": "e1d954dc12e44d03add5f6a2092631d9",
       "version_major": 2,
       "version_minor": 0
      },
      "text/plain": [
       "Processing Frames: 0it [00:00, ?it/s]"
      ]
     },
     "metadata": {},
     "output_type": "display_data"
    },
    {
     "data": {
      "application/vnd.jupyter.widget-view+json": {
       "model_id": "f61391ec888f4cd586380a9c4660c9b0",
       "version_major": 2,
       "version_minor": 0
      },
      "text/plain": [
       "Processing Frames: 0it [00:00, ?it/s]"
      ]
     },
     "metadata": {},
     "output_type": "display_data"
    },
    {
     "data": {
      "application/vnd.jupyter.widget-view+json": {
       "model_id": "e708fe9b314746bf9710f1551f3e52d3",
       "version_major": 2,
       "version_minor": 0
      },
      "text/plain": [
       "Processing Frames: 0it [00:00, ?it/s]"
      ]
     },
     "metadata": {},
     "output_type": "display_data"
    },
    {
     "data": {
      "application/vnd.jupyter.widget-view+json": {
       "model_id": "8e75da048f304d8fa84220620dc66b04",
       "version_major": 2,
       "version_minor": 0
      },
      "text/plain": [
       "Processing Frames: 0it [00:00, ?it/s]"
      ]
     },
     "metadata": {},
     "output_type": "display_data"
    },
    {
     "data": {
      "application/vnd.jupyter.widget-view+json": {
       "model_id": "d9911637a3d0481085a97c2d66b20b36",
       "version_major": 2,
       "version_minor": 0
      },
      "text/plain": [
       "Processing Frames: 0it [00:00, ?it/s]"
      ]
     },
     "metadata": {},
     "output_type": "display_data"
    },
    {
     "data": {
      "application/vnd.jupyter.widget-view+json": {
       "model_id": "fb421f6ebf0d401f8037fe14f2c9cbe0",
       "version_major": 2,
       "version_minor": 0
      },
      "text/plain": [
       "Processing Frames: 0it [00:00, ?it/s]"
      ]
     },
     "metadata": {},
     "output_type": "display_data"
    },
    {
     "data": {
      "application/vnd.jupyter.widget-view+json": {
       "model_id": "7019dc1080774b64ad0e5a155fd0da1d",
       "version_major": 2,
       "version_minor": 0
      },
      "text/plain": [
       "Processing Frames: 0it [00:00, ?it/s]"
      ]
     },
     "metadata": {},
     "output_type": "display_data"
    },
    {
     "data": {
      "application/vnd.jupyter.widget-view+json": {
       "model_id": "d784430c81544e52a26d9017f61d665e",
       "version_major": 2,
       "version_minor": 0
      },
      "text/plain": [
       "Processing Frames: 0it [00:00, ?it/s]"
      ]
     },
     "metadata": {},
     "output_type": "display_data"
    },
    {
     "data": {
      "application/vnd.jupyter.widget-view+json": {
       "model_id": "1ea1eac9c2734aba909f7068ea5799d7",
       "version_major": 2,
       "version_minor": 0
      },
      "text/plain": [
       "Processing Frames: 0it [00:00, ?it/s]"
      ]
     },
     "metadata": {},
     "output_type": "display_data"
    },
    {
     "data": {
      "application/vnd.jupyter.widget-view+json": {
       "model_id": "80d5e3215d4049a4b08d30e32e2a8d3a",
       "version_major": 2,
       "version_minor": 0
      },
      "text/plain": [
       "Processing Frames: 0it [00:00, ?it/s]"
      ]
     },
     "metadata": {},
     "output_type": "display_data"
    },
    {
     "data": {
      "application/vnd.jupyter.widget-view+json": {
       "model_id": "70792c1118cb44be9aa73ee697fa20e8",
       "version_major": 2,
       "version_minor": 0
      },
      "text/plain": [
       "Processing Frames: 0it [00:00, ?it/s]"
      ]
     },
     "metadata": {},
     "output_type": "display_data"
    },
    {
     "data": {
      "application/vnd.jupyter.widget-view+json": {
       "model_id": "d3e1441cb1c94f94845d796d935dea3c",
       "version_major": 2,
       "version_minor": 0
      },
      "text/plain": [
       "Processing Frames: 0it [00:00, ?it/s]"
      ]
     },
     "metadata": {},
     "output_type": "display_data"
    },
    {
     "data": {
      "application/vnd.jupyter.widget-view+json": {
       "model_id": "6ba220f509bd4a0388c2b5746bcdf142",
       "version_major": 2,
       "version_minor": 0
      },
      "text/plain": [
       "Processing Frames: 0it [00:00, ?it/s]"
      ]
     },
     "metadata": {},
     "output_type": "display_data"
    },
    {
     "data": {
      "application/vnd.jupyter.widget-view+json": {
       "model_id": "ca6942a9ec4940e88f6d21d6bfd0a6d0",
       "version_major": 2,
       "version_minor": 0
      },
      "text/plain": [
       "Processing Frames: 0it [00:00, ?it/s]"
      ]
     },
     "metadata": {},
     "output_type": "display_data"
    },
    {
     "data": {
      "application/vnd.jupyter.widget-view+json": {
       "model_id": "471a5e286e134b9ca0f6068efce4f2b9",
       "version_major": 2,
       "version_minor": 0
      },
      "text/plain": [
       "Processing Frames: 0it [00:00, ?it/s]"
      ]
     },
     "metadata": {},
     "output_type": "display_data"
    },
    {
     "data": {
      "application/vnd.jupyter.widget-view+json": {
       "model_id": "f4813edc51e74d2cb0806913c4160140",
       "version_major": 2,
       "version_minor": 0
      },
      "text/plain": [
       "Processing Frames: 0it [00:00, ?it/s]"
      ]
     },
     "metadata": {},
     "output_type": "display_data"
    },
    {
     "data": {
      "application/vnd.jupyter.widget-view+json": {
       "model_id": "841745e0e6364da6bd03c7cbb22162ce",
       "version_major": 2,
       "version_minor": 0
      },
      "text/plain": [
       "Processing Frames: 0it [00:00, ?it/s]"
      ]
     },
     "metadata": {},
     "output_type": "display_data"
    },
    {
     "data": {
      "application/vnd.jupyter.widget-view+json": {
       "model_id": "a44af608260d4f75bcbf1f91707acded",
       "version_major": 2,
       "version_minor": 0
      },
      "text/plain": [
       "Processing Frames: 0it [00:00, ?it/s]"
      ]
     },
     "metadata": {},
     "output_type": "display_data"
    },
    {
     "data": {
      "application/vnd.jupyter.widget-view+json": {
       "model_id": "960afaa943a148a582a60acecf119b17",
       "version_major": 2,
       "version_minor": 0
      },
      "text/plain": [
       "Processing Frames: 0it [00:00, ?it/s]"
      ]
     },
     "metadata": {},
     "output_type": "display_data"
    }
   ],
   "source": [
    "for context_name in tqdm(context_names, desc=\"Processing Contexts\"):\n",
    "    # Read the components\n",
    "    lidar_segmentation_df = pd.read_parquet(f'{dataset_dir}/lidar_segmentation/{context_name}')\n",
    "    lidar_df = pd.read_parquet(f'{dataset_dir}/lidar/{context_name}')\n",
    "    camera_df = pd.read_parquet(f'{dataset_dir}/camera_image/{context_name}')\n",
    "    lidar_calibration_df = pd.read_parquet(f'{dataset_dir}/lidar_calibration/{context_name}')\n",
    "    lidar_camera_projection_df = pd.read_parquet(f'{dataset_dir}/lidar_camera_projection/{context_name}')\n",
    "    # lidar calibration is per context\n",
    "    lidar_calibration = lidar_calibration_df[lidar_calibration_df['key.laser_name'] == 1]\n",
    "    extrinsic = lidar_calibration['[LiDARCalibrationComponent].extrinsic.transform'].values[0].reshape(4, 4)\n",
    "    beam_inclination = lidar_calibration['[LiDARCalibrationComponent].beam_inclination.values'].values[0]\n",
    "\n",
    "    # Go through each frame in the context\n",
    "    for frame_index, frame_data in tqdm(lidar_segmentation_df.iterrows(), desc=\"Processing Frames\"):\n",
    "        timestamp = frame_data.get('key.frame_timestamp_micros', None)\n",
    "        # from now on:\n",
    "        # label from lidar_segmentation\n",
    "        # lidar data from lidar and lidar_camera_projection\n",
    "        # camera data from camera\n",
    "        # all filtered by timestamp\n",
    "        label_channel = lidar_segmentation_df[lidar_segmentation_df['key.frame_timestamp_micros'] == timestamp]['[LiDARSegmentationLabelComponent].range_image_return1.values']\n",
    "        label_channel = np.array(label_channel.values[0]).reshape(height, width, 2)  \n",
    "        lidar_channel = lidar_df[(lidar_df['key.frame_timestamp_micros'] == timestamp) & (lidar_df['key.laser_name'] == 1)]['[LiDARComponent].range_image_return1.values']\n",
    "        lidar_channel = np.array(lidar_channel.values[0]).reshape(height, width, 4)  \n",
    "        lidar_camera_projection = lidar_camera_projection_df[(lidar_camera_projection_df['key.frame_timestamp_micros'] == timestamp) & (lidar_camera_projection_df['key.laser_name'] == 1)]['[LiDARCameraProjectionComponent].range_image_return1.values']\n",
    "        lidar_camera_projection = np.array(lidar_camera_projection.values[0]).reshape(height, width, 6)\n",
    "        cameras = camera_df[camera_df['key.frame_timestamp_micros'] == timestamp]\n",
    "        # go through each row in cameras, decode the image with [CameraImageComponent].image and key.camera_name\n",
    "        cam_images = {}\n",
    "        for index, row in cameras.iterrows():\n",
    "            cam_images[row['key.camera_name']] = decode_jpeg_image(row['[CameraImageComponent].image'])\n",
    "        pcd = colorize_waymo(label_channel, lidar_channel, extrinsic, beam_inclination, lidar_camera_projection, cam_images)\n",
    "        # save pcd to file\n",
    "        output_file = os.path.join(preprocess_dir, context_name.replace('.parquet', f'_{timestamp}.bin'))\n",
    "        pcd.astype(np.float32).tofile(output_file)\n",
    "\n"
   ]
  }
 ],
 "metadata": {
  "kernelspec": {
   "display_name": "waymo311",
   "language": "python",
   "name": "python3"
  },
  "language_info": {
   "codemirror_mode": {
    "name": "ipython",
    "version": 3
   },
   "file_extension": ".py",
   "mimetype": "text/x-python",
   "name": "python",
   "nbconvert_exporter": "python",
   "pygments_lexer": "ipython3",
   "version": "3.11.11"
  }
 },
 "nbformat": 4,
 "nbformat_minor": 5
}
