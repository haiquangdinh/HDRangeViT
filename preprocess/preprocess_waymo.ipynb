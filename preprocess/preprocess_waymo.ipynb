{
 "cells": [
  {
   "cell_type": "markdown",
   "id": "c65c5bd0",
   "metadata": {},
   "source": [
    "### Required package\n",
    "pandas\n",
    "numpy\n",
    "pyarrow\n",
    "fastparquet"
   ]
  },
  {
   "cell_type": "code",
   "execution_count": 1,
   "id": "ff871a35",
   "metadata": {},
   "outputs": [],
   "source": [
    "import pandas as pd\n",
    "import numpy as np\n",
    "import matplotlib.pyplot as plt"
   ]
  },
  {
   "cell_type": "markdown",
   "id": "0d86fe81",
   "metadata": {},
   "source": [
    "### tag name:\n",
    "\n",
    "camera_box, camera_calibration, camera_hkp, camera_image, camera_segmentation, camera_to_lidar_box_association\n",
    "\n",
    "lidar, lidar_box, lidar_calibration, lidar_camera_projection, lidar_camera_synced_box, lidar_hkp, lidar_pose, lidar_segmentation\n",
    "\n",
    "projected_lidar_box, stats, vehicle_pose"
   ]
  },
  {
   "cell_type": "code",
   "execution_count": 4,
   "id": "223d8d35",
   "metadata": {},
   "outputs": [],
   "source": [
    "# Path to the directory with all components\n",
    "dataset_dir = '../../WoD/validation'\n",
    "\n",
    "context_name = '17065833287841703_2980_000_3000_000'\n",
    "\n",
    "def read(tag: str) -> pd:\n",
    "  \"\"\"Creates a Dask DataFrame for the component specified by its tag.\"\"\"\n",
    "  paths = f'{dataset_dir}/{tag}/{context_name}.parquet'\n",
    "  return pd.read_parquet(paths)"
   ]
  },
  {
   "cell_type": "markdown",
   "id": "1c8fe4dc",
   "metadata": {},
   "source": [
    "#### lidar\n",
    "[LiDARComponent].range_image_return1\n",
    "\n",
    "[64, 2650, 4]\n",
    "\n",
    "channel 0: range (see spherical coordinate system definition)\n",
    "\n",
    "channel 1: lidar intensity\n",
    "\n",
    "channel 2: lidar elongation\n",
    "\n",
    "channel 3: is_in_nlz (1 = in, -1 = not in)"
   ]
  },
  {
   "cell_type": "markdown",
   "id": "2d5686fc",
   "metadata": {},
   "source": [
    "#### lidar_camera_projection\n",
    "[LiDARCameraProjectionComponent].range_image_return1\n",
    "\n",
    "[6, 2650, 6]\n",
    "\n",
    "channel 0: camera name\n",
    "\n",
    "channel 1: x (axis along image width)\n",
    "\n",
    "channel 2: y (axis along image height)\n",
    "\n",
    "channel 3: camera name of 2nd projection (set to UNKNOWN if no projection)\n",
    "\n",
    "channel 4: x (axis along image width)\n",
    "\n",
    "channel 5: y (axis along image height)"
   ]
  },
  {
   "cell_type": "code",
   "execution_count": 10,
   "id": "95bc2ae7",
   "metadata": {},
   "outputs": [
    {
     "name": "stdout",
     "output_type": "stream",
     "text": [
      "(64, 2650, 4)\n"
     ]
    }
   ],
   "source": [
    "lidar_df = read('lidar')\n",
    "# Let's inspect the first frame's data\n",
    "lidar_df1 = lidar_df.iloc[0]\n",
    "shape = lidar_df1['[LiDARComponent].range_image_return1.shape']\n",
    "range_image_flat = lidar_df1['[LiDARComponent].range_image_return1.values']\n",
    "range_image = np.array(range_image_flat).reshape(shape)\n",
    "print(range_image.shape)  # "
   ]
  },
  {
   "cell_type": "code",
   "execution_count": 14,
   "id": "33891de4",
   "metadata": {},
   "outputs": [],
   "source": [
    "lidar_segmentation_df = read('lidar_segmentation')\n",
    "lidar_segmentation_df1 = lidar_segmentation_df.iloc[0]\n",
    "shape = lidar_segmentation_df1['[LiDARSegmentationLabelComponent].range_image_return1.shape']\n",
    "label_flat = lidar_segmentation_df1['[LiDARSegmentationLabelComponent].range_image_return1.values']"
   ]
  },
  {
   "cell_type": "code",
   "execution_count": 19,
   "id": "e9608de4",
   "metadata": {},
   "outputs": [],
   "source": [
    "label_image = np.array(label_flat).reshape(shape)\n",
    "label_image1 = label_image[..., 0]\n",
    "label_image2 = label_image[..., 1]"
   ]
  },
  {
   "cell_type": "code",
   "execution_count": 25,
   "id": "c6fd8c5b",
   "metadata": {},
   "outputs": [],
   "source": [
    "camera_image_df = read('camera_image')\n",
    "camera_image_df1 = camera_image_df.iloc[0]\n",
    "im1 = camera_image_df1['[CameraImageComponent].image']\n"
   ]
  },
  {
   "cell_type": "code",
   "execution_count": 27,
   "id": "9c02719f",
   "metadata": {},
   "outputs": [],
   "source": [
    "# im1 is a jpeg image, need to decode it\n",
    "from PIL import Image\n",
    "import io\n",
    "im1 = Image.open(io.BytesIO(im1))\n",
    "im1 = im1.convert(\"RGB\")\n",
    "# show image\n"
   ]
  },
  {
   "cell_type": "code",
   "execution_count": 28,
   "id": "febf997c",
   "metadata": {},
   "outputs": [],
   "source": [
    "im1.show()"
   ]
  },
  {
   "cell_type": "code",
   "execution_count": 22,
   "id": "29f0691f",
   "metadata": {},
   "outputs": [
    {
     "name": "stdout",
     "output_type": "stream",
     "text": [
      "Label image 1 unique values: [ -1   0  28  29  30  31  32  33  34  35  36  37  45  48  49  56  57  58\n",
      "  60  61  62  65  66  68  75  76  77  79  80  81 258]\n",
      "Label image 2 unique values: [ 0  1  8  9 10 11 13 14 15 16 17 18 19 20 21 22]\n"
     ]
    }
   ],
   "source": [
    "#  print state of label\n",
    "print(\"Label image 1 unique values:\", np.unique(label_image1))\n",
    "print(\"Label image 2 unique values:\", np.unique(label_image2))"
   ]
  },
  {
   "cell_type": "code",
   "execution_count": 21,
   "id": "8bec6bd1",
   "metadata": {},
   "outputs": [
    {
     "data": {
      "text/plain": [
       "<matplotlib.image.AxesImage at 0x1960b51f9d0>"
      ]
     },
     "execution_count": 21,
     "metadata": {},
     "output_type": "execute_result"
    },
    {
     "data": {
      "image/png": "[encoded data removed]",
      "text/plain": [
       "<Figure size 640x480 with 1 Axes>"
      ]
     },
     "metadata": {},
     "output_type": "display_data"
    }
   ],
   "source": [
    "plt.imshow(label_image1, cmap='tab20')"
   ]
  },
  {
   "cell_type": "code",
   "execution_count": null,
   "id": "2c04420c",
   "metadata": {},
   "outputs": [],
   "source": [
    "# lidar_camera_projection_df = read('lidar_camera_projection')\n",
    "# lidar_camera_projection_df1 = lidar_camera_projection_df.iloc[0]\n",
    "# shape = lidar_camera_projection_df1['[LiDARCameraProjectionComponent].range_image_return1.shape']\n",
    "# range_image_flat = lidar_camera_projection_df1['[LiDARCameraProjectionComponent].range_image_return1.values']\n",
    "# range_image = np.array(range_image_flat).reshape(shape)"
   ]
  },
  {
   "cell_type": "code",
   "execution_count": 11,
   "id": "5aeb58cf",
   "metadata": {},
   "outputs": [
    {
     "data": {
      "text/plain": [
       "<matplotlib.image.AxesImage at 0x196084ba710>"
      ]
     },
     "execution_count": 11,
     "metadata": {},
     "output_type": "execute_result"
    },
    {
     "data": {
      "image/png": "[encoded data removed]",
      "text/plain": [
       "<Figure size 1200x400 with 1 Axes>"
      ]
     },
     "metadata": {},
     "output_type": "display_data"
    }
   ],
   "source": [
    "range_channel = range_image[..., 0]\n",
    "intensity_channel = range_image[..., 1]\n",
    "#  save range_channel as png like heatmap\n",
    "plt.imsave('range_channel.png', range_channel, cmap='hot')\n",
    "# Plot the range channel\n",
    "plt.figure(figsize=(12, 4))\n",
    "plt.imshow(range_channel)"
   ]
  }
 ],
 "metadata": {
  "kernelspec": {
   "display_name": "waymo",
   "language": "python",
   "name": "python3"
  },
  "language_info": {
   "codemirror_mode": {
    "name": "ipython",
    "version": 3
   },
   "file_extension": ".py",
   "mimetype": "text/x-python",
   "name": "python",
   "nbconvert_exporter": "python",
   "pygments_lexer": "ipython3",
   "version": "3.13.5"
  }
 },
 "nbformat": 4,
 "nbformat_minor": 5
}
